{
 "cells": [
  {
   "cell_type": "markdown",
   "metadata": {},
   "source": [
    "# BFS-Breadth First Search 广度优先搜索\n",
    "# DFS-Deep First Search 深度优先搜索"
   ]
  },
  {
   "cell_type": "code",
   "execution_count": 1,
   "metadata": {},
   "outputs": [],
   "source": [
    "import networkx\n",
    "%matplotlib inline"
   ]
  },
  {
   "cell_type": "code",
   "execution_count": 2,
   "metadata": {},
   "outputs": [],
   "source": [
    "graph = {\n",
    "    'A' : 'B C',\n",
    "    'B' : 'A C',\n",
    "    'C' : 'A B D E',\n",
    "    'D' : 'C',\n",
    "    'E' : 'C F',\n",
    "    'F' : 'E'\n",
    "}"
   ]
  },
  {
   "cell_type": "code",
   "execution_count": 3,
   "metadata": {},
   "outputs": [],
   "source": [
    "for k in graph:\n",
    "    graph[k] = set(graph[k].split())"
   ]
  },
  {
   "cell_type": "code",
   "execution_count": 4,
   "metadata": {},
   "outputs": [
    {
     "data": {
      "text/plain": [
       "{'A': {'B', 'C'},\n",
       " 'B': {'A', 'C'},\n",
       " 'C': {'A', 'B', 'D', 'E'},\n",
       " 'D': {'C'},\n",
       " 'E': {'C', 'F'},\n",
       " 'F': {'E'}}"
      ]
     },
     "execution_count": 4,
     "metadata": {},
     "output_type": "execute_result"
    }
   ],
   "source": [
    "graph"
   ]
  },
  {
   "cell_type": "code",
   "execution_count": 5,
   "metadata": {},
   "outputs": [],
   "source": [
    "graph2 = networkx.Graph(graph)"
   ]
  },
  {
   "cell_type": "code",
   "execution_count": 6,
   "metadata": {},
   "outputs": [
    {
     "data": {
      "image/png": "[encoded data removed]",
      "text/plain": [
       "<Figure size 432x288 with 1 Axes>"
      ]
     },
     "metadata": {},
     "output_type": "display_data"
    }
   ],
   "source": [
    "networkx.draw(graph2,with_labels=True)"
   ]
  },
  {
   "cell_type": "code",
   "execution_count": 7,
   "metadata": {},
   "outputs": [],
   "source": [
    "seen = set()"
   ]
  },
  {
   "cell_type": "code",
   "execution_count": 8,
   "metadata": {},
   "outputs": [],
   "source": [
    "need_visit = ['A']"
   ]
  },
  {
   "cell_type": "markdown",
   "metadata": {},
   "source": [
    "## BFS"
   ]
  },
  {
   "cell_type": "code",
   "execution_count": 9,
   "metadata": {},
   "outputs": [
    {
     "name": "stdout",
     "output_type": "stream",
     "text": [
      "Looking for A\n",
      "Looking for C\n",
      "Looking for B\n",
      "Looking for D\n",
      "Looking for E\n",
      "Looking for F\n"
     ]
    }
   ],
   "source": [
    "while need_visit:\n",
    "    node = need_visit.pop(0)\n",
    "    if node in seen: continue\n",
    "    print('Looking for {}'.format(node))\n",
    "    need_visit += graph[node]\n",
    "    seen.add(node)"
   ]
  },
  {
   "cell_type": "markdown",
   "metadata": {},
   "source": [
    "## DFS"
   ]
  },
  {
   "cell_type": "code",
   "execution_count": 10,
   "metadata": {},
   "outputs": [],
   "source": [
    "graph_dfs = {\n",
    "    '1' : '2 7',\n",
    "    '2' : '3',\n",
    "    '3' : '4',\n",
    "    '4' : '5',\n",
    "    '5' : '6 10',\n",
    "    '6' : '5',\n",
    "    '7' : '8',\n",
    "    '8' : '9',\n",
    "    '9' : '10',\n",
    "    '10' : '5 11',\n",
    "    '11' : '12',\n",
    "    '12' : '11'\n",
    "}"
   ]
  },
  {
   "cell_type": "code",
   "execution_count": 11,
   "metadata": {},
   "outputs": [
    {
     "data": {
      "text/plain": [
       "{'1': ['2', '7'],\n",
       " '2': ['3'],\n",
       " '3': ['4'],\n",
       " '4': ['5'],\n",
       " '5': ['6', '10'],\n",
       " '6': ['5'],\n",
       " '7': ['8'],\n",
       " '8': ['9'],\n",
       " '9': ['10'],\n",
       " '10': ['5', '11'],\n",
       " '11': ['12'],\n",
       " '12': ['11']}"
      ]
     },
     "execution_count": 11,
     "metadata": {},
     "output_type": "execute_result"
    }
   ],
   "source": [
    "for n in graph_dfs : graph_dfs[n] = graph_dfs[n].split()\n",
    "graph_dfs"
   ]
  },
  {
   "cell_type": "code",
   "execution_count": 12,
   "metadata": {},
   "outputs": [],
   "source": [
    "graph_dfs2 = networkx.Graph(graph_dfs)"
   ]
  },
  {
   "cell_type": "code",
   "execution_count": 13,
   "metadata": {},
   "outputs": [
    {
     "data": {
      "image/png": "[encoded data removed]",
      "text/plain": [
       "<Figure size 432x288 with 1 Axes>"
      ]
     },
     "metadata": {},
     "output_type": "display_data"
    }
   ],
   "source": [
    "networkx.draw(graph_dfs2,with_labels=True)"
   ]
  },
  {
   "cell_type": "code",
   "execution_count": 14,
   "metadata": {},
   "outputs": [],
   "source": [
    "seen2 = set()"
   ]
  },
  {
   "cell_type": "code",
   "execution_count": 15,
   "metadata": {},
   "outputs": [],
   "source": [
    "need_visit2 = ['1']"
   ]
  },
  {
   "cell_type": "code",
   "execution_count": 16,
   "metadata": {},
   "outputs": [
    {
     "name": "stdout",
     "output_type": "stream",
     "text": [
      "Looking for 1\n",
      "['2', '7']\n",
      "Looking for 2\n",
      "['3', '7']\n",
      "Looking for 3\n",
      "['4', '7']\n",
      "Looking for 4\n",
      "['5', '7']\n",
      "Looking for 5\n",
      "['6', '10', '7']\n",
      "Looking for 6\n",
      "['5', '10', '7']\n",
      "Looking for 10\n",
      "['5', '11', '7']\n",
      "Looking for 11\n",
      "['12', '7']\n",
      "Looking for 12\n",
      "['11', '7']\n",
      "Looking for 7\n",
      "['8']\n",
      "Looking for 8\n",
      "['9']\n",
      "Looking for 9\n",
      "['10']\n"
     ]
    }
   ],
   "source": [
    "while need_visit2:\n",
    "    node = need_visit2.pop(0)\n",
    "    if node in seen2 : continue\n",
    "    print('Looking for {}'.format(node))\n",
    "    need_visit2 = graph_dfs[node] + need_visit2\n",
    "    print(need_visit2)\n",
    "    seen2.add(node)\n",
    "    "
   ]
  },
  {
   "cell_type": "markdown",
   "metadata": {},
   "source": [
    "## common"
   ]
  },
  {
   "cell_type": "code",
   "execution_count": 17,
   "metadata": {},
   "outputs": [],
   "source": [
    "def search (graph,concat_func):\n",
    "    seen = set()\n",
    "    need_visit = ['1']\n",
    "    \n",
    "    while need_visit:\n",
    "        node = need_visit.pop(0)\n",
    "        if node in seen: continue\n",
    "        print(\"Looking for {}\".format(node))\n",
    "        seen.add(node)\n",
    "        new_discover = graph[node]\n",
    "        need_visit = concat_func(new_discover,need_visit)"
   ]
  },
  {
   "cell_type": "code",
   "execution_count": 18,
   "metadata": {},
   "outputs": [],
   "source": [
    "def bfs_discover_func(new_discover,need_visit):\n",
    "    return need_visit + new_discover\n",
    "    "
   ]
  },
  {
   "cell_type": "code",
   "execution_count": 19,
   "metadata": {},
   "outputs": [],
   "source": [
    "def dfs_discover_func(new_discover,need_visit):\n",
    "    return new_discover + need_visit"
   ]
  },
  {
   "cell_type": "code",
   "execution_count": 20,
   "metadata": {},
   "outputs": [
    {
     "name": "stdout",
     "output_type": "stream",
     "text": [
      "Looking for 1\n",
      "Looking for 2\n",
      "Looking for 3\n",
      "Looking for 4\n",
      "Looking for 5\n",
      "Looking for 6\n",
      "Looking for 10\n",
      "Looking for 11\n",
      "Looking for 12\n",
      "Looking for 7\n",
      "Looking for 8\n",
      "Looking for 9\n"
     ]
    }
   ],
   "source": [
    "search(graph_dfs,dfs_discover_func)"
   ]
  },
  {
   "cell_type": "code",
   "execution_count": 21,
   "metadata": {},
   "outputs": [
    {
     "name": "stdout",
     "output_type": "stream",
     "text": [
      "Looking for 1\n",
      "Looking for 2\n",
      "Looking for 7\n",
      "Looking for 3\n",
      "Looking for 8\n",
      "Looking for 4\n",
      "Looking for 9\n",
      "Looking for 5\n",
      "Looking for 10\n",
      "Looking for 6\n",
      "Looking for 11\n",
      "Looking for 12\n"
     ]
    }
   ],
   "source": [
    "search(graph_dfs,bfs_discover_func)"
   ]
  },
  {
   "cell_type": "markdown",
   "metadata": {},
   "source": [
    "## Partial 偏函数"
   ]
  },
  {
   "cell_type": "code",
   "execution_count": 22,
   "metadata": {},
   "outputs": [],
   "source": [
    "from functools import partial"
   ]
  },
  {
   "cell_type": "code",
   "execution_count": 23,
   "metadata": {},
   "outputs": [],
   "source": [
    " dfs = partial(search,concat_func=dfs_discover_func)"
   ]
  },
  {
   "cell_type": "code",
   "execution_count": 24,
   "metadata": {},
   "outputs": [
    {
     "name": "stdout",
     "output_type": "stream",
     "text": [
      "Looking for 1\n",
      "Looking for 2\n",
      "Looking for 3\n",
      "Looking for 4\n",
      "Looking for 5\n",
      "Looking for 6\n",
      "Looking for 10\n",
      "Looking for 11\n",
      "Looking for 12\n",
      "Looking for 7\n",
      "Looking for 8\n",
      "Looking for 9\n"
     ]
    }
   ],
   "source": [
    "dfs(graph_dfs)"
   ]
  },
  {
   "cell_type": "code",
   "execution_count": 25,
   "metadata": {},
   "outputs": [],
   "source": [
    "bfs = partial(search,concat_func= bfs_discover_func)"
   ]
  },
  {
   "cell_type": "code",
   "execution_count": 26,
   "metadata": {},
   "outputs": [
    {
     "name": "stdout",
     "output_type": "stream",
     "text": [
      "Looking for 1\n",
      "Looking for 2\n",
      "Looking for 7\n",
      "Looking for 3\n",
      "Looking for 8\n",
      "Looking for 4\n",
      "Looking for 9\n",
      "Looking for 5\n",
      "Looking for 10\n",
      "Looking for 6\n",
      "Looking for 11\n",
      "Looking for 12\n"
     ]
    }
   ],
   "source": [
    "bfs(graph_dfs)"
   ]
  },
  {
   "cell_type": "markdown",
   "metadata": {},
   "source": [
    "## Mapping"
   ]
  },
  {
   "cell_type": "code",
   "execution_count": 27,
   "metadata": {},
   "outputs": [],
   "source": [
    "BJ = 'Beijing'\n",
    "SZ = 'Shenzhen'\n",
    "GZ = 'Guangzhou'\n",
    "WH = 'Wuhan'\n",
    "HLJ = 'Heilongjiang'\n",
    "NY = 'New York City'\n",
    "CM = 'Chiangmai'\n",
    "SG = 'Singapore'"
   ]
  },
  {
   "cell_type": "code",
   "execution_count": 28,
   "metadata": {},
   "outputs": [],
   "source": [
    "air_route = {\n",
    "    BJ : {SZ,GZ,WH,HLJ,NY,CM},\n",
    "    GZ : {WH,BJ,CM},\n",
    "    SZ : {BJ,SG},\n",
    "    WH : {BJ,GZ},\n",
    "    HLJ : {BJ,CM},\n",
    "    CM : {GZ,HLJ,BJ},\n",
    "    NY : {BJ}\n",
    "}"
   ]
  },
  {
   "cell_type": "code",
   "execution_count": 29,
   "metadata": {},
   "outputs": [
    {
     "name": "stdout",
     "output_type": "stream",
     "text": [
      "{'Beijing': {'Shenzhen', 'Guangzhou', 'New York City', 'Wuhan', 'Heilongjiang', 'Chiangmai'}, 'Guangzhou': {'Wuhan', 'Beijing', 'Chiangmai'}, 'Shenzhen': {'Beijing', 'Singapore'}, 'Wuhan': {'Guangzhou', 'Beijing'}, 'Heilongjiang': {'Beijing', 'Chiangmai'}, 'Chiangmai': {'Guangzhou', 'Beijing', 'Heilongjiang'}, 'New York City': {'Beijing'}}\n"
     ]
    }
   ],
   "source": [
    "print(air_route)"
   ]
  },
  {
   "cell_type": "code",
   "execution_count": 30,
   "metadata": {},
   "outputs": [],
   "source": [
    "air_route = networkx.Graph(air_route)"
   ]
  },
  {
   "cell_type": "code",
   "execution_count": 31,
   "metadata": {
    "scrolled": true
   },
   "outputs": [
    {
     "data": {
      "image/png": "[encoded data removed]",
      "text/plain": [
       "<Figure size 432x288 with 1 Axes>"
      ]
     },
     "metadata": {},
     "output_type": "display_data"
    }
   ],
   "source": [
    "networkx.draw(air_route,with_labels=True)"
   ]
  },
  {
   "cell_type": "code",
   "execution_count": 32,
   "metadata": {},
   "outputs": [],
   "source": [
    "def search_destination(graph, start, destination):\n",
    "    pathes = [[start]]\n",
    "    seen = set()\n",
    "    found_path = []\n",
    "    while pathes:\n",
    "        #print(pathes)\n",
    "        path = pathes.pop(0)\n",
    "        froniter = path[-1]\n",
    "        \n",
    "        if froniter in seen : continue\n",
    "        #print(path)\n",
    "        seen.add(froniter)\n",
    "        \n",
    "        for city in graph[froniter]:\n",
    "            new_path = path + [city]\n",
    "            pathes.append(new_path)\n",
    "            if city == destination : found_path.append(new_path)\n",
    "    return found_path"
   ]
  },
  {
   "cell_type": "code",
   "execution_count": 33,
   "metadata": {},
   "outputs": [],
   "source": [
    "def draw_route(cities): return  ' ✈ '.join(cities)"
   ]
  },
  {
   "cell_type": "code",
   "execution_count": 34,
   "metadata": {},
   "outputs": [],
   "source": [
    "routes = search_destination(air_route,SG, CM)"
   ]
  },
  {
   "cell_type": "code",
   "execution_count": 35,
   "metadata": {},
   "outputs": [
    {
     "name": "stdout",
     "output_type": "stream",
     "text": [
      "Singapore ✈ Shenzhen ✈ Beijing ✈ Chiangmai\n",
      "Singapore ✈ Shenzhen ✈ Beijing ✈ Guangzhou ✈ Chiangmai\n",
      "Singapore ✈ Shenzhen ✈ Beijing ✈ Heilongjiang ✈ Chiangmai\n"
     ]
    }
   ],
   "source": [
    "for e in routes:\n",
    "    print(draw_route(e))"
   ]
  }
 ],
 "metadata": {
  "kernelspec": {
   "display_name": "Python 3",
   "language": "python",
   "name": "python3"
  },
  "language_info": {
   "codemirror_mode": {
    "name": "ipython",
    "version": 3
   },
   "file_extension": ".py",
   "mimetype": "text/x-python",
   "name": "python",
   "nbconvert_exporter": "python",
   "pygments_lexer": "ipython3",
   "version": "3.7.0"
  }
 },
 "nbformat": 4,
 "nbformat_minor": 2
}
