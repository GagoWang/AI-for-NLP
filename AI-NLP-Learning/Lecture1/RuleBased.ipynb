{
 "cells": [
  {
   "cell_type": "markdown",
   "metadata": {},
   "source": [
    "# Rule Based"
   ]
  },
  {
   "cell_type": "code",
   "execution_count": 1,
   "metadata": {},
   "outputs": [],
   "source": [
    "import random"
   ]
  },
  {
   "cell_type": "code",
   "execution_count": 2,
   "metadata": {},
   "outputs": [],
   "source": [
    "grammar=\"\"\"\n",
    "sentense = adj noun verb adj2 noun2\n",
    "adj = 漂亮 | 蓝色 | 好看 | null | adj2\n",
    "adj2 = 幽默的 | 厉害的\n",
    "noun = 猫 | 女人 | 男人 | noun3\n",
    "verb = 看着 | 坐着\n",
    "noun2 = 桌子 | 皮球\n",
    "noun3 = 皮孩 | 小哥\n",
    "\"\"\""
   ]
  },
  {
   "cell_type": "markdown",
   "metadata": {},
   "source": [
    "## a simple solution"
   ]
  },
  {
   "cell_type": "code",
   "execution_count": 3,
   "metadata": {
    "scrolled": false
   },
   "outputs": [],
   "source": [
    "def adj():\n",
    "    return  random.choice(\"漂亮 | 蓝色 | 好看\".split('|'))"
   ]
  },
  {
   "cell_type": "code",
   "execution_count": 4,
   "metadata": {},
   "outputs": [],
   "source": [
    "def noun():\n",
    "    return random.choice(\"猫 | 女人 | 男人\".split('|'))"
   ]
  },
  {
   "cell_type": "code",
   "execution_count": 5,
   "metadata": {},
   "outputs": [],
   "source": [
    "def verb():\n",
    "    return random.choice(\"看着 | 坐着\".split('|'))"
   ]
  },
  {
   "cell_type": "code",
   "execution_count": 6,
   "metadata": {},
   "outputs": [],
   "source": [
    "def noun2():\n",
    "    return random.choice(\"桌子 | 皮球\".split('|'))"
   ]
  },
  {
   "cell_type": "code",
   "execution_count": 7,
   "metadata": {},
   "outputs": [],
   "source": [
    "def sentense():\n",
    "    return ''.join([adj(),noun(),verb(),noun2()])"
   ]
  },
  {
   "cell_type": "markdown",
   "metadata": {},
   "source": [
    "## a general solution"
   ]
  },
  {
   "cell_type": "code",
   "execution_count": 8,
   "metadata": {},
   "outputs": [],
   "source": [
    "def build_grammar(grammar_str,split_str='='):\n",
    "    grammar_pattern = {}\n",
    "    for line in grammar_str.split('\\n'):\n",
    "        if not line: continue\n",
    "        statement,expr = line.split(split_str)\n",
    "        grammar_pattern[statement.strip()]=[ e.split() for e in expr.split('|')]\n",
    "    return grammar_pattern"
   ]
  },
  {
   "cell_type": "code",
   "execution_count": 9,
   "metadata": {},
   "outputs": [
    {
     "name": "stdout",
     "output_type": "stream",
     "text": [
      "{'sentense': [['adj', 'noun', 'verb', 'adj2', 'noun2']], 'adj': [['漂亮'], ['蓝色'], ['好看'], ['null'], ['adj2']], 'adj2': [['幽默的'], ['厉害的']], 'noun': [['猫'], ['女人'], ['男人'], ['noun3']], 'verb': [['看着'], ['坐着']], 'noun2': [['桌子'], ['皮球']], 'noun3': [['皮孩'], ['小哥']]}\n"
     ]
    }
   ],
   "source": [
    "grammar_pattern = build_grammar(grammar)\n",
    "print(grammar_pattern)"
   ]
  },
  {
   "cell_type": "code",
   "execution_count": 10,
   "metadata": {},
   "outputs": [],
   "source": [
    "def generate(grammar_pattern, target):\n",
    "    if target not in grammar_pattern : return target\n",
    "    expr = random.choice(grammar_pattern[target])\n",
    "    tokens = [generate(grammar_pattern,e) for e in expr ]\n",
    "    return ''.join([t for t in tokens if t != 'null'])\n",
    "    #return ''.join(generate(grammar_pattern,e) for e in expr if e !='null')"
   ]
  },
  {
   "cell_type": "code",
   "execution_count": 11,
   "metadata": {},
   "outputs": [
    {
     "data": {
      "text/plain": [
       "'幽默的男人坐着幽默的皮球'"
      ]
     },
     "execution_count": 11,
     "metadata": {},
     "output_type": "execute_result"
    }
   ],
   "source": [
    "generate(grammar_pattern,'sentense')"
   ]
  }
 ],
 "metadata": {
  "celltoolbar": "Raw Cell Format",
  "kernelspec": {
   "display_name": "Python 3",
   "language": "python",
   "name": "python3"
  },
  "language_info": {
   "codemirror_mode": {
    "name": "ipython",
    "version": 3
   },
   "file_extension": ".py",
   "mimetype": "text/x-python",
   "name": "python",
   "nbconvert_exporter": "python",
   "pygments_lexer": "ipython3",
   "version": "3.7.0"
  }
 },
 "nbformat": 4,
 "nbformat_minor": 2
}
