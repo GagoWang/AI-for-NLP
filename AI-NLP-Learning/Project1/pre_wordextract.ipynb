{
 "cells": [
  {
   "cell_type": "code",
   "execution_count": 1,
   "metadata": {},
   "outputs": [],
   "source": [
    "import jieba\n",
    "import pandas as pd\n",
    "import time\n",
    "import re"
   ]
  },
  {
   "cell_type": "code",
   "execution_count": 2,
   "metadata": {},
   "outputs": [],
   "source": [
    "content = pd.read_csv('../train/sqlResult_1558435.csv',encoding='gb18030')"
   ]
  },
  {
   "cell_type": "code",
   "execution_count": 3,
   "metadata": {},
   "outputs": [],
   "source": [
    "content = content.fillna('')"
   ]
  },
  {
   "cell_type": "code",
   "execution_count": 4,
   "metadata": {},
   "outputs": [],
   "source": [
    "all_content =' '.join(content['content'].tolist())"
   ]
  },
  {
   "cell_type": "code",
   "execution_count": 5,
   "metadata": {},
   "outputs": [
    {
     "data": {
      "text/plain": [
       "38818836"
      ]
     },
     "execution_count": 5,
     "metadata": {},
     "output_type": "execute_result"
    }
   ],
   "source": [
    "len(all_content)"
   ]
  },
  {
   "cell_type": "code",
   "execution_count": 10,
   "metadata": {},
   "outputs": [],
   "source": [
    "def cut(string): return list(jieba.cut(string))"
   ]
  },
  {
   "cell_type": "code",
   "execution_count": 14,
   "metadata": {},
   "outputs": [],
   "source": [
    "def token(string):\n",
    "    return re.findall(r'[\\w\\d]+',string)"
   ]
  },
  {
   "cell_type": "code",
   "execution_count": 15,
   "metadata": {},
   "outputs": [],
   "source": [
    "all_content = ''.join(token(all_content))"
   ]
  },
  {
   "cell_type": "code",
   "execution_count": 16,
   "metadata": {},
   "outputs": [
    {
     "name": "stderr",
     "output_type": "stream",
     "text": [
      "Building prefix dict from the default dictionary ...\n",
      "Loading model from cache /var/folders/_1/8g6kq5zs3h97jlvhdzj6dldc0000gp/T/jieba.cache\n",
      "Loading model cost 0.804 seconds.\n",
      "Prefix dict has been built succesfully.\n"
     ]
    }
   ],
   "source": [
    "all_cut_words = cut(all_content)"
   ]
  },
  {
   "cell_type": "code",
   "execution_count": 19,
   "metadata": {},
   "outputs": [],
   "source": [
    "with open('../news_corpus.txt', 'w', encoding='utf-8') as f:\n",
    "    f.write(' '.join(all_cut_words))"
   ]
  },
  {
   "cell_type": "code",
   "execution_count": 22,
   "metadata": {},
   "outputs": [],
   "source": [
    "with open('../train_wiki_news_corpus.txt', 'a') as output_f:\n",
    "    output_f.write(' '.join(all_cut_words))"
   ]
  },
  {
   "cell_type": "code",
   "execution_count": null,
   "metadata": {},
   "outputs": [],
   "source": []
  },
  {
   "cell_type": "code",
   "execution_count": 102,
   "metadata": {},
   "outputs": [],
   "source": [
    "def cut_sent(para):\n",
    "    para = re.sub('[\\r]',r'',para)\n",
    "    para = re.sub('([。！？\\?])([^”])',r\"\\1\\n\\2\",para) # 单字符断句符\n",
    "    para = re.sub('(\\.{6})([^”])',r\"\\1\\n\\2\",para) # 英文省略号\n",
    "    para = re.sub('(\\…{2})([^” ) ）])',r\"\\1\\n\\2\",para) # 中文省略号\n",
    "    #para = re.sub('(”)','”\\n',para)   # 把分句符\\n放到双引号后，注意前面的几句都小心保留了双引号\n",
    "    para = para.rstrip()       # 段尾如果有多余的\\n就去掉它\n",
    "    #很多规则中会考虑分号;，但是这里我把它忽略不计，破折号、英文双引号等同样忽略，需要的再做些简单调整即可。\n",
    "    return para.split(\"\\n\")"
   ]
  },
  {
   "cell_type": "code",
   "execution_count": 103,
   "metadata": {},
   "outputs": [],
   "source": [
    "new_content = '\\n'.join(content.content)"
   ]
  },
  {
   "cell_type": "code",
   "execution_count": 128,
   "metadata": {},
   "outputs": [],
   "source": [
    "#切句\n",
    "with open('../train/news_cut_sentence.txt', 'w', encoding='utf-8') as f:\n",
    "    f.write('\\n'.join(x for x in cut_sent(new_content) if x))"
   ]
  },
  {
   "cell_type": "code",
   "execution_count": 6,
   "metadata": {},
   "outputs": [],
   "source": [
    "sen=[]\n",
    "with open('../train/news_cut_sentence.txt', 'r', encoding='utf-8') as f:\n",
    "    sen=f.read().split('\\n')"
   ]
  },
  {
   "cell_type": "code",
   "execution_count": null,
   "metadata": {},
   "outputs": [],
   "source": []
  },
  {
   "cell_type": "code",
   "execution_count": 11,
   "metadata": {},
   "outputs": [],
   "source": [
    "from gensim.models import Word2Vec"
   ]
  },
  {
   "cell_type": "code",
   "execution_count": 12,
   "metadata": {},
   "outputs": [],
   "source": [
    "from gensim.models.word2vec import LineSentence"
   ]
  },
  {
   "cell_type": "code",
   "execution_count": 4,
   "metadata": {},
   "outputs": [
    {
     "name": "stdout",
     "output_type": "stream",
     "text": [
      "1640.1000580787659\n"
     ]
    }
   ],
   "source": [
    "s = time.time()\n",
    "model = Word2Vec(LineSentence('../train_wiki_news_corpus.txt'), min_count=5, size=40,workers=8)\n",
    "e = time.time()\n",
    "print(e-s)"
   ]
  },
  {
   "cell_type": "code",
   "execution_count": 5,
   "metadata": {},
   "outputs": [],
   "source": [
    "model.save('../word2vecModel/wiki_news_corpus_model_5_40')"
   ]
  },
  {
   "cell_type": "code",
   "execution_count": 9,
   "metadata": {},
   "outputs": [
    {
     "data": {
      "text/plain": [
       "[('微积分', 0.9190504550933838),\n",
       " ('数学分析', 0.9046077132225037),\n",
       " ('数论', 0.8968438506126404),\n",
       " ('逻辑学', 0.8888925313949585),\n",
       " ('数理逻辑', 0.8845503926277161),\n",
       " ('概率论', 0.8833284974098206),\n",
       " ('拓扑学', 0.8758421540260315),\n",
       " ('纯数学', 0.8646337985992432),\n",
       " ('理论物理学', 0.8636034727096558),\n",
       " ('计算机科学', 0.859412670135498),\n",
       " ('高等数学', 0.8561244606971741),\n",
       " ('三角学', 0.8522976040840149),\n",
       " ('理论物理', 0.8500341773033142),\n",
       " ('群论', 0.8463723659515381),\n",
       " ('量子场论', 0.8457542657852173),\n",
       " ('电磁学', 0.8452684879302979),\n",
       " ('算术', 0.8416410684585571),\n",
       " ('量子力学', 0.8410530090332031),\n",
       " ('物理学', 0.8398241996765137),\n",
       " ('语言学', 0.8377435207366943),\n",
       " ('微积分学', 0.8360921740531921),\n",
       " ('统计学', 0.8349641561508179),\n",
       " ('数学知识', 0.8318045139312744),\n",
       " ('解析几何', 0.8316671252250671),\n",
       " ('统计力学', 0.8308815956115723),\n",
       " ('线性代数', 0.8291342258453369),\n",
       " ('代数学', 0.8272193670272827),\n",
       " ('哲学', 0.8266081213951111),\n",
       " ('物理', 0.8262129426002502),\n",
       " ('力学', 0.8240675926208496)]"
      ]
     },
     "execution_count": 9,
     "metadata": {},
     "output_type": "execute_result"
    }
   ],
   "source": [
    "model.wv.most_similar('数学',topn=30)"
   ]
  },
  {
   "cell_type": "code",
   "execution_count": 3,
   "metadata": {},
   "outputs": [],
   "source": [
    "model111 = Word2Vec.load('../word2vecModel/wiki_news_corpus_model_5_40')"
   ]
  },
  {
   "cell_type": "code",
   "execution_count": 5,
   "metadata": {},
   "outputs": [
    {
     "data": {
      "text/plain": [
       "[('大陆', 0.7929396629333496),\n",
       " ('我国', 0.788699746131897),\n",
       " ('内地', 0.7753056287765503),\n",
       " ('韩国', 0.7735400795936584),\n",
       " ('中华人民共和国', 0.7675270438194275),\n",
       " ('全国', 0.7519695162773132),\n",
       " ('东亚', 0.7358080744743347),\n",
       " ('欧美', 0.7326491475105286),\n",
       " ('国内', 0.7224422097206116),\n",
       " ('各国', 0.7195731997489929)]"
      ]
     },
     "execution_count": 5,
     "metadata": {},
     "output_type": "execute_result"
    }
   ],
   "source": [
    "model111.wv.most_similar('中国')"
   ]
  },
  {
   "cell_type": "markdown",
   "metadata": {},
   "source": [
    "## get related words (说)"
   ]
  },
  {
   "cell_type": "code",
   "execution_count": 32,
   "metadata": {},
   "outputs": [],
   "source": [
    "from collections import defaultdict"
   ]
  },
  {
   "cell_type": "code",
   "execution_count": 33,
   "metadata": {},
   "outputs": [],
   "source": [
    "def get_related_words(initial_words, model):\n",
    "    max_size = 300\n",
    "    seen = defaultdict(int)\n",
    "    unseen = [initial_words]\n",
    "    \n",
    "    while unseen and len(seen) < max_size:\n",
    "        if len(seen) % 100 == 0:\n",
    "            print('seen length: {}'.format(len(seen)))\n",
    "        node = unseen.pop(0)\n",
    "\n",
    "        new_expanding = [w for w, s in model.most_similar(node, topn=30)]\n",
    "        \n",
    "        unseen += new_expanding\n",
    "        \n",
    "        seen[node] += 1  \n",
    "        # if we need more sophsiticated, we need change the value as the function(layer, similarity)\n",
    "    seen = sort_by_count_and_similarity(initial_words,seen,model)\n",
    "    return seen"
   ]
  },
  {
   "cell_type": "code",
   "execution_count": 34,
   "metadata": {},
   "outputs": [],
   "source": [
    "def sort_by_count(nodes,model):\n",
    "    return sorted(nodes.items(), key=lambda x: x[1], reverse=True)"
   ]
  },
  {
   "cell_type": "code",
   "execution_count": 35,
   "metadata": {},
   "outputs": [],
   "source": [
    "def sort_by_count_and_similarity(initial_words,nodes,model):\n",
    "    return sorted(nodes.items(), key=lambda x: x[1]*0.1+model.wv.similarity(initial_words,x[0])*0.9, reverse=True)"
   ]
  },
  {
   "cell_type": "code",
   "execution_count": 8,
   "metadata": {
    "scrolled": true
   },
   "outputs": [
    {
     "name": "stdout",
     "output_type": "stream",
     "text": [
      "seen length: 0\n"
     ]
    },
    {
     "name": "stderr",
     "output_type": "stream",
     "text": [
      "/Users/Gago/Workplace/Software/Anaconda/anaconda3/lib/python3.7/site-packages/ipykernel_launcher.py:11: DeprecationWarning: Call to deprecated `most_similar` (Method will be removed in 4.0.0, use self.wv.most_similar() instead).\n",
      "  # This is added back by InteractiveShellApp.init_path()\n"
     ]
    },
    {
     "name": "stdout",
     "output_type": "stream",
     "text": [
      "seen length: 100\n",
      "seen length: 100\n",
      "seen length: 200\n",
      "seen length: 300\n",
      "seen length: 400\n"
     ]
    }
   ],
   "source": [
    "related_words = get_related_words('说', model111)"
   ]
  },
  {
   "cell_type": "code",
   "execution_count": 15,
   "metadata": {},
   "outputs": [
    {
     "data": {
      "text/plain": [
       "[('问道', 0.8809996247291565),\n",
       " ('问', 0.8770667314529419),\n",
       " ('回答', 0.867761492729187),\n",
       " ('说道', 0.8495763540267944),\n",
       " ('反问', 0.8487993478775024),\n",
       " ('却说', 0.8391307592391968),\n",
       " ('感叹', 0.8343255519866943),\n",
       " ('所说', 0.8281114101409912),\n",
       " ('告诉', 0.8260884881019592),\n",
       " ('答道', 0.8256169557571411),\n",
       " ('告诫', 0.8029030561447144),\n",
       " ('说出', 0.786902666091919),\n",
       " ('问起', 0.7853075265884399),\n",
       " ('要说', 0.7842749357223511),\n",
       " ('质问', 0.7834882736206055),\n",
       " ('打趣', 0.7785637378692627),\n",
       " ('指出', 0.7749508619308472),\n",
       " ('常说', 0.7744086980819702),\n",
       " ('直言', 0.7738279700279236),\n",
       " ('地说', 0.7734838724136353),\n",
       " ('想想', 0.7702670693397522),\n",
       " ('明白', 0.7682356834411621),\n",
       " ('知道', 0.7679475545883179),\n",
       " ('文说', 0.7657732963562012),\n",
       " ('他称', 0.7641598582267761),\n",
       " ('慨叹', 0.7631779909133911),\n",
       " ('认为', 0.761385440826416),\n",
       " ('骂', 0.7561197280883789),\n",
       " ('时说', 0.7559938430786133),\n",
       " ('答', 0.7556079030036926),\n",
       " ('问过', 0.7549947500228882),\n",
       " ('明说', 0.7532150149345398),\n",
       " ('深信', 0.7518712282180786),\n",
       " ('吹嘘', 0.7513055205345154),\n",
       " ('称', 0.7502215504646301),\n",
       " ('为什么', 0.7495254874229431),\n",
       " ('觉得', 0.7478095293045044),\n",
       " ('哀叹', 0.7474174499511719),\n",
       " ('讥讽', 0.7460389733314514),\n",
       " ('取笑', 0.7456760406494141),\n",
       " ('写道', 0.7448394298553467),\n",
       " ('反驳', 0.7436639070510864),\n",
       " ('讲出', 0.7419814467430115),\n",
       " ('以为', 0.7395259737968445),\n",
       " ('相信', 0.7383831739425659),\n",
       " ('讥笑', 0.7357015609741211),\n",
       " ('声称', 0.7350531220436096),\n",
       " ('说成', 0.7343365550041199),\n",
       " ('抱怨', 0.733879566192627),\n",
       " ('开玩笑', 0.7315657138824463)]"
      ]
     },
     "execution_count": 15,
     "metadata": {},
     "output_type": "execute_result"
    }
   ],
   "source": [
    "model111.wv.most_similar('说',topn=50)"
   ]
  },
  {
   "cell_type": "code",
   "execution_count": 23,
   "metadata": {},
   "outputs": [],
   "source": []
  },
  {
   "cell_type": "code",
   "execution_count": null,
   "metadata": {},
   "outputs": [],
   "source": []
  },
  {
   "cell_type": "code",
   "execution_count": 37,
   "metadata": {},
   "outputs": [
    {
     "name": "stdout",
     "output_type": "stream",
     "text": [
      "2083.4742789268494\n"
     ]
    }
   ],
   "source": [
    "s = time.time()\n",
    "model = Word2Vec(LineSentence('../train/train_wiki_news_corpus.txt'), min_count=1, size=100,workers=8)\n",
    "e = time.time()\n",
    "print(e-s)"
   ]
  },
  {
   "cell_type": "code",
   "execution_count": 39,
   "metadata": {},
   "outputs": [
    {
     "data": {
      "text/plain": [
       "[('说道', 0.7962644100189209),\n",
       " ('指出', 0.7750760316848755),\n",
       " ('却说', 0.7660485506057739),\n",
       " ('反问', 0.7601529359817505),\n",
       " ('问', 0.7598448991775513),\n",
       " ('所说', 0.7582904696464539),\n",
       " ('问道', 0.7556657195091248),\n",
       " ('告诉', 0.7554758191108704),\n",
       " ('声称', 0.7288131713867188),\n",
       " ('回答', 0.7264024019241333),\n",
       " ('文说', 0.7223842144012451),\n",
       " ('所言', 0.7169530391693115),\n",
       " ('答道', 0.716424822807312),\n",
       " ('时说', 0.7014147043228149),\n",
       " ('告诫', 0.6953698396682739),\n",
       " ('直言', 0.6940948963165283),\n",
       " ('表示', 0.6939635276794434),\n",
       " ('明说', 0.691307008266449),\n",
       " ('写道', 0.6882731318473816),\n",
       " ('认为', 0.6880528926849365),\n",
       " ('答', 0.683323860168457),\n",
       " ('慨叹', 0.6830087900161743),\n",
       " ('坚称', 0.6771796345710754),\n",
       " ('感叹', 0.6769365072250366),\n",
       " ('觉得', 0.6764885187149048),\n",
       " ('相信', 0.6756546497344971),\n",
       " ('宣称', 0.673690915107727),\n",
       " ('提到', 0.6731791496276855),\n",
       " ('质问', 0.6722986698150635),\n",
       " ('坦言', 0.6684993505477905),\n",
       " ('地说', 0.6680620312690735),\n",
       " ('明言', 0.6658352017402649),\n",
       " ('中说', 0.665518045425415),\n",
       " ('辩称', 0.6651843786239624),\n",
       " ('说出', 0.6627188324928284),\n",
       " ('他称', 0.6617944836616516),\n",
       " ('断言', 0.6566848754882812),\n",
       " ('看来', 0.652694821357727),\n",
       " ('暗指', 0.6522748470306396),\n",
       " ('确信', 0.6495038866996765),\n",
       " ('为什么', 0.6455259323120117),\n",
       " ('常说', 0.6437188386917114),\n",
       " ('称', 0.6432778835296631),\n",
       " ('还称', 0.642229437828064),\n",
       " ('坦承', 0.6356722712516785),\n",
       " ('谈到', 0.6355331540107727),\n",
       " ('深信', 0.6337450742721558),\n",
       " ('要说', 0.6332074403762817),\n",
       " ('吹嘘', 0.6309817433357239),\n",
       " ('怒斥', 0.6297045946121216)]"
      ]
     },
     "execution_count": 39,
     "metadata": {},
     "output_type": "execute_result"
    }
   ],
   "source": [
    "model.wv.most_similar('说',topn=50)"
   ]
  },
  {
   "cell_type": "code",
   "execution_count": 40,
   "metadata": {},
   "outputs": [],
   "source": [
    "model.save('../word2vecModel/wiki_news_corpus_model_1_100')"
   ]
  },
  {
   "cell_type": "code",
   "execution_count": 13,
   "metadata": {},
   "outputs": [],
   "source": [
    "model = Word2Vec.load('../word2vecModel/wiki_news_corpus_model_1_50')"
   ]
  },
  {
   "cell_type": "code",
   "execution_count": 41,
   "metadata": {},
   "outputs": [
    {
     "name": "stdout",
     "output_type": "stream",
     "text": [
      "seen length: 0\n"
     ]
    },
    {
     "name": "stderr",
     "output_type": "stream",
     "text": [
      "/Users/Gago/Workplace/Software/Anaconda/anaconda3/lib/python3.7/site-packages/ipykernel_launcher.py:11: DeprecationWarning: Call to deprecated `most_similar` (Method will be removed in 4.0.0, use self.wv.most_similar() instead).\n",
      "  # This is added back by InteractiveShellApp.init_path()\n"
     ]
    },
    {
     "name": "stdout",
     "output_type": "stream",
     "text": [
      "seen length: 100\n",
      "seen length: 200\n",
      "seen length: 200\n"
     ]
    }
   ],
   "source": [
    "related_words = get_related_words('说', model)"
   ]
  },
  {
   "cell_type": "code",
   "execution_count": 43,
   "metadata": {},
   "outputs": [
    {
     "data": {
      "text/plain": [
       "[('说', 22),\n",
       " ('反问', 18),\n",
       " ('却说', 17),\n",
       " ('问道', 16),\n",
       " ('问', 15),\n",
       " ('说道', 14),\n",
       " ('答道', 14),\n",
       " ('慨叹', 12),\n",
       " ('回答', 11),\n",
       " ('告诫', 11),\n",
       " ('感叹', 10),\n",
       " ('质问', 10),\n",
       " ('告诉', 9),\n",
       " ('指出', 8),\n",
       " ('声称', 8),\n",
       " ('直言', 8),\n",
       " ('大骂', 8),\n",
       " ('曾言', 8),\n",
       " ('答', 7),\n",
       " ('相信', 7),\n",
       " ('宣称', 7),\n",
       " ('坦言', 7),\n",
       " ('写道', 6),\n",
       " ('辩称', 6),\n",
       " ('断言', 6),\n",
       " ('所说', 5),\n",
       " ('坦承', 6),\n",
       " ('骂', 6),\n",
       " ('文说', 5),\n",
       " ('叮嘱', 6),\n",
       " ('坚称', 5),\n",
       " ('提到', 5),\n",
       " ('他称', 5),\n",
       " ('确信', 5),\n",
       " ('还称', 5),\n",
       " ('怒斥', 5),\n",
       " ('脱口而出', 5),\n",
       " ('时说', 4),\n",
       " ('认为', 4),\n",
       " ('说出', 4),\n",
       " ('谈到', 4),\n",
       " ('吹嘘', 4),\n",
       " ('指称', 4),\n",
       " ('并不认为', 4),\n",
       " ('反驳', 4),\n",
       " ('所言', 3),\n",
       " ('信中称', 4),\n",
       " ('喊道', 4),\n",
       " ('请问', 4),\n",
       " ('戏言', 4),\n",
       " ('询问', 4),\n",
       " ('表示', 3),\n",
       " ('痛骂', 4),\n",
       " ('指责', 4),\n",
       " ('问起', 4),\n",
       " ('明言', 3),\n",
       " ('告戒', 4),\n",
       " ('看来', 3),\n",
       " ('原话', 3),\n",
       " ('一再强调', 3),\n",
       " ('责备', 3),\n",
       " ('大喊', 3),\n",
       " ('暗示', 3),\n",
       " ('说完', 3),\n",
       " ('自问', 4),\n",
       " ('自述', 3),\n",
       " ('解释', 3),\n",
       " ('自言', 3),\n",
       " ('直说', 3),\n",
       " ('强调', 3),\n",
       " ('明说', 2),\n",
       " ('追问', 3),\n",
       " ('责怪', 3),\n",
       " ('问过', 3),\n",
       " ('觉得', 2),\n",
       " ('透露', 3),\n",
       " ('所述', 3),\n",
       " ('地说', 2),\n",
       " ('中说', 2),\n",
       " ('否认', 3),\n",
       " ('表明', 3),\n",
       " ('称', 2),\n",
       " ('推说', 3),\n",
       " ('唱道', 3),\n",
       " ('赞道', 3),\n",
       " ('特别强调', 2),\n",
       " ('知道', 2),\n",
       " ('断定', 2),\n",
       " ('说辞', 2),\n",
       " ('形容', 2),\n",
       " ('想想', 2),\n",
       " ('说明', 2),\n",
       " ('想到', 2),\n",
       " ('不以为然', 2),\n",
       " ('并谓', 2),\n",
       " ('哀叹', 2),\n",
       " ('斥责', 2),\n",
       " ('言', 2),\n",
       " ('叹息', 3),\n",
       " ('明确指出', 2)]"
      ]
     },
     "execution_count": 43,
     "metadata": {},
     "output_type": "execute_result"
    }
   ],
   "source": [
    "related_words[:100]"
   ]
  },
  {
   "cell_type": "code",
   "execution_count": 44,
   "metadata": {},
   "outputs": [],
   "source": [
    "say_words = set()"
   ]
  },
  {
   "cell_type": "code",
   "execution_count": 45,
   "metadata": {},
   "outputs": [],
   "source": [
    "for i in related_words[:100]:\n",
    "    say_words.add(i[0])"
   ]
  },
  {
   "cell_type": "code",
   "execution_count": 46,
   "metadata": {},
   "outputs": [],
   "source": [
    "with open('../train/say_words.txt','w+',encoding='utf-8') as outputf:\n",
    "    outputf.write(' '.join(say_words))"
   ]
  },
  {
   "cell_type": "code",
   "execution_count": null,
   "metadata": {},
   "outputs": [],
   "source": []
  },
  {
   "cell_type": "markdown",
   "metadata": {},
   "source": [
    "## get word frequency"
   ]
  },
  {
   "cell_type": "code",
   "execution_count": 22,
   "metadata": {},
   "outputs": [],
   "source": [
    "word_frequency = {}"
   ]
  },
  {
   "cell_type": "code",
   "execution_count": 24,
   "metadata": {},
   "outputs": [],
   "source": [
    "with open('../train/train_wiki_news_corpus.txt', 'r') as output_f:\n",
    "    sentences = output_f.read()"
   ]
  },
  {
   "cell_type": "code",
   "execution_count": 32,
   "metadata": {},
   "outputs": [
    {
     "data": {
      "text/plain": [
       "434193"
      ]
     },
     "execution_count": 32,
     "metadata": {},
     "output_type": "execute_result"
    }
   ],
   "source": [
    "model.wv.vocab['中国'].count"
   ]
  },
  {
   "cell_type": "code",
   "execution_count": 46,
   "metadata": {},
   "outputs": [],
   "source": [
    "words_total = len(sentences.split())"
   ]
  },
  {
   "cell_type": "code",
   "execution_count": 47,
   "metadata": {},
   "outputs": [
    {
     "data": {
      "text/plain": [
       "257702499"
      ]
     },
     "execution_count": 47,
     "metadata": {},
     "output_type": "execute_result"
    }
   ],
   "source": [
    "words_total"
   ]
  },
  {
   "cell_type": "code",
   "execution_count": 73,
   "metadata": {},
   "outputs": [],
   "source": [
    "#from tqdm import tqdm_notebook"
   ]
  },
  {
   "cell_type": "code",
   "execution_count": null,
   "metadata": {},
   "outputs": [],
   "source": [
    "#for c in tqdm_notebook(model.wv.vocab, total=len(model.wv.vocab[w].count)):\n",
    "#   word_frequency[w]=model.wv.vocab[w].count/words_total"
   ]
  },
  {
   "cell_type": "code",
   "execution_count": 52,
   "metadata": {},
   "outputs": [],
   "source": [
    "for w in model.wv.vocab:\n",
    "    word_frequency[w]=model.wv.vocab[w].count/words_total"
   ]
  },
  {
   "cell_type": "code",
   "execution_count": 2,
   "metadata": {},
   "outputs": [],
   "source": [
    "import json"
   ]
  },
  {
   "cell_type": "code",
   "execution_count": 67,
   "metadata": {},
   "outputs": [],
   "source": [
    "with open('../train/word_frequency.txt','w') as file:\n",
    "    file.write(json.dumps(word_frequency))"
   ]
  },
  {
   "cell_type": "code",
   "execution_count": 3,
   "metadata": {},
   "outputs": [],
   "source": [
    "with open('../train/word_frequency.txt','r') as file:\n",
    "    sf=json.loads(file.read())"
   ]
  }
 ],
 "metadata": {
  "kernelspec": {
   "display_name": "Python 3",
   "language": "python",
   "name": "python3"
  },
  "language_info": {
   "codemirror_mode": {
    "name": "ipython",
    "version": 3
   },
   "file_extension": ".py",
   "mimetype": "text/x-python",
   "name": "python",
   "nbconvert_exporter": "python",
   "pygments_lexer": "ipython3",
   "version": "3.7.0"
  }
 },
 "nbformat": 4,
 "nbformat_minor": 2
}
