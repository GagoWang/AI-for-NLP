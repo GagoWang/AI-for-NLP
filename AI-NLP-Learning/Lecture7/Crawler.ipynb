{
 "cells": [
  {
   "cell_type": "code",
   "execution_count": 1,
   "metadata": {},
   "outputs": [],
   "source": [
    "import re\n",
    "import requests\n",
    "from bs4 import BeautifulSoup"
   ]
  },
  {
   "cell_type": "code",
   "execution_count": 2,
   "metadata": {},
   "outputs": [],
   "source": [
    "headers = {\"User-Agent\" : \"User-Agent:Mozilla/5.0 (compatible; MSIE 9.0; Windows NT 6.1; Trident/5.0;\"}\n",
    "\n",
    "url = 'http://www.pcbbbs.com/forum.php?gid=28'\n",
    "r = requests.get(url, headers=headers).content.decode('gbk')"
   ]
  },
  {
   "cell_type": "code",
   "execution_count": 3,
   "metadata": {},
   "outputs": [],
   "source": [
    "soup_string = BeautifulSoup(r, \"html.parser\")"
   ]
  },
  {
   "cell_type": "code",
   "execution_count": 4,
   "metadata": {},
   "outputs": [],
   "source": [
    "table = soup_string.find('table',class_='fl_tb')"
   ]
  },
  {
   "cell_type": "code",
   "execution_count": 5,
   "metadata": {},
   "outputs": [],
   "source": [
    "all_tr = table.findAll('tr')"
   ]
  },
  {
   "cell_type": "code",
   "execution_count": 6,
   "metadata": {},
   "outputs": [
    {
     "data": {
      "text/plain": [
       "<tr><td class=\"fl_icn\" style=\"width: 72px;\">\n",
       "<a href=\"http://www.pcbbbs.com/forum.php?mod=forumdisplay&amp;fid=89\"><img align=\"left\" alt=\"\" src=\"data/attachment/common/6d/common_31_icon.png\"/></a></td>\n",
       "<td>\n",
       "<h2><a href=\"http://www.pcbbbs.com/forum.php?mod=forumdisplay&amp;fid=89\">Altium Designer</a><em class=\"xw0 xi1\" title=\"今日\"> (1)</em></h2>\n",
       "<p class=\"xg2\">这个国内应用最广泛的设计用软件，成为进入PCB设计行业人员的首选。欢迎大家讨论使用心得。。</p><p>版主: <span class=\"xi2\"><a c=\"1\" class=\"notabs\" href=\"http://home.pcbbbs.com/home.php?mod=space&amp;username=wanghanq\">wanghanq</a>, <a c=\"1\" class=\"notabs\" href=\"http://home.pcbbbs.com/home.php?mod=space&amp;username=cai1116\">cai1116</a>, <a c=\"1\" class=\"notabs\" href=\"http://home.pcbbbs.com/home.php?mod=space&amp;username=ziyu_00\">ziyu_00</a>, <a c=\"1\" class=\"notabs\" href=\"http://home.pcbbbs.com/home.php?mod=space&amp;username=%BA%DA%C2%BF%CC%E3%D7%D3\">黑驴蹄子</a></span></p></td>\n",
       "<td class=\"fl_i\">\n",
       "<span class=\"xi2\"><span title=\"12923\">1万</span></span><span class=\"xg1\"> / <span title=\"171923\">17万</span></span></td>\n",
       "<td class=\"fl_by\">\n",
       "<div>\n",
       "<a class=\"xi2\" href=\"http://www.pcbbbs.com/forum.php?mod=redirect&amp;tid=288664&amp;goto=lastpost#lastpost\">Altium Designer 19安装包下载/ ...</a> <cite><span title=\"2018-12-25 17:18\">2 小时前</span> <a href=\"http://home.pcbbbs.com/home.php?mod=space&amp;username=lqb7733\">lqb7733</a></cite>\n",
       "</div>\n",
       "</td>\n",
       "</tr>"
      ]
     },
     "execution_count": 6,
     "metadata": {},
     "output_type": "execute_result"
    }
   ],
   "source": [
    "all_tr[0]"
   ]
  },
  {
   "cell_type": "code",
   "execution_count": 7,
   "metadata": {},
   "outputs": [
    {
     "data": {
      "text/plain": [
       "'http://www.pcbbbs.com/forum.php?mod=forumdisplay&fid=89'"
      ]
     },
     "execution_count": 7,
     "metadata": {},
     "output_type": "execute_result"
    }
   ],
   "source": [
    "all_tr[0].find('h2').find('a').attrs['href']"
   ]
  },
  {
   "cell_type": "code",
   "execution_count": 8,
   "metadata": {},
   "outputs": [],
   "source": [
    "href_1 = []"
   ]
  },
  {
   "cell_type": "code",
   "execution_count": 9,
   "metadata": {},
   "outputs": [],
   "source": [
    "for item in all_tr:\n",
    "    item_td = item.findAll('td')\n",
    "    if len(item_td)>1:\n",
    "        href = item_td[1].find('h2').find('a')\n",
    "        if href.has_attr('href'):\n",
    "            href_1.append([href.attrs['href'],href.text])"
   ]
  },
  {
   "cell_type": "code",
   "execution_count": 10,
   "metadata": {},
   "outputs": [
    {
     "data": {
      "text/plain": [
       "[['http://www.pcbbbs.com/forum.php?mod=forumdisplay&fid=89',\n",
       "  'Altium Designer'],\n",
       " ['http://www.pcbbbs.com/forum.php?mod=forumdisplay&fid=42', 'Allegro'],\n",
       " ['http://www.pcbbbs.com/forum.php?mod=forumdisplay&fid=45', 'Mentor'],\n",
       " ['http://www.pcbbbs.com/forum.php?mod=forumdisplay&fid=17', 'Pads'],\n",
       " ['http://www.pcbbbs.com/forum.php?mod=forumdisplay&fid=46', 'OrCAD'],\n",
       " ['http://www.pcbbbs.com/forum.php?mod=forumdisplay&fid=73', 'Zuken'],\n",
       " ['http://www.pcbbbs.com/forum.php?mod=forumdisplay&fid=111',\n",
       "  'Cadence PCB SI'],\n",
       " ['http://www.pcbbbs.com/forum.php?mod=forumdisplay&fid=112', 'Hyperlynx']]"
      ]
     },
     "execution_count": 10,
     "metadata": {},
     "output_type": "execute_result"
    }
   ],
   "source": [
    "href_1"
   ]
  },
  {
   "cell_type": "code",
   "execution_count": 11,
   "metadata": {},
   "outputs": [],
   "source": [
    "import os"
   ]
  },
  {
   "cell_type": "code",
   "execution_count": 12,
   "metadata": {},
   "outputs": [],
   "source": [
    "def writefile(filename,content):\n",
    "    with open(os.path.join('crawler',filename),'w+',encoding='utf-8') as f:\n",
    "        f.write(content)"
   ]
  },
  {
   "cell_type": "code",
   "execution_count": 13,
   "metadata": {},
   "outputs": [],
   "source": [
    "def tokenize(content):\n",
    "    content = re.sub(r'[\\n \\r]+',r'',content)\n",
    "    content = content.strip()\n",
    "    return content"
   ]
  },
  {
   "cell_type": "code",
   "execution_count": null,
   "metadata": {},
   "outputs": [],
   "source": [
    "for href in href_1:\n",
    "    url_1 = href[0]\n",
    "    print(url_1,href[1])\n",
    "    r_1 = requests.get(url_1, headers=headers).content.decode('gbk')\n",
    "    soup_string1 = BeautifulSoup(r_1, \"html.parser\")\n",
    "    page_a = soup_string1.find('a',attrs={'class':'bm_h'})\n",
    "    if page_a: total_page = int(page_a.attrs['totalpage'])\n",
    "    else: total_page = 1\n",
    "    for page in range(total_page):\n",
    "        #if page>10: break\n",
    "        print('page:{}'.format(page))\n",
    "        url_page_1 = href[0]+'&page='+str(page+1)\n",
    "        r_page_1 = requests.get(url_page_1, headers=headers).content.decode('gbk')\n",
    "        soup_string_page_1 = BeautifulSoup(r_page_1, \"html.parser\")\n",
    "        mn_div = soup_string_page_1.findAll('tbody',attrs={'id':re.compile(r\"[stickthread | normalthread]_(\\s\\w+)?\")})\n",
    "        for href_2 in mn_div:\n",
    "            url_2 = href_2.find('a').attrs['href']\n",
    "            r_2 = requests.get(url_2, headers=headers).content.decode('gbk')\n",
    "            soup_string2 = BeautifulSoup(r_2, \"html.parser\")\n",
    "            content = soup_string2.find('td',attrs={'class':'t_f'})\n",
    "            if content and content.text:\n",
    "                content_text = tokenize(content.text)\n",
    "                if content_text:\n",
    "                    writefile(url_2.split('?')[1],content_text)\n",
    "                    break"
   ]
  }
 ],
 "metadata": {
  "kernelspec": {
   "display_name": "Python 3",
   "language": "python",
   "name": "python3"
  },
  "language_info": {
   "codemirror_mode": {
    "name": "ipython",
    "version": 3
   },
   "file_extension": ".py",
   "mimetype": "text/x-python",
   "name": "python",
   "nbconvert_exporter": "python",
   "pygments_lexer": "ipython3",
   "version": "3.7.0"
  }
 },
 "nbformat": 4,
 "nbformat_minor": 2
}
