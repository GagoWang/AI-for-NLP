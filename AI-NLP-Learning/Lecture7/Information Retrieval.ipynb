{
 "cells": [
  {
   "cell_type": "code",
   "execution_count": 1,
   "metadata": {},
   "outputs": [],
   "source": [
    "import os\n",
    "import jieba"
   ]
  },
  {
   "cell_type": "code",
   "execution_count": 2,
   "metadata": {},
   "outputs": [],
   "source": [
    "def cut(string): return ' '.join(jieba.cut(string))"
   ]
  },
  {
   "cell_type": "code",
   "execution_count": 3,
   "metadata": {},
   "outputs": [],
   "source": [
    "path = 'crawler/'"
   ]
  },
  {
   "cell_type": "code",
   "execution_count": 4,
   "metadata": {},
   "outputs": [
    {
     "data": {
      "text/plain": [
       "11219"
      ]
     },
     "execution_count": 4,
     "metadata": {},
     "output_type": "execute_result"
    }
   ],
   "source": [
    "len(os.listdir(path))"
   ]
  },
  {
   "cell_type": "code",
   "execution_count": 5,
   "metadata": {},
   "outputs": [
    {
     "data": {
      "text/plain": [
       "'mod=viewthread&tid=100024&extra=page%3D6'"
      ]
     },
     "execution_count": 5,
     "metadata": {},
     "output_type": "execute_result"
    }
   ],
   "source": [
    "os.listdir(path)[1]"
   ]
  },
  {
   "cell_type": "code",
   "execution_count": 6,
   "metadata": {},
   "outputs": [
    {
     "name": "stderr",
     "output_type": "stream",
     "text": [
      "Building prefix dict from the default dictionary ...\n",
      "Dumping model to file cache /var/folders/_1/8g6kq5zs3h97jlvhdzj6dldc0000gp/T/jieba.cache\n",
      "Loading model cost 0.912 seconds.\n",
      "Prefix dict has been built succesfully.\n"
     ]
    }
   ],
   "source": [
    "corpus = [\n",
    "    cut(open(os.path.join(path, f)).read()) for f in os.listdir(path) if f !='.DS_Store'\n",
    "]"
   ]
  },
  {
   "cell_type": "code",
   "execution_count": 7,
   "metadata": {},
   "outputs": [
    {
     "data": {
      "text/plain": [
       "11218"
      ]
     },
     "execution_count": 7,
     "metadata": {},
     "output_type": "execute_result"
    }
   ],
   "source": [
    "len(corpus)"
   ]
  },
  {
   "cell_type": "code",
   "execution_count": 8,
   "metadata": {},
   "outputs": [],
   "source": [
    "from sklearn.feature_extraction.text import TfidfVectorizer\n",
    "vectorizer = TfidfVectorizer()"
   ]
  },
  {
   "cell_type": "code",
   "execution_count": 9,
   "metadata": {},
   "outputs": [
    {
     "data": {
      "text/plain": [
       "<11218x48971 sparse matrix of type '<class 'numpy.float64'>'\n",
       "\twith 350112 stored elements in Compressed Sparse Row format>"
      ]
     },
     "execution_count": 9,
     "metadata": {},
     "output_type": "execute_result"
    }
   ],
   "source": [
    "vectorizer.fit_transform(corpus)"
   ]
  },
  {
   "cell_type": "code",
   "execution_count": 10,
   "metadata": {},
   "outputs": [
    {
     "data": {
      "text/plain": [
       "0"
      ]
     },
     "execution_count": 10,
     "metadata": {},
     "output_type": "execute_result"
    }
   ],
   "source": [
    "min(vectorizer.vocabulary_.values())"
   ]
  },
  {
   "cell_type": "code",
   "execution_count": 11,
   "metadata": {},
   "outputs": [
    {
     "data": {
      "text/plain": [
       "48970"
      ]
     },
     "execution_count": 11,
     "metadata": {},
     "output_type": "execute_result"
    }
   ],
   "source": [
    "max(vectorizer.vocabulary_.values())"
   ]
  },
  {
   "cell_type": "code",
   "execution_count": 12,
   "metadata": {},
   "outputs": [],
   "source": [
    "tfidf = vectorizer.fit_transform(corpus)"
   ]
  },
  {
   "cell_type": "code",
   "execution_count": 13,
   "metadata": {},
   "outputs": [],
   "source": [
    "transposed_tfidf = tfidf.transpose()"
   ]
  },
  {
   "cell_type": "code",
   "execution_count": 14,
   "metadata": {},
   "outputs": [
    {
     "data": {
      "text/plain": [
       "<48971x11218 sparse matrix of type '<class 'numpy.float64'>'\n",
       "\twith 350112 stored elements in Compressed Sparse Column format>"
      ]
     },
     "execution_count": 14,
     "metadata": {},
     "output_type": "execute_result"
    }
   ],
   "source": [
    "transposed_tfidf"
   ]
  },
  {
   "cell_type": "code",
   "execution_count": 15,
   "metadata": {},
   "outputs": [],
   "source": [
    "import numpy as np"
   ]
  },
  {
   "cell_type": "code",
   "execution_count": 16,
   "metadata": {},
   "outputs": [],
   "source": [
    "transposed_tfidf_array = transposed_tfidf.toarray()"
   ]
  },
  {
   "cell_type": "code",
   "execution_count": 17,
   "metadata": {},
   "outputs": [
    {
     "data": {
      "text/plain": [
       "(48971, 11218)"
      ]
     },
     "execution_count": 17,
     "metadata": {},
     "output_type": "execute_result"
    }
   ],
   "source": [
    "transposed_tfidf_array.shape"
   ]
  },
  {
   "cell_type": "code",
   "execution_count": 18,
   "metadata": {},
   "outputs": [
    {
     "data": {
      "text/plain": [
       "(array([8918]),)"
      ]
     },
     "execution_count": 18,
     "metadata": {},
     "output_type": "execute_result"
    }
   ],
   "source": [
    "np.where(transposed_tfidf_array[6])"
   ]
  },
  {
   "cell_type": "code",
   "execution_count": 19,
   "metadata": {},
   "outputs": [],
   "source": [
    "def get_word_id(word):\n",
    "    return vectorizer.vocabulary_.get(word, None)"
   ]
  },
  {
   "cell_type": "code",
   "execution_count": 20,
   "metadata": {},
   "outputs": [
    {
     "data": {
      "text/plain": [
       "25025"
      ]
     },
     "execution_count": 20,
     "metadata": {},
     "output_type": "execute_result"
    }
   ],
   "source": [
    "get_word_id('上海')"
   ]
  },
  {
   "cell_type": "code",
   "execution_count": 21,
   "metadata": {},
   "outputs": [],
   "source": [
    "from functools import reduce"
   ]
  },
  {
   "cell_type": "code",
   "execution_count": 22,
   "metadata": {},
   "outputs": [],
   "source": [
    "from operator import and_"
   ]
  },
  {
   "cell_type": "code",
   "execution_count": 29,
   "metadata": {},
   "outputs": [
    {
     "data": {
      "text/plain": [
       "{2}"
      ]
     },
     "execution_count": 29,
     "metadata": {},
     "output_type": "execute_result"
    }
   ],
   "source": [
    "and_({1, 2}, {2, 3})"
   ]
  },
  {
   "cell_type": "code",
   "execution_count": 30,
   "metadata": {},
   "outputs": [],
   "source": [
    "import re"
   ]
  },
  {
   "cell_type": "code",
   "execution_count": 34,
   "metadata": {},
   "outputs": [],
   "source": [
    "def get_candidates_ids(input_string):\n",
    "    return [get_word_id(c) for c in cut(input_string).split()]"
   ]
  },
  {
   "cell_type": "code",
   "execution_count": 35,
   "metadata": {},
   "outputs": [],
   "source": [
    "def get_candidates_pat(input_string):\n",
    "    return '({})'.format('|'.join(cut(input_string).split()))"
   ]
  },
  {
   "cell_type": "code",
   "execution_count": 39,
   "metadata": {},
   "outputs": [],
   "source": [
    "from scipy.spatial.distance import cosine"
   ]
  },
  {
   "cell_type": "code",
   "execution_count": null,
   "metadata": {},
   "outputs": [],
   "source": []
  },
  {
   "cell_type": "code",
   "execution_count": null,
   "metadata": {},
   "outputs": [],
   "source": []
  },
  {
   "cell_type": "code",
   "execution_count": 40,
   "metadata": {},
   "outputs": [],
   "source": [
    "def search_enginer(query):\n",
    "    candidates_ids = get_candidates_ids(query)\n",
    "    print\n",
    "    v1 = vectorizer.transform([cut(query)]).toarray()[0]\n",
    "    \n",
    "    candidates = [set(np.where(transposed_tfidf_array[_id])[0]) for _id in candidates_ids]\n",
    "    \n",
    "    merged_candidates = reduce(and_, candidates)\n",
    "    \n",
    "    pat = re.compile(get_candidates_pat(query))\n",
    "    \n",
    "    vector_with_id = [(tfidf[i], i) for i in merged_candidates]\n",
    "    \n",
    "    sorted_vector_with_ids = sorted(vector_with_id, key=lambda x: cosine(x[0].toarray(), v1))\n",
    "\n",
    "    sorted_ids = [i for v, i in sorted_vector_with_ids]\n",
    "    \n",
    "    for c in merged_candidates:\n",
    "        output = pat.sub(repl='** \\g<1> ** ', string=corpus[c])\n",
    "        yield ''.join(output.split())"
   ]
  },
  {
   "cell_type": "code",
   "execution_count": 47,
   "metadata": {},
   "outputs": [
    {
     "data": {
      "text/plain": [
       "<generator object search_enginer at 0x1a18996f48>"
      ]
     },
     "execution_count": 47,
     "metadata": {},
     "output_type": "execute_result"
    }
   ],
   "source": [
    "search_enginer('项目 网络')"
   ]
  },
  {
   "cell_type": "code",
   "execution_count": 45,
   "metadata": {},
   "outputs": [
    {
     "name": "stdout",
     "output_type": "stream",
     "text": [
      "本期主要介绍在高速PCB设计中，高速信号与高速PCB设计存在一些理解误区，水一般的男子从SI基础理论及产品设计工程经验给出一些建议。误区一：GHz速率以上的信号才算高速信号？提到“高速信号”，就需要先明确什么是“高速”，MHz速率级别的信号算高速、还是GHz速率级别的信号算高速？传统的SI理论对于“高速信号”有经典的定义。SI：SignalIntegrity，即信号完整性。SI理论对于PCB互连线路的信号传输行为理解，信号边沿速率几乎完全决定了信号中的最大频率成分，通常当信号边沿时间小于4~6倍的互连传输延时的情况下，信号互连路径会被当做分布参数模型处理，需要考虑SI行为。所谓“高速”，就是指“信号边沿时间小于4~6倍的互连传输延时”，可以看出电路板传输的信号是否为“高速”，不只取决于信号的边沿速率，还取决于电路板线路的路径长度大小，当两者存在一定的比例关系时，该信号应该按照“高速信号”进行处理。误区二：有了仿真软件平台就可以做好高速PCB设计？现在的EDA设计软件平台都集成了高速信号仿真功能，这对于高速PCB设计的规则制定与执行，信号质量仿真与评估都有很大的帮助。但是，在PCB实际设计过程中，有时会出现仿真结果显示信号质量良好，但是实际测试时信号质量很差，不满足信号测试标准，问题出在哪？实际上，仿真与测试是不可分的，拿IBIS模型为例，通常我们称之为“行为级模型”，此类仿真模型也是通过芯片不同工作条件下的V、I测试曲线建立的，这就存在一个问题，仿真时如果不关注选取哪种工作条件下的芯片模型，就会仿真不准，例如：Slow、Typical、Fast。从上面的例子可以看出，“仿真模型库”对于仿真结果至关重要，必须通过实际产品**项目**的仿真测试实际对比、修正后的仿真模型才能算作“准确的仿真模型”。有了好的仿真设计平台不能解决所有问题，还需要“准确的仿真模型”，另外也要考虑到实际产品**项目**的应用场景，仿真的某个信号**网络**，会受到电源噪声、其他信号串扰等因素影响，这同样会造成测试结果与仿真结果的差异。误区三：仿真软件中的PCB走线“传输线模型”是非常准确的？仿真软件中的PCB走线不管是微带线还是带状线，都可以通过仿真工具建立模型，这个模型基于层叠和实际走线的尺寸，通常情况下可以满足精度要求，但是如果说“非常准确”，那还有一些差距，这需要从以下几个方面分析：（1）PCB铜皮的粗化/棕化处理加工工艺对信号质量有影响PCB加工过程中，为了提高PCB铜皮层与介质层的结合强度，降低PCB分层风险，都会有粗化/棕化处理工艺，就是通过打磨或者腐蚀的方式使铜皮表面变得粗糙。我们知道，高速信号在导体中的传输，存在“趋肤效应”，是指高频信号传输时，在导体中流动的电流将朝外围或者导体的“表皮”迁移，如下图所示：PCB铜皮表面粗糙，一方面影响损耗、另一方面也会影响信号传输延时，这一点很好理解，就像汽车在崎岖不堪的山路行驶时一定会比在柏油马路上行驶更耗时。（2）PCB介质的介电常数Dk、正切损耗角Df是随着频率变化的仿真工具中的PCB介质的Dk、Df通常为常数，但是从信号实际传输的角度，Dk/Df是随着频率变化的。Dk随频率的变化示意图（FR4板材）Df随频率的变化示意图（FR4板材）既然Dk/Df会随着传输信号的速率变化，那么如果仿真工具中把这两个参数作为常量处理，就会对传输线模型的仿真精度造成影响，信号传输速率越高这种影响就会越大。（3）PCB板材的“各向异性”影响PCB板材通常是“环氧树脂+玻璃布”的编织结构，玻璃布的排列方向分为“经向”、“纬向”，同时根据玻璃纤维的粗细及间距，分成不同型号的PCB板材，如：1080、2116等。当PCB板材采用不同类型玻璃布时，玻璃布与树脂在板材中的成分比例是不同的。玻璃布与树脂材料的Dk/Df值相差比较大，当PCB正常走线与玻璃布的相对位置出现差异时，就会导致参考介质的Dk/Df值不同、信号的阻抗及损耗情况也会不同，如下图所示，这也是为什么有些**项目**要求整板PCB走线方向要采用10°的原因。误区四：一种仿真软件平台可以搞定所有信号仿真问题？答案显然是否定的，目前还没有一个统一的仿真软件平台可以适用于所有信号仿真场景。行为级信号质量仿真用CadenceSPBSigXplorer，晶体管级仿真用SynopsysHspice，三维电磁场建模用AnsoftHFSS，时域频域混合仿真用AnsoftADS。。。。。。仿真软件平台目前还是林林总总，目前还没有哪一款软件可以一统江湖，Cadence收购了Sigrity、将Sigrity软件的功能集成到SPB设计软件平台，仿真功能比较全面，但如果要统一所有的信号仿真分析平台还需要时间。\n",
      "Mentor中文简略版一、原理图的绘制：1、建立一个project：打开Designcapture→project→new→指定project名和project路径→新建一个project→project/settings：●Centrallibrary：指定该project的库文件路径并选择库的类型；●Design：指定各种设计文件存放路径，最下面一行“Absorbinstansedatainto??”处于选中（打勾）状态，执行“ForwardAnnotation”时CDB会重新生成（否则需要cdbcomplier生成cdb）；如果block很多时，不要选；●Filelocations：配置文件管理；●Libraries：指定Centrallibrary后，不用管这里；2、file→new→选择“schematic”：新建一个原理图；3、改变原理图尺寸大小：●Place→symbol→选择border→选择期望的尺寸→放在坐标（0，0）处；●view→selectfilter→点击“selectall”→点击原理图中原有的边框→选中并删除→selectfilter中点击“reset”（把不可选的东西去掉）；说明：编辑原理图设计时间、版本等信息也要先选中再编辑；4、设置库属性和pcb的一些特性（一定要在进行设计前完成）：Librarymanage→edit→propertyverification→选择原理仿真、热仿真等；Librarymanage→setup→setupparameters→（一般只能看）5、画原理图：●project→globalsignals：定义电源**网络**（net）；●Verify→compileCDB→packagedesign→进入expenditionpcb二、pcb中pcb文件的建立和网表调入：1、pcb文件建立：file→new→根据jobmanagementwizard来建立；2、调入网表：●打开新建的pcb文件，运行forwordannotion（或者运行designcapture中的PCBintegration）；●edit→place→part：在“unplaced”前打勾→选中所有元器件→点击“》”图标把所有元器件放到“active”框中→apply→左键拖动点击→元件件以及**网络**连接都到pcb中了；●改动了原理图之后调入网表：在capture中先保存→verify→compileCDB→packagedesign（tools中）→pcbintegration（project中），要执行forwordannotation→在pcb中用上述方法把元器件加到pcb文件中；3、修改pcb层数：setup→setupparameters：general→layers→numberofphysical中数字改为希望的层数（如“2”）→点击右面的“remaplayers”图标→在弹出框中点击“ok”→点击右下角的“apply”→完成设置；4、修改pcb尺寸：在drawmode下拖动原有的板框即可，或者选中框→右键→编辑框属性→修改尺寸，drawmode切换方式如下：注：1、红色框是pcb框，淡兰色框是布局、布线区；2、将尺寸设置为mm：setup→setupparameters→general→右侧→选；Expenditionpcb中常用操作1、选择重叠的不同层的元器件等：左键点住＋tab；2、布线：点击工具栏的“routemode”图标（见下图），在器件引脚处点住左键拖动一小段即可（“esc”结束布线、双击切换布线层、单击后可以拐弯）；印制线位置调整：在“Routemode”下选中印制线拖动即可；3、设置最小移动距离等：setup→editcontrol→grids→palcementrelated第二行改数字；4、自动布线：进入“routemode”→印制线全选（点住左键画个大框）→del：删除印制线；route→autoroute→设置→点击下面的“route”按钮即可；5、自动放置测试点：route→testpiont→autoassign→在相应net右面required下设置需要的个数→点击“place”按钮即可；注：要在setup→setupparameters→general右下角“testpiontsettings”中设置好测试点的类型等；cell是测试点类型，test选择测试点放在哪一面，refdes中填写自动命名测试点的前缀；6、铺设地线层：route→planes→placeshape→画一个框→在drawingmode下选中该框，点击右键编辑其属性：定义框的**网络**属性（选择一个net），定义框在哪一层；route→planes→processor→在弹出框中定义“铺设（hatch）”方式→ok●左面：定义同一net名的焊盘和过孔的连接方式；●右面：定义clearance（一般25th）；●右下角的工具框：定义印制线hatch的宽度和方式；禁布铜皮：edit→place→planeobstruct→画一个框即可；hatch时自动让开；注意1：setup→setupparameters→planes中可以定义某一层为某个net的planes，设定planes的net只要把希望的net选入“includednets”中即可（当心：只可以选择一个net）；不定义“planes层”照样可以“hatch”；注意2：只在“Allon”和“displayschemes”pcb显示方式下才可以看到铺设的铜皮；7、删除所有的铜皮和导线：都在route下拉菜单下；8、布置泪滴：route→teardrops→设置参数→apply；删除泪滴：edit→addtoselectset→teardrops→按“delete”即可删除；如果不行，再edit→unfix→按“delete”注意：如果pcb空间不够，就不会生成泪滴；9、pcb开槽：“drawmode”下画一个闭合的框，定义其属性为drilldrawing(through)即可；要在view→displaycontrol→general中设置drilldrawing层的显示颜色，否则会看不到；Analogdesign使用mentor的原理图仿真不需要设计仿真模型，只要按照正常设计来画原理图即可（用于生成网表、调入pcb文件）；用于仿真时，只要根据设计选择不同的“source”和“load”，同时设置连接位置（net）就可以了（比pspice、saber要高级）；仿真时先打开“project”，然后设置仿真“setup”文件（需要new、save等，“.vas”文件）；仿真“setup”文件包括：source和load的选择和分配、仿真类型选择（进行哪些仿真）、仿真计算哪些输出（monitor）、算法设置等；设置好“setup”文件（.vas）要保存才可以仿真；1、画好原理图，进行一些编译工作（“compileCDB即可”）；2、设置输入信号以及信号参考点：进入project→globalsignals，先指定仿真时的电压参考：选择一个net，“suplyattribute”设为“gnd”，仿真时即把该点作为参考电平；指定仿真输入点：选择一个net，其电源属性里选择“positive”或“negtive”；注意：仿真setup文件中“source”中用到的net都要在“globalsignals中设定属性”）；所有电平参考也要在其中设定“gnd”属性。3、进入“analogdesign”：a、project→open：打开设计文件（.prj）；b、file→new：新建一个“setup”文件（.vas）；c、setup→source：为电路输入选择合适的“source”；d、setup→monitor：选择仿真对象（net）；e、setup下拉菜单下选择仿真类型，并完成设置；f、保存“setup”文件；g、run→simulation→设置仿真输出显示信息→点击“ok”；h、仿真完成后在自动打开的波形显示器中edit→waveform→选择、确定即可；4、一些小窍门：a、仿真电路可以管脚悬空，只要定义**网络**名称即可；b、一些常识1、库管理中，cell是封装库；2、使用多个设计工具时，如想让它们关连，要在designcapture中设置transmitmode，必须transmitpermition，方法：点击工具栏的transmit图标使之处于下图状态；3、电源net要放到globalsfile中，并assignsupply＝×××；否则仿真时不能识别；不同sheet中相同的net要么在globalsfile中指明，要么在不同的sheet中用connect相连；进入：project→globalsignals；4、projectintergration（“CAD，CAE”图标中亦有）中的forwardannotation指原理图到pcb的一种关连；Backannotation指pcb到原理图的一种关连；5、expeditionpcb中“placement”层中的R××、U××并非丝印，丝印在“silktopgenerated”层中看，要改也在该层中改；6、ISanalysis：InterconnectSynthesis（IS）7、capture中曾经用过的“net”名，即使删掉，也不可以再使用；各种工具使用的文件的后缀名1、Designcapture：**项目**名：.prj原理图文件：.sbkCentrallibrary：.Lmc2、Analogdesign：调入.vas文件3、signalvision：调入.svn的netlist文件4、expenditionpcb：Importascii：.hkpEdifnetlist：.edfpcb设计文件：.pcbVariantsmanage：.vad（默认在根目录下）Gerbertool：.gdoPcb工具的一些快捷键cchangeddeleteffindhhighlightmmovepplacerrotateuunhighlightxexecute(anamedcommand)zzoomaallbboardccoordinateddrawobjectffiducialggridhhighlightedjjumperllayernnetppinrref-dessselectedttestpointvviawwidth-usedsofrequentlyitshouldbeconsideredanobjectinthiscontext.xsnappoint(representedonthedisplayasan\"x\").cchangeddeleteffindhhighlightmmovepplacerrotateuunhighlightxexecute(anamedcommand)zzoomaallbboardccoordinateddrawobjectffiducialggridhhighlightedjjumperllayernnetppinrref-dessselectedttestpointvviawwidth-usedsofrequentlyitshouldbeconsideredanobjectinthiscontext.xsnappoint(representedonthedisplayasan\"x\").\n",
      "PowerPCB设计复用(以PADS2005为例）在差分走线过程中，有时候为了从连接器或者BGA引脚处引出差分走线，必须将差分线暂时地分离或者互相之间的切换以便进行走线，使用PADSRouter提供的分离走线RouteSeparately功能可以达到此目的。1、在**项目**浏览器的差分对分支中选中我们前面建立的$$$7651<->$$$7652差分线对。2、高亮这两个**网络**后，鼠标右键选择Unroute，将刚才的走线删除。3、点击$$$7651或$$$7652**网络**中的任意一个管脚。4、右键InteractiveRoute或按F3开始对该差分对**网络**进行走线。5、从源管脚拉出走线，在合适的位置点击鼠标左键确定第一段走线和拐角位置。6、当走到接近目标管脚附近时，点击鼠标右键选择分离走线RouteSeparately。7、将该走线完成后，系统将自动转到另外一根线的走线。等长布线等长线规则(MatchedLengthRules)等长线用于对一组**网络**进行自动走线时的设置。你同时可以在PADSRouter提供的Spreadsheet表格中管理走线长度。定义一组等长走线**网络**在目标浏览器ProjectExplorer窗口中进行以下操作：1、展开NetsObjects。2、展开里面的Nets项，在其目录中列出设计中所有的**网络**。3、选中**网络**A00，其在工作区域被高亮。4、Shift+鼠标左键选中**1。5、将选中的所有**网络**复制到MatchedLengthNetGroups分支中。6、将该分支展开可以看到产生一组新的等长走线**网络**。结果：PADSRouter将其默认命名为MLNetGroup1。7、将这组**网络**名称改为AddressBus按回车键确定新名称。完成等长走线**网络**定义。定义等长走线规则1、**项目**浏览器窗口中，选中等长走线**网络**组AddressBus。2、鼠标右键选择Properties。3、在属性窗口中的公差栏中填入200。设置该组**网络**走线中最短走线和最长走线相差范围允许为200mils。4、勾选长度约束Restrictlength，打开长度约束栏。5、在最小长度栏中填入2500，那么走线最小值设定为2.5英寸。6、在最大长度栏中填入3500，那么走线最大值设定为3.5英寸。7、点击OK按钮完成等长走线规则设置。\n",
      "培训对象：想提高薪资待遇的layout从业人员，文员，前台，质量工艺员，备注（手机行业女生相对较多，大多都是文员，前台，工艺员转过去的），维修人员，生产技术员，刚毕业的大学生，硬件工程师助理，初级硬件工程师，初级射频工程师，工程技术人员，初级业务员等。培训方式：采用**网络**培训方式，**网络**YY教学，家里只要有**网络**即可，周末和晚上的上课的方式，培训3月底开始，周期6到8个月左右，学会为止。培训学费：3500。采用分期付款方式，杜绝学不到东西就把学费全部交了给学员造成的经济损失。先试听后决定，培训完成后推荐入职手机行业工作（上海，深圳，杭州）采用就近安排的方式，与多家猎头顾问合作，安排不了工作全额退还学费，优秀学员可以直接推荐入职本公司上班。联系方式：高先生13735830193QQ:2646353075手机主板涉及的内容包括:音频、视频、数字、模拟、射频、电源、DDR高速，信号完整性，电源完整性，地（模拟地和数字地），EMI,EMC,ESD，热设计（Thermal），高密度（HDI）板1阶板、2阶板、多阶板、任意阶板、叠孔、错孔板；异形的壳体结构，封装和主板。通过手机主板的学习后，能胜任在手机、平板、智能家居、车载电子、智能手表手环、工控、物联网、人工智能，无人机，AI,VR等相关行业领域上班。能吃苦不怕累适应加班的可以进入在手机layout行业，待遇也相对可观，根据能力来确定，大概范围在12k-18k之间。随着即将到来5G，相信手机行业也会迎来春天。培训方式：本次培训以智能机实际**项目**中遇到的各种问题点为切入，带着问题去讲解在设计过程中遇到的各种各样问题，包括硬件基带，layout布局走线，射频等，这些问题是如何产生的，为什么会产生；是软件还是硬件设计还是布局走线的问题，最终以什么方法和思路解决这些问题，涉及到的PCB里面那些理论相关知识，在解决问题的过程中我们有什么启示，带着问题去学，更明确，进步也更快。多解决实际**项目**的过程中疑难杂症的能力才是我们加薪的资本。企业在招聘的过程中经常提到3到5年工作经验的原因，他们是希望你在别的公司该踩的坑都已经踩过了。我本人从早期的小灵通，功能机，智能机一路做过来，品牌机，山寨机都做过，在这么多年手机**项目**中遇到各种各种的问题数不胜数，在不断的解决过程中积累了一定经验。培训前期通过6层功能机**项目**入门。前期涉及到：1.HDI工艺，一阶，二阶，任意阶盲埋孔的使用方法，快速打孔技巧方法，宏命令使用，异形板框，异形封装等AUTOcad制作方法；2.pads软件通用规则，**网络**类规则，条件规则，封装规则，高速信号规则，软件高级使用技巧，如何提升软件效率和速度；3.手机主板特需BGA钢网的制作方法,主板表面工艺处理方法；4.如何提高敏感传感器，磁性器件的抗干扰能力；5.去耦电容的配置分配技巧；6.常见叠层结构，各种优劣对比，以及对于不同的产品该如何选择合适的叠层方案；7.基带套片介绍，IQ信号，语音信号，模拟基带和数字基带组成详细介绍；8.电源管理PMIC，MTK平台电源资源具体分配，锂离子电池充电方案，快充方案原理，LDO和DC转DC电源电路原理；ChargePump原理,Buck与Boost在手机电路中的具体应用。9.常见接口电路：SIM卡，SD卡，TF卡，耳机接口，USB接口，HDMI接口，LVDS接口等原理图工作方式,常见选型技巧以及常见供应商型号规格。10.常见通信协议：SPI,I2S,I2C,USB,MIPI,RGB,SIM,UART,JTAG，485,CAN，BC1快速充电等常见通信协议。11.电声器件的选型注意事项，听筒，喇叭，接收器，麦克，音频功放，音频参数调试经验；12．显示屏的工作原理，触摸屏的工作原理，显示屏与主板贴合抗静电常见的解决方案；13.DDR4和LPDDR4的区别，eMMC,NAND,iNand等存储器的区别和应用场合，在UBoot里面是如何裁剪移植加载的，开机引导机制。14.高速设计两片DDR，4片DDR，8片DDR的同层，正反面贴设计技巧，以及注意事项。15.失败案例解决经验：a.GPS定位故障；b北斗导航定位不精确；c.开机无法进入系统；d.TDDNoise；e.听筒开到最大音量破音；f.充电电量指示不准确，充电不完全充满；g.屏幕出现水纹；h.开机没有信号，显示CMCC,不断搜网；I.静态电流偏大;J.认证测试TD-LTE信号与wifi2.4G干扰无法通过，WIFIEVM达不到指标；K.3GACLR超标，L.主板发热，拍照发热，打电话发热等。接着以联发科新平台MT6750实际量产**项目**为主，八核处理器主频率为1.5GHz，拥有4GRAM+32GROM内存组合，GPU方面集成了来自ARM的Mali－T860，8xARMCortex-A53(4xA531.5GHz+4xA531.0GHz)，最高支持4GB的LPDDR3内存，相机最高支持1600万像素，1080p@30FPS视频拍摄为主。该平台不仅实现了全网通支持，也支持4G+/CA（300Mbps下行）的产品，并支持移动VoLTE，支持移动、联通、电信三大运营商主流3G、4G频段。主板采用10层二阶盲埋孔全程演示。涉及内容如下：1.外壳结构工艺成型，CNC加工工艺，NMT纳米注塑工艺，抛光阳极氧化等制作工艺；HDI盲埋孔制板工艺；2.天线分类，天线禁空区域的要求，天线尺寸和面积，天线与相关器件的布局讲究；3.阻抗控制原理，PolarSi9000软件使用方法；4.音频走线规则，结构设计对音频模块影响；5.射频走线规则，伪差分，DDR,模块复用技巧；6.单点接地，多点接地，浮地，模拟地，数字地，地闭合环路的处理方法，时钟有源晶体；7.ESD（静电），EMI（干扰）,EMC（电磁兼容）,屏蔽罩制作以及注意事项，主板露铜，主板散热（Thermal）；8.平面层和混合分隔电源和地的优劣以及实现的方法；BUCK电路以及电源反馈部分注意事项。9.手机主板夹具制作，SMT工艺和炉温曲线控，制版工程回复；10.信号完整性与传输线效应理论，信号带来串扰、反射、过冲与下冲、振荡、信号延迟等理论依据；改善这些现象的对策引入拓扑的结构（星形，菊花链，FLYBY）以及终端阻抗匹配的具体办法，常见的端接方式，参考平面的选择等。11.电源完整性，电源波动的状况，同步开关噪声的引入解决方法；滤波电容的寄生参数，定量的计算出去耦电容的个数以及每个电容的容值和放置的具体的位置，确保系统的阻抗在控制范围之内；12.面试技巧，简历撰写经验等。培训第三阶段，手机射频相关技术：1.RF收发器（Transceiver），功率放大器（PA），天线开关模块（ASM），前端模块（FEM），双工器，RFSAW滤波器及合成器常见器件的选型注意事项，常见供应商和替代器件注意事项；2.4G频段划分，4G三种语音CSFB、SGLTE、VOLTE优缺点介绍，全网通与双4G的区别，5模13频、5模17频各自的特点，以及国外客户（非洲和欧洲）常见频段使用情况等；3.目前的4G**网络**换成宽带其下行相当于百兆光钎速度了，这意味着即便用来玩台式机的游戏或者4K影片都不成问题，4G之所以能高速发展普及，手游跟1080-4K超高清晰影片可谓功不可没，这两项正是上一代3G手机的短板所在，那么5G能在这之上做什么?无非是储存容量高于目前的影片或者游戏5-10倍的AR或者VR等设备，还有就是与这两年很火的物联网，大数据，云计算之间息息相关。本次培训也涉及5G手机的发展关键技术，3GPP5G新标准，5G频段的划分，频谱拓展技术；4.5G终端天线相控阵体系和点阵天线的模组使用方法和测试总结报告，5G天线设计遇到的挑战以及解决损耗的方案；5.金属壳体对无线通电方案和毫米波天线设计的解决方案经验；6.手机入网认证测试，传导杂散，辐射杂散等认证测试方法，国际工业和民用消费业认证，美国FCC认证，加拿大IC认证，欧盟CE认证，澳洲RCM认证，俄罗斯CU-TU认证，非洲COC认证等。（备注现在大多国内手机企业都做的是国外的订单需要了解国外认证）。\n",
      "培训对象：想提高薪资待遇的layout从业人员，文员，前台，质量工艺员，备注（手机行业女生相对较多，大多都是文员，前台，工艺员转过去的），维修人员，生产技术员，刚毕业的大学生，硬件工程师助理，初级硬件工程师，初级射频工程师，工程技术人员，初级业务员等。培训方式：采用**网络**培训方式，**网络**YY教学，家里只要有**网络**即可，周末和晚上的上课的方式，培训5月底开始，周期6到8个月左右，学会为止，学不会来年继续免费学。培训学费：3500。采用分期付款方式，杜绝学不到东西就把学费全部交了给学员造成的经济损失。先试听后决定，培训完成后推荐入职手机行业工作（上海，深圳，杭州）采用就近安排的方式，与多家猎头顾问合作，安排不了工作全额退还学费，优秀学员可以直接推荐入职本公司上班。联系方式：高先生13735830193QQ:2646353075手机主板涉及的内容包括:音频、视频、数字、模拟、射频、电源、DDR高速，信号完整性，电源完整性，地（模拟地和数字地），EMI,EMC,ESD，热设计（Thermal），高密度（HDI）板1阶板、2阶板、多阶板、任意阶板、叠孔、错孔板；异形的壳体结构，封装和主板。通过手机主板的学习后，能胜任在手机、平板、智能家居、车载电子、智能手表手环、工控、物联网、人工智能，无人机，AI,VR等相关行业领域上班。能吃苦不怕累适应加班的可以进入在手机layout行业，待遇也相对可观，根据能力来确定，大概范围在12k-18k之间。随着即将到来5G，相信手机行业也会迎来春天。培训方式：本次培训以智能机实际**项目**中遇到的各种问题点为切入，带着问题去讲解在设计过程中遇到的各种各样问题，包括硬件基带，layout布局走线，射频等，这些问题是如何产生的，为什么会产生；是软件还是硬件设计还是布局走线的问题，最终以什么方法和思路解决这些问题，涉及到的PCB里面那些理论相关知识，在解决问题的过程中我们有什么启示，带着问题去学，更明确，进步也更快。多解决实际**项目**的过程中疑难杂症的能力才是我们加薪的资本。企业在招聘的过程中经常提到3到5年工作经验的原因，他们是希望你在别的公司该踩的坑都已经踩过了。我本人从早期的小灵通，功能机，智能机一路做过来，品牌机，山寨机都做过，在这么多年手机**项目**中遇到各种各种的问题数不胜数，在不断的解决过程中积累了一定经验。培训前期通过6层功能机**项目**入门。前期涉及到：1.HDI工艺，一阶，二阶，任意阶盲埋孔的使用方法，快速打孔技巧方法，宏命令使用，异形板框，异形封装等AUTOcad制作方法；2.pads软件通用规则，**网络**类规则，条件规则，封装规则，高速信号规则，软件高级使用技巧，如何提升软件效率和速度；3.手机主板特需BGA钢网的制作方法,主板表面工艺处理方法；4.如何提高敏感传感器，磁性器件的抗干扰能力；5.去耦电容的配置分配技巧；6.常见叠层结构，各种优劣对比，以及对于不同的产品该如何选择合适的叠层方案；7.基带套片介绍，IQ信号，语音信号，模拟基带和数字基带组成详细介绍；8.电源管理PMIC，MTK平台电源资源具体分配，锂离子电池充电方案，快充方案原理，LDO和DC转DC电源电路原理；ChargePump原理,Buck与Boost在手机电路中的具体应用。9.常见接口电路：SIM卡，SD卡，TF卡，耳机接口，USB接口，HDMI接口，LVDS接口等原理图工作方式,常见选型技巧以及常见供应商型号规格。10.常见通信协议：SPI,I2S,I2C,USB,MIPI,RGB,SIM,UART,JTAG，485,CAN，BC1快速充电等常见通信协议。11.电声器件的选型注意事项，听筒，喇叭，接收器，麦克，音频功放，音频参数调试经验；12．显示屏的工作原理，触摸屏的工作原理，显示屏与主板贴合抗静电常见的解决方案；13.DDR4和LPDDR4的区别，eMMC,NAND,iNand等存储器的区别和应用场合，在UBoot里面是如何裁剪移植加载的，开机引导机制。14.高速设计两片DDR，4片DDR，8片DDR的同层，正反面贴设计技巧，以及注意事项。15.失败案例解决经验：a.GPS定位故障；b北斗导航定位不精确；c.开机无法进入系统；d.TDDNoise；e.听筒开到最大音量破音；f.充电电量指示不准确，充电不完全充满；g.屏幕出现水纹；h.开机没有信号，显示CMCC,不断搜网；I.静态电流偏大;J.认证测试TD-LTE信号与wifi2.4G干扰无法通过，WIFIEVM达不到指标；K.3GACLR超标，L.主板发热，拍照发热，打电话发热等。接着以联发科新平台MT6750实际量产**项目**为主，八核处理器主频率为1.5GHz，拥有4GRAM+32GROM内存组合，GPU方面集成了来自ARM的Mali－T860，8xARMCortex-A53(4xA531.5GHz+4xA531.0GHz)，最高支持4GB的LPDDR3内存，相机最高支持1600万像素，1080p@30FPS视频拍摄为主。该平台不仅实现了全网通支持，也支持4G+/CA（300Mbps下行）的产品，并支持移动VoLTE，支持移动、联通、电信三大运营商主流3G、4G频段。主板采用10层二阶盲埋孔全程演示。涉及内容如下：1.外壳结构工艺成型，CNC加工工艺，NMT纳米注塑工艺，抛光阳极氧化等制作工艺；HDI盲埋孔制板工艺；2.天线分类，天线禁空区域的要求，天线尺寸和面积，天线与相关器件的布局讲究；3.阻抗控制原理，PolarSi9000软件使用方法；4.音频走线规则，结构设计对音频模块影响；5.射频走线规则，伪差分，DDR,模块复用技巧；6.单点接地，多点接地，浮地，模拟地，数字地，地闭合环路的处理方法，时钟有源晶体；7.ESD（静电），EMI（干扰）,EMC（电磁兼容）,屏蔽罩制作以及注意事项，主板露铜，主板散热（Thermal）；8.平面层和混合分隔电源和地的优劣以及实现的方法；BUCK电路以及电源反馈部分注意事项。9.手机主板夹具制作，SMT工艺和炉温曲线控，制版工程回复；10.信号完整性与传输线效应理论，信号带来串扰、反射、过冲与下冲、振荡、信号延迟等理论依据；改善这些现象的对策引入拓扑的结构（星形，菊花链，FLYBY）以及终端阻抗匹配的具体办法，常见的端接方式，参考平面的选择等。11.电源完整性，电源波动的状况，同步开关噪声的引入解决方法；滤波电容的寄生参数，定量的计算出去耦电容的个数以及每个电容的容值和放置的具体的位置，确保系统的阻抗在控制范围之内；12.面试技巧，简历撰写经验等。培训第三阶段，手机射频相关技术：1.RF收发器（Transceiver），功率放大器（PA），天线开关模块（ASM），前端模块（FEM），双工器，RFSAW滤波器及合成器常见器件的选型注意事项，常见供应商和替代器件注意事项；2.4G频段划分，4G三种语音CSFB、SGLTE、VOLTE优缺点介绍，全网通与双4G的区别，5模13频、5模17频各自的特点，以及国外客户（非洲和欧洲）常见频段使用情况等；3.目前的4G**网络**换成宽带其下行相当于百兆光钎速度了，这意味着即便用来玩台式机的游戏或者4K影片都不成问题，4G之所以能高速发展普及，手游跟1080-4K超高清晰影片可谓功不可没，这两项正是上一代3G手机的短板所在，那么5G能在这之上做什么?无非是储存容量高于目前的影片或者游戏5-10倍的AR或者VR等设备，还有就是与这两年很火的物联网，大数据，云计算之间息息相关。本次培训也涉及5G手机的发展关键技术，3GPP5G新标准，5G频段的划分，频谱拓展技术；4.5G终端天线相控阵体系和点阵天线的模组使用方法和测试总结报告，5G天线设计遇到的挑战以及解决损耗的方案；5.金属壳体对无线通电方案和毫米波天线设计的解决方案经验；6.手机入网认证测试，传导杂散，辐射杂散等认证测试方法，国际工业和民用消费业认证，美国FCC认证，加拿大IC认证，欧盟CE认证，澳洲RCM认证，俄罗斯CU-TU认证，非洲COC认证等。（备注现在大多国内手机企业都做的是国外的订单需要了解国外认证）。\n",
      "本帖最后由ziyu_00于2014-10-3111:46编辑官方连接地址：AltiumannouncesAltiumDesigner15toeasehighspeedPCBdesignwoes智能系统设计自动化、3DPCB设计解决方案(AltiumDesigner)和嵌入软件开发(TASKING)的全球领导者Altium有限公司近日宣布推出专业PCB和电子系统级设计软件AltiumDesigner15。Altium首席技术官JasonHingston表示：“新版软件体现了Altium对客户的研发承诺。我们非常高兴地看到，在过去一年内使用测试版软件的客户提出了很多关于高速PCB设计的清晰反馈和技术建议。PCB产业的发展也表明，制造厂商必须抛弃30年前的旧版设计文件格式，才能实现设计与生产的对接。有了IPC-2581和GerberX2的支持，AltiumDesigner将更好地服务于那些与复杂电路板顶尖制造商合作的设计人员。”图：AltiumDesigner15简化高速PCB设计难题Altium一直致力于开发提升工作效率且减缓设计压力的软件和解决方案，以助力用户应对复杂的电子设计**项目**，AltiumDesigner15的发布恰恰体现了这一承诺。Altium致力于为客户提供他们所想所需的产品，助其实现成功设计。秉承这一系列目标，AltiumDesigner15为实现下一代高速PCB设计进行了全新优化，并支持新的制造生产标准，紧跟行业领先趋势。高速信号管脚对现代设计要求信号传输速率达到100GB/s。上一代设计软件难以达到这一设计规格。这一过程通常需要人工重新操作，并在设计工具以外进行细致的信号布局，这一布局通常在电子表格程序中进行，因此增添了额外的步骤，也增加了失误的几率。AltiumDesigner15新增的管脚对能够：&#376;1.在端接元件上进行精确的长度和相位调整;&#376;2.在整条信号通路进行精确的长度、相位和延迟调整;设计人员不再需要借助外部软件，也不必维护复杂的信号**网络**列表，能够更高效、精确地实现高速信号**网络**组的布局布线。IPC-2581和GerberX2Support格式支持传统的Gerber作为计算机辅助制造(ComputerAidedManufacturing,CAM)格式，来源于约35年前发布的RS-274D标准版，很多人觉得这种标准Gerber格式已经过时。Ucamco公司最近将RS-274X格式更新为GerberX2以完善先前版本丢失的重要制造数据，国际印刷电路协会最近也制定了全新的格式标准—IPC-2581。这两个格式标准解决了使用旧版本(如GerberRS-274X)进入制造流程时所遇到的数据模糊或丢失的问题，能够完整地再现PCB的原本设计，包括：&#376;1.铺铜面&#376;2.电镀或非电镀孔、插槽、走线、凹槽及微盲孔&#376;3.PCB设计外形及挖空区域&#376;4.复杂的板层堆栈区域&#376;5.软硬结合电路板区域&#376;6.物料规格&#376;7.制造备注、公差及其他重要标准兼容信息AltiumDesigner15提供IPC-2581和GerberX2格式支持，使设计人员紧跟设计前沿，同时扩大其PCB制造厂商的选择。除了新性能的增加和基于客户切实反馈的持续维护工作，AltiumDesigner15还能强化电子工程工作流程，减少设计人员与制造商之间的交流障碍。如何获取Altium年度计划服务用户于本季度稍晚即可免费使用AltiumDesigner15。\n",
      "具体情况如下：我现在要画的这块pcb大约有三分之二的元件以及走线与已经画好的一块pcb一样，但是原理图不是在之前那个**项目**的文件上修改的，请问有哪位实际处理过这种情况？我现在的想法是直接用已经画好的这块pcb的pcb文件夹直接替换新的这个**项目**下面的pcb文件夹，不知这样操作是否可行，database会不会出现问题，导致文件打不开？同事教给我的做法是从已经画好的pcb中输出元器件的坐标文件，去掉不一样的元件后，然后倒入到新的pcb中，这样文件的位置倒是能够和原来一样，但是所有的**网络**都要重新走线，**网络**很多，实在比较费时费力。我在想象mentor这样强大的软件，总不至于要用户如此操作吧？象这种在别的**项目**的pcb上修改的情况很多，也是正常现象，于情于理应该有简便的方法。希望有经验的大虾不吝赐教，多谢！\n",
      "replyreload+=','+119544;一：由protelschpcb向cadencecaptureallegro过渡的理由1。capture的兼容性好，便于将来根据需要使用不同的版图设计软件。2。protel99se可以读取capture的工程，如果使用capture则protel端的原理图库不用重新画。3。allegro的仿真（信号完整性分析）工具较protel强大。4。allegro的自动布线工具较protel强大。5。cadence的pspice工具较protel强大。6。capture的元件库较protel丰富，且可以通过internet查找更新。7。allegro手工布线智能化程度比protel强，用用就知道：）二：capture使用小总结1。不要使用旧库，元件没有管脚编号，生成**网络**表时会出错。库的内容如下2。除电源属性的管脚外，同名管脚用不同数字区分，否则生成**网络**表时会出错。3。编辑自制元件时，批量放置管脚时先选好管脚属性，间隔位置等，否则修改起来很麻烦。4。自己的库固定放置在一个地方，搬移这个位置，如果还想修改元件的话，需要更新cache中的副本。（如何用宏批量完成此任务？）5。不可丢弃NC管脚，否则原理图正常但画板时元器件无法放置在板上6。我做元器件时忘了标注元件管脚号，现在修改了元件库有没有办法不一一去改每个元件，成批替换为修改后的库中的元件？--编辑图中的元件选择全部更新即可。7。为什麽所有的**网络**标号都是floating？将地的名称改为08。如何让capture放置元件时自动带上封装编辑元件时带上即可。9。导入的文件图不再GRID上怎麽办？修改时可直接删去原来部件，有一图标可使连线连到GRID上。三：allegro使用小总结1。allegro颜色设定，保存，调入和显示1-1。采用script文件纪录板的设定（包括各层颜色）1-2。用colorviewcreateload创建载入显示、不显示的设定。2。如何显示自己编辑的元件存放*.pad*.dra*.psm的路径将自己做的*.pad*.dra*.psm文件存于此目录G:\\Cadence\\PSD_14.2\\share\\pcb\\pcb_lib\\symbols可以单独设定自己的存放目录Setup-->userpreferences...3。如何加入不同的via3-1.用ALLEGROUTILITIES->ADSTACK工具制作3-2.Setup-->constraints...-->hysical(lines/vias)ruleset中的Setvalues...按钮Name栏输入via名Add之即可(注意顶上ConstraintSetName和Subclass)4。如何去掉PLACE_BOUND_TOP层的显示？为什麽用SYMBOLWIZARD生成的元件PLACE_BOUND_TOP层都有膜，并且如果删除元件将无法放到板上，而ALLEGRO自带的库却没有这一层？5。有没有办法只布一个**项目**中的一部分（用自动布线）？同protel一样，将其余布线锁定然后自动布线。6。如何让allegro显示实心焊盘？Setup-->DrawingOptions...Display:Filledpadsandclineendcaps*7。如何让capture与allegro交互工作？实现反向标注？8。如何移动via让track跟着移动？Route-->slide,Find面板选Vias@@@9。如何锁定元件？Edit-->roperties,Find面板选Symbol再到工作区点要固定的零件在弹出的对话框中找到Fix项点击之,ok即可!10。如何让图更着鼠标移动？若为3键式鼠标只要按住中键移动鼠标就可以移动屏幕了;若为2键式可以按住SHIFT键+鼠标右键移动鼠标也可以移动屏幕11。以前连过一条线，不满意，重画这条线时，能不能不先删去原来的连线，直接再画一条，画完这条线后，以前不满意的连线，自动消失在布线命令下Option面板上的Replaceetch12。allegro中如何选择删除与某一段线相连的所有线？选择相应功能后然后用鼠标选择一个区域（这里和protel习惯不同protel是先选择对象，这里是先选择功能）游客，如果您要查看本帖隐藏内容请回复\n",
      "PCB于1936年诞生，美国于1943年将该技术大量使用于军用收音机内；自20世纪50年代中期起，PCB技术开始被广泛采用。目前，PCB已然成为“电子产品之母”，其应用几乎渗透于电子产业的各个终端领域中，包括计算机、通信、消费电子、工业控制、医疗仪器、国防军工、航天航空等诸多领域。PCB从单层发展到双面、多层和挠性，并且仍旧保持着各自的发展趋势。由于不断地向高精度、高密度和高可靠性方向发展，不断缩小体积、减少成本、提高性能，使得印制板在未来电子设备的发展工程中，仍然保持着强大的生命力。那么PCB是如何设计的呢？看完以下七大步骤就懂了：1、前期准备包括准备元件库和原理图。在进行PCB设计之前，首先要准备好原理图SCH元件库和PCB元件封装库。PCB元件封装库最好是工程师根据所选器件的标准尺寸资料建立。原则上先建立PC的元件封装库，再建立原理图SCH元件库。PCB元件封装库要求较高，它直接影响PCB的安装；原理图SCH元件库要求相对宽松，但要注意定义好管脚属性和与PCB元件封装库的对应关系。2、PCB结构设计根据已经确定的电路板尺寸和各项机械定位，在PCB设计环境下绘制PCB板框，并按定位要求放置所需的接插件、按键/开关、螺丝孔、装配孔等等。充分考虑和确定布线区域和非布线区域（如螺丝孔周围多大范围属于非布线区域）。3、PCB布局设计布局设计即是在PCB板框内按照设计要求摆放器件。在原理图工具中生成**网络**表（Design→CreateNetlist），之后在PCB软件中导入**网络**表（Design→ImportNetlist）。**网络**表导入成功后会存在于软件后台，通过Placement操作可以将所有器件调出、各管脚之间有飞线提示连接，这时就可以对器件进行布局设计了。PCB布局设计是PCB整个设计流程中的首个重要工序，越复杂的PCB板，布局的好坏越能直接影响到后期布线的实现难易程度。布局设计依靠电路板设计师的电路基础功底与设计经验丰富程度，对电路板设计师属于较高级别的要求。初级电路板设计师经验尚浅、适合小模块布局设计或整板难度较低的PCB布局设计任务。4、PCB布线设计PCB布线设计是整个PCB设计中工作量最大的工序，直接影响着PCB板的性能好坏。在PCB的设计过程中，布线一般有三种境界：首先是布通，这是PCB设计的最基本的入门要求；其次是电气性能的满足，这是衡量一块PCB板是否合格的标准，在线路布通之后，认真调整布线、使其能达到最佳的电气性能；再次是整齐美观，杂乱无章的布线、即使电气性能过关也会给后期改板优化及测试与维修带来极大不便，布线要求整齐划一，不能纵横交错毫无章法。5、布线优化及丝印摆放“PCB设计没有最好、只有更好”，“PCB设计是一门缺陷的艺术”，这主要是因为PCB设计要实现硬件各方面的设计需求，而个别需求之间可能是冲突的、鱼与熊掌不可兼得。例如：某个PCB设计**项目**经过电路板设计师评估需要设计成6层板，但是产品硬件出于成本考虑、要求必须设计为4层板，那么只能牺牲掉信号屏蔽地层、从而导致相邻布线层之间的信号串扰增加、信号质量会降低。一般设计的经验是：优化布线的时间是初次布线的时间的两倍。PCB布线优化完成后，需要进行后处理，首要处理的是PCB板面的丝印标识，设计时底层的丝印字符需要做镜像处理，以免与顶层丝印混淆。6、**网络**DRC检查及结构检查质量控制是PCB设计流程的重要组成部分，一般的质量控制手段包括：设计自检、设计互检、专家评审会议、专项检查等。原理图和结构要素图是最基本的设计要求，**网络**DRC检查和结构检查就是分别确认PCB设计满足原理图网表和结构要素图两项输入条件。一般电路板设计师都会有自己积累的设计质量检查Checklist，其中的条目部分来源于公司或部门的规范、另一部分来源于自身的经验总结。专项检查包括设计的Valor检查及DFM检查，这两部分内容关注的是PCB设计输出后端加工光绘文件。7、PCB制板在PCB正式加工制板之前，电路板设计师需要与PCB甲供板厂的PE进行沟通，答复厂家关于PCB板加工的确认问题。这其中包括但不限于：PCB板材型号的选择、线路层线宽线距的调整、阻抗控制的调整、PCB层叠厚度的调整、表面处理加工工艺、孔径公差控制与交付标准等。以上就是PCB设计整个全流程啦。更多应用请关注我们的官方微信：ameya360回复“应用”即可获得更多文章。\n",
      "作为一个电子工程师设计电路是一项必备的硬功夫，但是原理设计再完美，如果电路板设计不合理性能将大打折扣，严重时甚至不能正常工作。我自己的经验，总结出以下一些ＰＣＢ设计中应该注意的地方，希望能对您有所帮助,如有错别的地方,还请指正,谢谢!!其实不管用什么软件，ＰＣＢ设计有个大致的程序，按顺序来会省时省力，因此我将按制作流程来介绍一下。（由于ｐｒｏｔｅｌ界面风格与ｗｉｎｄｏｗｓ视窗接近，操作习惯也相近，且有强大的仿真功能，使用的人比较多，将以此软件作说明。）原理图设计是前期准备工作，经常见到初学者为了省事直接就去画ＰＣＢ板了，这样将得不偿失，对简单的板子，如果熟练流程，不妨可以跳过。但是对于初学者一定要按流程来，这样一方面可以养成良好的习惯，另一方面对复杂的电路也只有这样才能避免出错。在画原理图时，层次设计时要注意各个文件最后要连接为一个整体，这同样对以后的工作有重要意义。由于，软件的差别有些软件会出现看似相连实际未连（电气性能上）的情况。如果不用相关检测工具检测，万一出了问题，等板子做好了才发现就晚了。因此一再强调按顺序来做的重要性，希望引起大家的注意。原理图是根据设计的**项目**来的，只要电性连接正确没什么好说的。下面我们重点讨论一下具体的制板程序中的问题。ｌ、制作物理边框封闭的物理边框对以后的元件布局、走线来说是个基本平台，也对自动布局起着约束作用，否则，从原理图过来的元件会不知所措的。但这里一定要注意精确，否则以后出现安装问题麻烦可就大了。还有就是拐角地方最好用圆弧，一方面可以避免尖角划伤工人，同时又可以减轻应力作用。２、元件和**网络**的引入把元件和**网络**引人画好的边框中应该很简单，但是这里往往会出问题，一定要细心地按提示的错误逐个解决，不然后面要费更大的力气。这里的问题一般来说有以下一些：元件的封装形式找不到，元件**网络**问题，有未使用的元件或管脚，对照提示这些问题可以很快搞定的。３、元件的布局元件的布局与走线对产品的寿命、稳定性、电磁兼容都有很大的影响，是应该特别注意的地方。一般来说应该有以下一些原则：３．ｌ放置顺序先放置与结构有关的固定位置的元器件，如电源插座、指示灯、开关、连接件之类，这些器件放置好后用软件的ＬＯＣＫ功能将其锁定，使之以后不会被误移动。再放置线路上的特殊元件和大的元器件，如发热元件、变压器、IC等。最后放置小器件。３．２注意散热元件布局还要特别注意散热问题。对于大功率电路，应该将那些发热元件如功率管、变压器等尽量靠边分散布局放置，便于热量散发，不要集中在一个地方，也不要高电容太近以免使电解液过早老化。４、布线布线原则走线的学问是非常高深的，每人都会有自己的体会，但还是有些通行的原则的。◆高频数字电路走线细一些、短一些好◆大电流信号、高电压信号与小信号之间应该注意隔离（隔离距离与要承受的耐压有关，通常情况下在2ＫＶ时板上要距离2mm，在此之上以比例算还要加大，例如若要承受３ＫＶ的耐压测试，则高低压线路之间的距离应在3.5ｍｍ以上，许多情况下为避免爬电，还在印制线路板上的高低压之间开槽。）◆两面板布线时，两面的导线宜相互垂直、斜交、或弯曲走线，避免相互平行，以减小寄生耦合；作为电路的输人及输出用的印制导线应尽量避兔相邻平行，以免发生回授，在这些导线之间最好加接地线。◆走线拐角尽可能大于９０度，杜绝９０度以下的拐角，也尽量少用９０度拐角◆同是地址线或者数据线，走线长度差异不要太大，否则短线部分要人为走弯线作补偿◆走线尽量走在焊接面，特别是通孔工艺的ＰＣＢ◆尽量少用过孔、跳线◆单面板焊盘必须要大，焊盘相连的线一定要粗，能放泪滴就放泪滴，一般的单面板厂家质量不会很好，否则对焊接和ＲＥ－ＷＯＲＫ都会有问题◆大面积敷铜要用网格状的，以防止波焊时板子产生气泡和因为热应力作用而弯曲，但在特殊场合下要考虑ＧＮＤ的流向，大小，不能简单的用铜箔填充了事，而是需要去走线◆元器件和走线不能太靠边放，一般的单面板多为纸质板，受力后容易断裂，如果在边缘连线或放元器件就会受到影响◆必须考虑生产、调试、维修的方便性对模拟电路来说处理地的问题是很重要的，地上产生的噪声往往不便预料，可是一旦产生将会带来极大的麻烦，应该未雨绸缎。对于功放电路，极微小的地噪声都会因为后级的放大对音质产生明显的影响；在高精度Ａ／Ｄ转换电路中，如果地线上有高频分量存在将会产生一定的温漂，影响放大器的工作。这时可以在板子的４角加退藕电容，一脚和板子上的地连，一脚连到安装孔上去（通过螺钉和机壳连），这样可将此分量虑去，放大器及ＡＤ也就稳定了。另外，电磁兼容问题在目前人们对环保产品倍加关注的情况下显得更加重要了。一般来说电磁信号的来源有３个：信号源，辐射，传输线。晶振是常见的一种高频信号源，在功率谱上晶振的各次谐波能量值会明显高出平均值。可行的做法是控制信号的幅度，晶振外壳接地，对干扰信号进行屏蔽，采用特殊的滤波电路及器件等。<<需要特别说明的是蛇形走线，因为应用场合不同其作用也是不同的，在电脑的主板中用在一些时钟信号上，如ＰＣＩＣｌｋ、ＡＧＰ-Ｃｌｋ，它的作用有两点：１、阻抗匹配２、滤波电感。对一些重要信号，如ＩＮＴＥＬＨＵＢ架构中的ＨＵＢＬｉｎｋ，一共１３根，频率可达２３３ＭＨＺ，要求必须严格等长，以消除时滞造成的隐患，这时，蛇形走线是唯一的解决办法。一般来讲，蛇形走线的线距＞＝２倍的线宽；若在普通PCB板中，除了具有滤波电感的作用外，还可作为收音机天线的电感线圈等等>>５、调整完善完成布线后，要做的就是对文字、个别元件、走线做些调整以及敷铜（这项工作不宜太早，否则会影响速度，又给布线带来麻烦），同样是为了便于进行生产、调试、维修。敷铜通常指以大面积的铜箔去填充布线后留下的空白区，可以铺ＧＮＤ的铜箔，也可以铺ＶＣＣ的铜箔（但这样一旦短路容易烧毁器件，最好接地，除非不得已用来加大电源的导通面积，以承受较大的电流才接ＶＣＣ）。包地则通常指用两根地线（ＴＲＡＣ）包住一撮有特殊要求的信号线，防止它被别人干扰或干扰别人。如果用敷铜代替地线一定要注意整个地是否连通，电流大小、流向与有无特殊要求，以确保减少不必要的失误。６、检查核对**网络**有时候会因为误操作或疏忽造成所画的板子的**网络**关系与原理图不同，这时检察核对是很有必要的。所以画完以后切不可急于交给制版厂家，应该先做核对，后再进行后续工作。７、使用仿真功能完成这些工作后，如果时间允许还可以进行软件仿真。特别是高频数字电路，这样可以提前发现一些问题，大大减少以后的调试工作量。\n",
      "我用的是exp2005pack1，DXD建了一个工程，并通过了checker,但是，当我想产生PCB**网络**表的时候在TOOLS里面有三项工具用不了。CreateRefdes(common)CreatePCBNetlist(common)Launcheplannet(common)请问这是什么回事？我的**项目**有问题吗？问题出在哪里？郁闷！\n"
     ]
    }
   ],
   "source": [
    "for i, document in enumerate(search_enginer('项目 网络')):\n",
    "    if i>10: break\n",
    "    print(document)"
   ]
  },
  {
   "cell_type": "code",
   "execution_count": null,
   "metadata": {},
   "outputs": [],
   "source": []
  },
  {
   "cell_type": "code",
   "execution_count": null,
   "metadata": {},
   "outputs": [],
   "source": []
  },
  {
   "cell_type": "code",
   "execution_count": null,
   "metadata": {},
   "outputs": [],
   "source": []
  },
  {
   "cell_type": "markdown",
   "metadata": {},
   "source": [
    "## PageRank"
   ]
  },
  {
   "cell_type": "code",
   "execution_count": 48,
   "metadata": {},
   "outputs": [],
   "source": [
    "import networkx as nx"
   ]
  },
  {
   "cell_type": "code",
   "execution_count": 49,
   "metadata": {},
   "outputs": [],
   "source": [
    "import random"
   ]
  },
  {
   "cell_type": "code",
   "execution_count": 50,
   "metadata": {},
   "outputs": [],
   "source": [
    "from string import ascii_letters"
   ]
  },
  {
   "cell_type": "code",
   "execution_count": 51,
   "metadata": {},
   "outputs": [],
   "source": [
    "def generate_name(): return ''.join([random.choice(ascii_letters.upper()) for _ in range(3)])"
   ]
  },
  {
   "cell_type": "code",
   "execution_count": 52,
   "metadata": {},
   "outputs": [
    {
     "data": {
      "text/plain": [
       "'KMG'"
      ]
     },
     "execution_count": 52,
     "metadata": {},
     "output_type": "execute_result"
    }
   ],
   "source": [
    "generate_name()"
   ]
  },
  {
   "cell_type": "code",
   "execution_count": 53,
   "metadata": {},
   "outputs": [],
   "source": [
    "social_graph = {\n",
    "    \"Yao\": ['Guo', 'Wang', 'Tian', 'Tim'] + [generate_name() for _ in range(4)], \n",
    "    \"Guo\": ['Li'] + [generate_name() for _ in range(5)],\n",
    "    \"Wang\": [\"Li_2\"] + [generate_name() for _ in range(5)], \n",
    "    \"Li_2\": [generate_name() for _ in range(5)], \n",
    "    \"Li\": [generate_name() for _ in range(1)],\n",
    "}"
   ]
  },
  {
   "cell_type": "code",
   "execution_count": 54,
   "metadata": {},
   "outputs": [],
   "source": [
    "social_network = nx.graph.Graph(social_graph)"
   ]
  },
  {
   "cell_type": "code",
   "execution_count": 55,
   "metadata": {},
   "outputs": [],
   "source": [
    "%matplotlib inline"
   ]
  },
  {
   "cell_type": "code",
   "execution_count": 56,
   "metadata": {},
   "outputs": [
    {
     "data": {
      "image/png": "[encoded data removed]",
      "text/plain": [
       "<Figure size 432x288 with 1 Axes>"
      ]
     },
     "metadata": {
      "needs_background": "light"
     },
     "output_type": "display_data"
    }
   ],
   "source": [
    "nx.draw_networkx(social_network)"
   ]
  },
  {
   "cell_type": "code",
   "execution_count": 57,
   "metadata": {},
   "outputs": [
    {
     "data": {
      "text/plain": [
       "[('Yao', 0.14018616244938112),\n",
       " ('Guo', 0.12625952492883674),\n",
       " ('Wang', 0.12354105488402628),\n",
       " ('Li_2', 0.11100157862592008),\n",
       " ('Li', 0.04009295437632798),\n",
       " ('MYU', 0.022595018111845305),\n",
       " ('HLO', 0.021279981196290158),\n",
       " ('XWZ', 0.021279981196290158),\n",
       " ('RRJ', 0.021279981196290158),\n",
       " ('QHG', 0.021279981196290158),\n",
       " ('CSM', 0.021279981196290158),\n",
       " ('XEM', 0.02088716348418851),\n",
       " ('SHQ', 0.02088716348418851),\n",
       " ('WRL', 0.02088716348418851),\n",
       " ('RVG', 0.02088716348418851),\n",
       " ('OFV', 0.02088716348418851),\n",
       " ('IYC', 0.020557581368083087),\n",
       " ('RYB', 0.020557581368083087),\n",
       " ('CUJ', 0.020557581368083087),\n",
       " ('QQO', 0.020557581368083087),\n",
       " ('DSK', 0.020557581368083087),\n",
       " ('Tian', 0.020450012730142263),\n",
       " ('Tim', 0.020450012730142263),\n",
       " ('WXY', 0.020450012730142263),\n",
       " ('PEM', 0.020450012730142263),\n",
       " ('TJU', 0.020450012730142263),\n",
       " ('QLJ', 0.020450012730142263)]"
      ]
     },
     "execution_count": 57,
     "metadata": {},
     "output_type": "execute_result"
    }
   ],
   "source": [
    "sorted(nx.pagerank(social_network).items(), key=lambda x: x[1], reverse=True)"
   ]
  },
  {
   "cell_type": "markdown",
   "metadata": {},
   "source": [
    "# Summary\n",
    "1. Build A Search Engine from Zero\n",
    "2. Inverse Index -> quick retrieval\n",
    "3. Tfidf -> Similarity Ranking\n",
    "4. PageRank -> Web Page Importance\n",
    "\n",
    "distributed python programming https://p16.praetorian.com/blog/multi-core-and-distributed-programming-in-python"
   ]
  },
  {
   "cell_type": "code",
   "execution_count": null,
   "metadata": {},
   "outputs": [],
   "source": []
  }
 ],
 "metadata": {
  "kernelspec": {
   "display_name": "Python 3",
   "language": "python",
   "name": "python3"
  },
  "language_info": {
   "codemirror_mode": {
    "name": "ipython",
    "version": 3
   },
   "file_extension": ".py",
   "mimetype": "text/x-python",
   "name": "python",
   "nbconvert_exporter": "python",
   "pygments_lexer": "ipython3",
   "version": "3.7.0"
  }
 },
 "nbformat": 4,
 "nbformat_minor": 2
}
