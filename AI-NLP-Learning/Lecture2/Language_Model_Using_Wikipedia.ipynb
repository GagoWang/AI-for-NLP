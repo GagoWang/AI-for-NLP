{
 "cells": [
  {
   "cell_type": "code",
   "execution_count": 55,
   "metadata": {},
   "outputs": [],
   "source": [
    "import re\n",
    "import sys\n",
    "import codecs\n",
    "def myfun(input_file):\n",
    "    p1 = re.compile(r'-\\{.*?(zh-hans|zh-cn):([^;]*?)(;.*?)?\\}-')\n",
    "    p2 = re.compile(r'[（\\(][，；。？！\\s]*[）\\)]')\n",
    "    p3 = re.compile(r'[「『]')\n",
    "    p4 = re.compile(r'[」』]')\n",
    "    outfile = codecs.open('std_'+input_file, 'w', 'utf-8')\n",
    "    with codecs.open(input_file, 'r', 'utf-8') as myfile:\n",
    "        myfile.seek(0)\n",
    "        for line in myfile:\n",
    "            line = p1.sub(r'\\2', line)\n",
    "            line = p2.sub(r'', line)\n",
    "            line = p3.sub(r'“', line)\n",
    "            line = p4.sub(r'”', line)\n",
    "            outfile.write(line)\n",
    "    outfile.close()"
   ]
  },
  {
   "cell_type": "code",
   "execution_count": 151,
   "metadata": {},
   "outputs": [],
   "source": [
    "from collections import Counter\n",
    "from functools import reduce\n",
    "from operator import add,mul"
   ]
  },
  {
   "cell_type": "code",
   "execution_count": 36,
   "metadata": {},
   "outputs": [],
   "source": [
    "#myfun('wiki_01')"
   ]
  },
  {
   "cell_type": "code",
   "execution_count": 74,
   "metadata": {},
   "outputs": [],
   "source": [
    "def tokenize(string): \n",
    "    return ''.join(re.findall('[\\w|\\d]+', string))"
   ]
  },
  {
   "cell_type": "code",
   "execution_count": 121,
   "metadata": {},
   "outputs": [],
   "source": [
    "wiki_content = ['wiki_00','wiki_01']"
   ]
  },
  {
   "cell_type": "code",
   "execution_count": 122,
   "metadata": {},
   "outputs": [],
   "source": [
    "wiki_content_processed=[]"
   ]
  },
  {
   "cell_type": "code",
   "execution_count": 123,
   "metadata": {},
   "outputs": [],
   "source": [
    "wiki_countent_counter = []"
   ]
  },
  {
   "cell_type": "code",
   "execution_count": 124,
   "metadata": {},
   "outputs": [],
   "source": [
    "def get_content_from_wiki(content):\n",
    "    for wiki_n in content:\n",
    "        #print(wiki_n)\n",
    "        outfile = codecs.open(wiki_n, 'r', 'utf-8')\n",
    "        outfile.seek(0)\n",
    "        content_n = outfile.read()\n",
    "        #print(content_n[:1000])\n",
    "        wiki_content_processed.append(tokenize(content_n))"
   ]
  },
  {
   "cell_type": "code",
   "execution_count": 125,
   "metadata": {},
   "outputs": [],
   "source": [
    "get_content_from_wiki(content_name)"
   ]
  },
  {
   "cell_type": "code",
   "execution_count": 127,
   "metadata": {},
   "outputs": [],
   "source": [
    "def get_n_gram_count(content,gram_length):\n",
    "    return Counter(content[i:i+gram_length] for i in range(len(content)-gram_length))"
   ]
  },
  {
   "cell_type": "code",
   "execution_count": 132,
   "metadata": {},
   "outputs": [],
   "source": [
    "for content in wiki_content_processed:\n",
    "    wiki_countent_counter.append(get_n_gram_count(content,1))"
   ]
  },
  {
   "cell_type": "code",
   "execution_count": 162,
   "metadata": {},
   "outputs": [],
   "source": [
    "def bag_word_model(content,gram_length):\n",
    "    counter_array=[]\n",
    "    for content in content:\n",
    "        counter_array.append(get_n_gram_count(content,gram_length))\n",
    "    sum=reduce(add,counter_array)\n",
    "    return sum"
   ]
  },
  {
   "cell_type": "code",
   "execution_count": 163,
   "metadata": {},
   "outputs": [],
   "source": [
    "one_gram_bag = bag_word_model(wiki_content_processed,1)"
   ]
  },
  {
   "cell_type": "code",
   "execution_count": 173,
   "metadata": {},
   "outputs": [],
   "source": [
    "two_gram_bag = bag_word_model(wiki_content_processed,2)"
   ]
  },
  {
   "cell_type": "markdown",
   "metadata": {},
   "source": [
    "## 1-gram"
   ]
  },
  {
   "cell_type": "code",
   "execution_count": 169,
   "metadata": {},
   "outputs": [],
   "source": [
    "def get_probablity_from_counts(count):\n",
    "    all_occurance = sum(count.values())\n",
    "    min_occurance = min(count.values())\n",
    "    def get_prob(item):\n",
    "        return count[item]/all_occurance\n",
    "    return get_prob\n",
    "\n",
    "get_char_prob = get_probablity_from_counts(one_gram_bag)\n",
    "\n",
    "def get_prob_of_string(string):\n",
    "    return reduce(mul,[get_char_prob(e) for e in string ])"
   ]
  },
  {
   "cell_type": "code",
   "execution_count": 170,
   "metadata": {},
   "outputs": [],
   "source": [
    "pair = \"\"\"前天晚上吃晚饭的时候\n",
    "前天晚上吃早饭的时候\"\"\".split('\\n')\n",
    "\n",
    "pair2 = \"\"\"正是一个好看的小猫\n",
    "真是一个好看的小猫\"\"\".split('\\n')\n",
    "\n",
    "pair3 = \"\"\"我无言以对，简直\n",
    "我简直无言以对\"\"\".split('\\n')\n",
    "\n",
    "pair=[pair,pair2,pair3]"
   ]
  },
  {
   "cell_type": "code",
   "execution_count": 171,
   "metadata": {},
   "outputs": [],
   "source": [
    "def compare_probabilty_of_pairs(language_model_func,pairs):\n",
    "    for (p1,p2) in pairs:\n",
    "        print(\"{} with probability {}\".format(p1,language_model_func(tokenize(p1))))\n",
    "        print(\"{} with probability {}\".format(p2,language_model_func(tokenize(p2))))"
   ]
  },
  {
   "cell_type": "code",
   "execution_count": 172,
   "metadata": {},
   "outputs": [
    {
     "name": "stdout",
     "output_type": "stream",
     "text": [
      "前天晚上吃晚饭的时候 with probability 2.3162692855769543e-33\n",
      "前天晚上吃早饭的时候 with probability 5.675427023657171e-33\n",
      "正是一个好看的小猫 with probability 7.709972478020889e-27\n",
      "真是一个好看的小猫 with probability 2.398281969973941e-27\n",
      "我无言以对，简直 with probability 2.4200337614488475e-23\n",
      "我简直无言以对 with probability 2.4200337614488475e-23\n"
     ]
    }
   ],
   "source": [
    "compare_probabilty_of_pairs(get_prob_of_string,pair)"
   ]
  },
  {
   "cell_type": "code",
   "execution_count": null,
   "metadata": {},
   "outputs": [],
   "source": []
  },
  {
   "cell_type": "markdown",
   "metadata": {},
   "source": [
    "## 2-gram"
   ]
  },
  {
   "cell_type": "code",
   "execution_count": 183,
   "metadata": {},
   "outputs": [],
   "source": [
    "get_pair_prob = get_probablity_from_counts(two_gram_bag)"
   ]
  },
  {
   "cell_type": "code",
   "execution_count": 184,
   "metadata": {},
   "outputs": [],
   "source": [
    "def get_2_gram_prob(word,prev):\n",
    "    if get_pair_prob(prev+word)>0:\n",
    "        return get_pair_prob(prev+word)/get_char_prob(prev)\n",
    "    else:\n",
    "        return get_char_prob(word)\n",
    "\n",
    "def get_2_gram_string_prob(func,string):\n",
    "    probabilities = []\n",
    "    for i,c in enumerate(string):\n",
    "        prev = '<s>' if i==0 else string[i-1]\n",
    "        probabilities.append(func(c,prev))\n",
    "    return reduce(mul,probabilities)"
   ]
  },
  {
   "cell_type": "code",
   "execution_count": 185,
   "metadata": {},
   "outputs": [],
   "source": [
    "def compare_probabilty_of_pairs2(language_model_func,word_prec_func,pairs):\n",
    "    for (p1,p2) in pairs:\n",
    "        print(\"{} with probability {}\".format(p1,language_model_func(word_prec_func,tokenize(p1))))\n",
    "        print(\"{} with probability {}\".format(p2,language_model_func(word_prec_func,tokenize(p2))))"
   ]
  },
  {
   "cell_type": "code",
   "execution_count": 186,
   "metadata": {},
   "outputs": [
    {
     "name": "stdout",
     "output_type": "stream",
     "text": [
      "前天晚上吃晚饭的时候 with probability 2.4216224148861075e-24\n",
      "前天晚上吃早饭的时候 with probability 6.516385828119504e-25\n",
      "正是一个好看的小猫 with probability 3.2892490412094493e-21\n",
      "真是一个好看的小猫 with probability 3.983452689530549e-22\n",
      "我无言以对，简直 with probability 1.0826099101827279e-20\n",
      "我简直无言以对 with probability 1.2717638101101955e-21\n"
     ]
    }
   ],
   "source": [
    "compare_probabilty_of_pairs2(get_2_gram_string_prob,get_2_gram_prob,pair)"
   ]
  }
 ],
 "metadata": {
  "kernelspec": {
   "display_name": "Python 3",
   "language": "python",
   "name": "python3"
  },
  "language_info": {
   "codemirror_mode": {
    "name": "ipython",
    "version": 3
   },
   "file_extension": ".py",
   "mimetype": "text/x-python",
   "name": "python",
   "nbconvert_exporter": "python",
   "pygments_lexer": "ipython3",
   "version": "3.7.0"
  }
 },
 "nbformat": 4,
 "nbformat_minor": 2
}
