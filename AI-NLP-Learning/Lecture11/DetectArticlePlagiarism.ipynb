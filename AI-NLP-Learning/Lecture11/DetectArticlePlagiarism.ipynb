{
 "cells": [
  {
   "cell_type": "code",
   "execution_count": 144,
   "metadata": {
    "ExecuteTime": {
     "end_time": "2019-01-21T07:50:28.915616Z",
     "start_time": "2019-01-21T07:50:28.911399Z"
    }
   },
   "outputs": [],
   "source": [
    "import pandas as pd\n",
    "import sklearn\n",
    "import re\n",
    "import jieba\n",
    "from sklearn.feature_extraction.text import TfidfVectorizer\n",
    "from sklearn.model_selection import train_test_split\n",
    "import numpy as np\n",
    "from sklearn.model_selection import cross_validate\n",
    "from sklearn.metrics import accuracy_score, precision_score, recall_score, f1_score"
   ]
  },
  {
   "cell_type": "code",
   "execution_count": 20,
   "metadata": {
    "ExecuteTime": {
     "end_time": "2019-01-21T02:37:55.467302Z",
     "start_time": "2019-01-21T02:37:52.537449Z"
    }
   },
   "outputs": [],
   "source": [
    "news = pd.read_csv('../train/sqlResult_1558435.csv', encoding='gb18030')"
   ]
  },
  {
   "cell_type": "code",
   "execution_count": 21,
   "metadata": {
    "ExecuteTime": {
     "end_time": "2019-01-21T02:38:42.733400Z",
     "start_time": "2019-01-21T02:38:42.728520Z"
    }
   },
   "outputs": [
    {
     "data": {
      "text/plain": [
       "89611"
      ]
     },
     "execution_count": 21,
     "metadata": {},
     "output_type": "execute_result"
    }
   ],
   "source": [
    "len(news)"
   ]
  },
  {
   "cell_type": "code",
   "execution_count": 22,
   "metadata": {
    "ExecuteTime": {
     "end_time": "2019-01-21T02:38:51.036360Z",
     "start_time": "2019-01-21T02:38:50.992334Z"
    }
   },
   "outputs": [],
   "source": [
    "news = news.dropna(subset=['content'])"
   ]
  },
  {
   "cell_type": "code",
   "execution_count": 23,
   "metadata": {
    "ExecuteTime": {
     "end_time": "2019-01-21T02:38:51.788324Z",
     "start_time": "2019-01-21T02:38:51.782784Z"
    }
   },
   "outputs": [
    {
     "data": {
      "text/plain": [
       "87054"
      ]
     },
     "execution_count": 23,
     "metadata": {},
     "output_type": "execute_result"
    }
   ],
   "source": [
    "len(news)"
   ]
  },
  {
   "cell_type": "code",
   "execution_count": 24,
   "metadata": {
    "ExecuteTime": {
     "end_time": "2019-01-21T02:38:56.670431Z",
     "start_time": "2019-01-21T02:38:56.667239Z"
    }
   },
   "outputs": [],
   "source": [
    "def tokenize(string):\n",
    "    return ''.join(re.findall('[\\w|\\d]+', string))"
   ]
  },
  {
   "cell_type": "code",
   "execution_count": 25,
   "metadata": {
    "ExecuteTime": {
     "end_time": "2019-01-21T02:38:58.234299Z",
     "start_time": "2019-01-21T02:38:58.231017Z"
    }
   },
   "outputs": [],
   "source": [
    "def cutword(string):\n",
    "    return ' '.join(list(jieba.cut(tokenize(string))))"
   ]
  },
  {
   "cell_type": "code",
   "execution_count": 26,
   "metadata": {
    "ExecuteTime": {
     "end_time": "2019-01-21T02:38:59.244753Z",
     "start_time": "2019-01-21T02:38:59.234922Z"
    }
   },
   "outputs": [
    {
     "data": {
      "text/plain": [
       "'这是 6 月 18 日 在 葡萄牙 中部 大 佩德罗 冈 地区 拍摄 的 被 森林 大火 烧毁 的 汽车 新华社 记者 张立 云摄'"
      ]
     },
     "execution_count": 26,
     "metadata": {},
     "output_type": "execute_result"
    }
   ],
   "source": [
    "cutword(tokenize(news.iloc[3].content))"
   ]
  },
  {
   "cell_type": "code",
   "execution_count": 34,
   "metadata": {
    "ExecuteTime": {
     "end_time": "2019-01-21T02:59:31.482174Z",
     "start_time": "2019-01-21T02:57:04.387138Z"
    }
   },
   "outputs": [],
   "source": [
    "news_corpus = list(map(cutword, news.content))"
   ]
  },
  {
   "cell_type": "markdown",
   "metadata": {},
   "source": [
    "## tfidf"
   ]
  },
  {
   "cell_type": "code",
   "execution_count": 40,
   "metadata": {
    "ExecuteTime": {
     "end_time": "2019-01-21T03:24:54.216443Z",
     "start_time": "2019-01-21T03:24:54.175099Z"
    }
   },
   "outputs": [],
   "source": [
    "vectorizer = TfidfVectorizer(min_df=0.015)"
   ]
  },
  {
   "cell_type": "code",
   "execution_count": 41,
   "metadata": {
    "ExecuteTime": {
     "end_time": "2019-01-21T03:25:08.971556Z",
     "start_time": "2019-01-21T03:24:57.758400Z"
    }
   },
   "outputs": [],
   "source": [
    "tfidf = vectorizer.fit_transform(news_corpus)"
   ]
  },
  {
   "cell_type": "code",
   "execution_count": 42,
   "metadata": {
    "ExecuteTime": {
     "end_time": "2019-01-21T03:25:44.286076Z",
     "start_time": "2019-01-21T03:25:44.281148Z"
    }
   },
   "outputs": [
    {
     "data": {
      "text/plain": [
       "(87054, 945)"
      ]
     },
     "execution_count": 42,
     "metadata": {},
     "output_type": "execute_result"
    }
   ],
   "source": [
    "tfidf.shape"
   ]
  },
  {
   "cell_type": "markdown",
   "metadata": {},
   "source": [
    "## split dataset"
   ]
  },
  {
   "cell_type": "code",
   "execution_count": 80,
   "metadata": {
    "ExecuteTime": {
     "end_time": "2019-01-21T06:02:31.368108Z",
     "start_time": "2019-01-21T06:02:31.342577Z"
    }
   },
   "outputs": [],
   "source": [
    "label = list(map(lambda n: 1 if '新华' in str(n) else 0, news.source))"
   ]
  },
  {
   "cell_type": "code",
   "execution_count": 89,
   "metadata": {
    "ExecuteTime": {
     "end_time": "2019-01-21T06:11:16.930354Z",
     "start_time": "2019-01-21T06:11:16.921241Z"
    }
   },
   "outputs": [],
   "source": [
    "label_xinhua = np.where(np.array(label) == 1)"
   ]
  },
  {
   "cell_type": "code",
   "execution_count": 91,
   "metadata": {
    "ExecuteTime": {
     "end_time": "2019-01-21T06:11:31.757740Z",
     "start_time": "2019-01-21T06:11:31.752627Z"
    }
   },
   "outputs": [
    {
     "data": {
      "text/plain": [
       "78855"
      ]
     },
     "execution_count": 91,
     "metadata": {},
     "output_type": "execute_result"
    }
   ],
   "source": [
    "len(label_xinhua[0])"
   ]
  },
  {
   "cell_type": "code",
   "execution_count": 96,
   "metadata": {
    "ExecuteTime": {
     "end_time": "2019-01-21T06:17:47.785523Z",
     "start_time": "2019-01-21T06:17:47.699278Z"
    }
   },
   "outputs": [
    {
     "name": "stderr",
     "output_type": "stream",
     "text": [
      "/Users/Gago/Workplace/Software/Anaconda/anaconda3/lib/python3.7/site-packages/sklearn/model_selection/_split.py:2026: FutureWarning: From version 0.21, test_size will always complement train_size unless both are specified.\n",
      "  FutureWarning)\n"
     ]
    }
   ],
   "source": [
    "X_train, X_test, y_train, y_test = train_test_split(\n",
    "    tfidf, label, train_size=0.7, random_state=42)"
   ]
  },
  {
   "cell_type": "code",
   "execution_count": null,
   "metadata": {},
   "outputs": [],
   "source": [
    "# tfidf data indices"
   ]
  },
  {
   "cell_type": "code",
   "execution_count": null,
   "metadata": {},
   "outputs": [],
   "source": []
  },
  {
   "cell_type": "code",
   "execution_count": 211,
   "metadata": {
    "ExecuteTime": {
     "end_time": "2019-01-25T01:32:16.207945Z",
     "start_time": "2019-01-25T01:32:16.202888Z"
    }
   },
   "outputs": [],
   "source": [
    "def get_model_score(y, y_pred):\n",
    "    return accuracy_score(y, y_pred), precision_score(y, y_pred), recall_score(y, y_pred), f1_score(y, y_pred)"
   ]
  },
  {
   "cell_type": "markdown",
   "metadata": {},
   "source": [
    "### Naive Bayes"
   ]
  },
  {
   "cell_type": "code",
   "execution_count": 133,
   "metadata": {
    "ExecuteTime": {
     "end_time": "2019-01-21T06:54:11.190029Z",
     "start_time": "2019-01-21T06:54:11.184483Z"
    }
   },
   "outputs": [],
   "source": [
    "from sklearn.naive_bayes import MultinomialNB"
   ]
  },
  {
   "cell_type": "code",
   "execution_count": 134,
   "metadata": {
    "ExecuteTime": {
     "end_time": "2019-01-21T06:55:01.639259Z",
     "start_time": "2019-01-21T06:55:01.636046Z"
    }
   },
   "outputs": [],
   "source": [
    "nb_clf = MultinomialNB()"
   ]
  },
  {
   "cell_type": "code",
   "execution_count": 135,
   "metadata": {
    "ExecuteTime": {
     "end_time": "2019-01-21T06:55:33.452876Z",
     "start_time": "2019-01-21T06:55:33.411483Z"
    }
   },
   "outputs": [
    {
     "data": {
      "text/plain": [
       "MultinomialNB(alpha=1.0, class_prior=None, fit_prior=True)"
      ]
     },
     "execution_count": 135,
     "metadata": {},
     "output_type": "execute_result"
    }
   ],
   "source": [
    "nb_clf.fit(X_train, y_train)"
   ]
  },
  {
   "cell_type": "code",
   "execution_count": 139,
   "metadata": {
    "ExecuteTime": {
     "end_time": "2019-01-21T07:13:10.042916Z",
     "start_time": "2019-01-21T07:13:10.037534Z"
    }
   },
   "outputs": [
    {
     "name": "stdout",
     "output_type": "stream",
     "text": [
      "[1 1 1 1 1 0 1 1 0 1 0 1 1 1 1 1 1 1 0 1 1 1 1 0 1 0 1 0 1 1 1 1 1 1 0 1 1\n",
      " 1 0 1 1 1 1 1 0 1 0 0 1 1 1 1 1 0 1 1 1 1 1 1 1 1 1 1 1 1 1 1 1 1 1 1 0 1\n",
      " 1 1 1 1 1 1 1 1 1 1 1 1 0 1 1 1 0 1 1 1 1 1 1 0 1]\n"
     ]
    }
   ],
   "source": [
    "print(nb_clf.predict(X_test[1:100]))"
   ]
  },
  {
   "cell_type": "code",
   "execution_count": 145,
   "metadata": {
    "ExecuteTime": {
     "end_time": "2019-01-21T07:53:27.385102Z",
     "start_time": "2019-01-21T07:53:27.365675Z"
    }
   },
   "outputs": [],
   "source": [
    "y_predit = nb_clf.predict(X_test)"
   ]
  },
  {
   "cell_type": "code",
   "execution_count": 212,
   "metadata": {
    "ExecuteTime": {
     "end_time": "2019-01-25T01:32:58.682762Z",
     "start_time": "2019-01-25T01:32:58.615554Z"
    }
   },
   "outputs": [
    {
     "name": "stdout",
     "output_type": "stream",
     "text": [
      "(0.89240724432362062, 0.96505771716361366, 0.91443895434773426, 0.93906670136178327)\n"
     ]
    }
   ],
   "source": [
    "print(get_model_score(y_test,y_predit))"
   ]
  },
  {
   "cell_type": "code",
   "execution_count": 146,
   "metadata": {
    "ExecuteTime": {
     "end_time": "2019-01-21T07:53:48.748671Z",
     "start_time": "2019-01-21T07:53:48.735979Z"
    }
   },
   "outputs": [
    {
     "data": {
      "text/plain": [
       "0.89240724432362062"
      ]
     },
     "execution_count": 146,
     "metadata": {},
     "output_type": "execute_result"
    }
   ],
   "source": [
    "accuracy_score(y_test,y_predit)"
   ]
  },
  {
   "cell_type": "code",
   "execution_count": 150,
   "metadata": {
    "ExecuteTime": {
     "end_time": "2019-01-21T07:54:06.410398Z",
     "start_time": "2019-01-21T07:54:06.394997Z"
    }
   },
   "outputs": [
    {
     "data": {
      "text/plain": [
       "0.96505771716361366"
      ]
     },
     "execution_count": 150,
     "metadata": {},
     "output_type": "execute_result"
    }
   ],
   "source": [
    "precision_score(y_test,y_predit)"
   ]
  },
  {
   "cell_type": "code",
   "execution_count": 151,
   "metadata": {
    "ExecuteTime": {
     "end_time": "2019-01-21T07:54:13.224123Z",
     "start_time": "2019-01-21T07:54:13.208180Z"
    }
   },
   "outputs": [
    {
     "data": {
      "text/plain": [
       "0.91443895434773426"
      ]
     },
     "execution_count": 151,
     "metadata": {},
     "output_type": "execute_result"
    }
   ],
   "source": [
    "recall_score(y_test,y_predit)"
   ]
  },
  {
   "cell_type": "code",
   "execution_count": 152,
   "metadata": {
    "ExecuteTime": {
     "end_time": "2019-01-21T07:54:16.995648Z",
     "start_time": "2019-01-21T07:54:16.980600Z"
    }
   },
   "outputs": [
    {
     "data": {
      "text/plain": [
       "0.93906670136178327"
      ]
     },
     "execution_count": 152,
     "metadata": {},
     "output_type": "execute_result"
    }
   ],
   "source": [
    "f1_score(y_test,y_predit)"
   ]
  },
  {
   "cell_type": "code",
   "execution_count": null,
   "metadata": {},
   "outputs": [],
   "source": []
  },
  {
   "cell_type": "markdown",
   "metadata": {},
   "source": [
    "### Linear Regression"
   ]
  },
  {
   "cell_type": "code",
   "execution_count": 157,
   "metadata": {
    "ExecuteTime": {
     "end_time": "2019-01-21T08:30:01.798111Z",
     "start_time": "2019-01-21T08:30:01.794959Z"
    }
   },
   "outputs": [],
   "source": [
    "from sklearn.linear_model import LinearRegression"
   ]
  },
  {
   "cell_type": "code",
   "execution_count": 159,
   "metadata": {
    "ExecuteTime": {
     "end_time": "2019-01-21T08:33:06.212547Z",
     "start_time": "2019-01-21T08:33:05.352695Z"
    }
   },
   "outputs": [
    {
     "data": {
      "text/plain": [
       "0.5161449775439868"
      ]
     },
     "execution_count": 159,
     "metadata": {},
     "output_type": "execute_result"
    }
   ],
   "source": [
    "reg = LinearRegression().fit(X_train, y_train)\n",
    "reg.score(X_train, y_train)"
   ]
  },
  {
   "cell_type": "code",
   "execution_count": 161,
   "metadata": {
    "ExecuteTime": {
     "end_time": "2019-01-21T08:34:59.248977Z",
     "start_time": "2019-01-21T08:34:59.242650Z"
    }
   },
   "outputs": [],
   "source": [
    "y_reg_predit = reg.predict(X_test)"
   ]
  },
  {
   "cell_type": "code",
   "execution_count": 164,
   "metadata": {
    "ExecuteTime": {
     "end_time": "2019-01-21T08:36:10.080664Z",
     "start_time": "2019-01-21T08:36:10.074701Z"
    }
   },
   "outputs": [
    {
     "data": {
      "text/plain": [
       "array([ 0.98486381,  0.44317965,  1.18662123, ...,  1.03028364,\n",
       "        0.992662  ,  1.22976252])"
      ]
     },
     "execution_count": 164,
     "metadata": {},
     "output_type": "execute_result"
    }
   ],
   "source": [
    "y_reg_predit"
   ]
  },
  {
   "cell_type": "code",
   "execution_count": null,
   "metadata": {},
   "outputs": [],
   "source": []
  },
  {
   "cell_type": "markdown",
   "metadata": {},
   "source": [
    "### Logistic Regression"
   ]
  },
  {
   "cell_type": "code",
   "execution_count": 165,
   "metadata": {
    "ExecuteTime": {
     "end_time": "2019-01-21T08:41:08.230064Z",
     "start_time": "2019-01-21T08:41:08.227045Z"
    }
   },
   "outputs": [],
   "source": [
    "from sklearn.linear_model import LogisticRegression"
   ]
  },
  {
   "cell_type": "code",
   "execution_count": 166,
   "metadata": {
    "ExecuteTime": {
     "end_time": "2019-01-21T09:12:59.783003Z",
     "start_time": "2019-01-21T09:12:56.832903Z"
    }
   },
   "outputs": [],
   "source": [
    "lr_clf = LogisticRegression(random_state=0, solver='lbfgs',\n",
    "                         multi_class='multinomial').fit(X_train, y_train)"
   ]
  },
  {
   "cell_type": "code",
   "execution_count": 170,
   "metadata": {
    "ExecuteTime": {
     "end_time": "2019-01-21T09:15:20.973617Z",
     "start_time": "2019-01-21T09:15:20.968188Z"
    }
   },
   "outputs": [
    {
     "data": {
      "text/plain": [
       "array([1, 1])"
      ]
     },
     "execution_count": 170,
     "metadata": {},
     "output_type": "execute_result"
    }
   ],
   "source": [
    "lr_clf.predict(X_train[:2])"
   ]
  },
  {
   "cell_type": "code",
   "execution_count": 172,
   "metadata": {
    "ExecuteTime": {
     "end_time": "2019-01-21T09:15:48.053667Z",
     "start_time": "2019-01-21T09:15:48.048424Z"
    }
   },
   "outputs": [
    {
     "data": {
      "text/plain": [
       "[1, 1]"
      ]
     },
     "execution_count": 172,
     "metadata": {},
     "output_type": "execute_result"
    }
   ],
   "source": [
    "y_train[:2]"
   ]
  },
  {
   "cell_type": "code",
   "execution_count": 169,
   "metadata": {
    "ExecuteTime": {
     "end_time": "2019-01-21T09:14:29.556315Z",
     "start_time": "2019-01-21T09:14:29.531421Z"
    }
   },
   "outputs": [
    {
     "data": {
      "text/plain": [
       "0.98715066380031835"
      ]
     },
     "execution_count": 169,
     "metadata": {},
     "output_type": "execute_result"
    }
   ],
   "source": [
    "lr_clf.score(X_train, y_train)"
   ]
  },
  {
   "cell_type": "code",
   "execution_count": 176,
   "metadata": {
    "ExecuteTime": {
     "end_time": "2019-01-21T09:26:01.646372Z",
     "start_time": "2019-01-21T09:26:01.639222Z"
    }
   },
   "outputs": [],
   "source": [
    "y_lr_predict = lr_clf.predict(X_test)"
   ]
  },
  {
   "cell_type": "code",
   "execution_count": 179,
   "metadata": {
    "ExecuteTime": {
     "end_time": "2019-01-21T09:27:45.410206Z",
     "start_time": "2019-01-21T09:27:45.398970Z"
    }
   },
   "outputs": [
    {
     "data": {
      "text/plain": [
       "0.98261668644943911"
      ]
     },
     "execution_count": 179,
     "metadata": {},
     "output_type": "execute_result"
    }
   ],
   "source": [
    "accuracy_score(y_test,y_lr_predict)"
   ]
  },
  {
   "cell_type": "code",
   "execution_count": 180,
   "metadata": {
    "ExecuteTime": {
     "end_time": "2019-01-21T09:27:46.132765Z",
     "start_time": "2019-01-21T09:27:46.116321Z"
    }
   },
   "outputs": [
    {
     "data": {
      "text/plain": [
       "0.98671360912024808"
      ]
     },
     "execution_count": 180,
     "metadata": {},
     "output_type": "execute_result"
    }
   ],
   "source": [
    "precision_score(y_test,y_lr_predict)"
   ]
  },
  {
   "cell_type": "code",
   "execution_count": 181,
   "metadata": {
    "ExecuteTime": {
     "end_time": "2019-01-21T09:27:46.817629Z",
     "start_time": "2019-01-21T09:27:46.801144Z"
    }
   },
   "outputs": [
    {
     "data": {
      "text/plain": [
       "0.99421428269774903"
      ]
     },
     "execution_count": 181,
     "metadata": {},
     "output_type": "execute_result"
    }
   ],
   "source": [
    "recall_score(y_test,y_lr_predict)"
   ]
  },
  {
   "cell_type": "code",
   "execution_count": 182,
   "metadata": {
    "ExecuteTime": {
     "end_time": "2019-01-21T09:27:47.611423Z",
     "start_time": "2019-01-21T09:27:47.595833Z"
    }
   },
   "outputs": [
    {
     "data": {
      "text/plain": [
       "0.99044974546678444"
      ]
     },
     "execution_count": 182,
     "metadata": {},
     "output_type": "execute_result"
    }
   ],
   "source": [
    "f1_score(y_test,y_lr_predict)"
   ]
  },
  {
   "cell_type": "code",
   "execution_count": 214,
   "metadata": {
    "ExecuteTime": {
     "end_time": "2019-01-25T01:33:46.711724Z",
     "start_time": "2019-01-25T01:33:46.660796Z"
    }
   },
   "outputs": [
    {
     "data": {
      "text/plain": [
       "(0.98261668644943911,\n",
       " 0.98671360912024808,\n",
       " 0.99421428269774903,\n",
       " 0.99044974546678444)"
      ]
     },
     "execution_count": 214,
     "metadata": {},
     "output_type": "execute_result"
    }
   ],
   "source": [
    "get_model_score(y_test,y_lr_predict)"
   ]
  },
  {
   "cell_type": "code",
   "execution_count": null,
   "metadata": {},
   "outputs": [],
   "source": []
  },
  {
   "cell_type": "markdown",
   "metadata": {},
   "source": [
    "### Decision Tree"
   ]
  },
  {
   "cell_type": "code",
   "execution_count": 215,
   "metadata": {
    "ExecuteTime": {
     "end_time": "2019-01-25T01:34:25.380600Z",
     "start_time": "2019-01-25T01:34:25.277685Z"
    }
   },
   "outputs": [],
   "source": [
    "from sklearn import tree"
   ]
  },
  {
   "cell_type": "code",
   "execution_count": 216,
   "metadata": {
    "ExecuteTime": {
     "end_time": "2019-01-25T01:34:47.157283Z",
     "start_time": "2019-01-25T01:34:47.153892Z"
    }
   },
   "outputs": [],
   "source": [
    "tree_clf=tree.DecisionTreeClassifier()"
   ]
  },
  {
   "cell_type": "code",
   "execution_count": 217,
   "metadata": {
    "ExecuteTime": {
     "end_time": "2019-01-25T01:37:03.157996Z",
     "start_time": "2019-01-25T01:36:49.633087Z"
    }
   },
   "outputs": [],
   "source": [
    "tree_clf=tree_clf.fit(X_train,y_train)"
   ]
  },
  {
   "cell_type": "code",
   "execution_count": 218,
   "metadata": {
    "ExecuteTime": {
     "end_time": "2019-01-25T01:37:30.266424Z",
     "start_time": "2019-01-25T01:37:30.157111Z"
    }
   },
   "outputs": [],
   "source": [
    "y_tree_predit=tree_clf.predict(X_test)"
   ]
  },
  {
   "cell_type": "code",
   "execution_count": 219,
   "metadata": {
    "ExecuteTime": {
     "end_time": "2019-01-25T01:38:06.286516Z",
     "start_time": "2019-01-25T01:38:06.246476Z"
    }
   },
   "outputs": [
    {
     "data": {
      "text/plain": [
       "(0.99127005398782397,\n",
       " 0.99543668399036633,\n",
       " 0.99493221842138602,\n",
       " 0.99518438727664427)"
      ]
     },
     "execution_count": 219,
     "metadata": {},
     "output_type": "execute_result"
    }
   ],
   "source": [
    "get_model_score(y_test,y_tree_predit)"
   ]
  },
  {
   "cell_type": "code",
   "execution_count": null,
   "metadata": {},
   "outputs": [],
   "source": []
  },
  {
   "cell_type": "markdown",
   "metadata": {
    "ExecuteTime": {
     "end_time": "2019-01-25T01:38:34.978991Z",
     "start_time": "2019-01-25T01:38:34.942560Z"
    }
   },
   "source": [
    "### XGBoost"
   ]
  },
  {
   "cell_type": "code",
   "execution_count": 224,
   "metadata": {
    "ExecuteTime": {
     "end_time": "2019-01-25T02:22:27.922527Z",
     "start_time": "2019-01-25T02:22:27.919347Z"
    }
   },
   "outputs": [],
   "source": [
    "import xgboost"
   ]
  },
  {
   "cell_type": "code",
   "execution_count": 225,
   "metadata": {
    "ExecuteTime": {
     "end_time": "2019-01-25T02:23:08.913915Z",
     "start_time": "2019-01-25T02:23:08.910994Z"
    }
   },
   "outputs": [],
   "source": [
    "xgb_model = xgboost.XGBClassifier(objective=\"binary:logistic\",random_state=42)"
   ]
  },
  {
   "cell_type": "code",
   "execution_count": 226,
   "metadata": {
    "ExecuteTime": {
     "end_time": "2019-01-25T02:23:59.059379Z",
     "start_time": "2019-01-25T02:23:24.989345Z"
    }
   },
   "outputs": [
    {
     "data": {
      "text/plain": [
       "XGBClassifier(base_score=0.5, booster='gbtree', colsample_bylevel=1,\n",
       "       colsample_bytree=1, gamma=0, learning_rate=0.1, max_delta_step=0,\n",
       "       max_depth=3, min_child_weight=1, missing=None, n_estimators=100,\n",
       "       n_jobs=1, nthread=None, objective='binary:logistic',\n",
       "       random_state=42, reg_alpha=0, reg_lambda=1, scale_pos_weight=1,\n",
       "       seed=None, silent=True, subsample=1)"
      ]
     },
     "execution_count": 226,
     "metadata": {},
     "output_type": "execute_result"
    }
   ],
   "source": [
    "xgb_model.fit(X_train,y_train)"
   ]
  },
  {
   "cell_type": "code",
   "execution_count": 228,
   "metadata": {
    "ExecuteTime": {
     "end_time": "2019-01-25T02:25:17.364237Z",
     "start_time": "2019-01-25T02:25:17.051321Z"
    }
   },
   "outputs": [],
   "source": [
    "y_xgb_predit=xgb_model.predict(X_test)"
   ]
  },
  {
   "cell_type": "code",
   "execution_count": 229,
   "metadata": {
    "ExecuteTime": {
     "end_time": "2019-01-25T02:25:32.157510Z",
     "start_time": "2019-01-25T02:25:32.114465Z"
    }
   },
   "outputs": [
    {
     "data": {
      "text/plain": [
       "(0.99268675575295784,\n",
       " 0.99577845322526171,\n",
       " 0.99615693230288438,\n",
       " 0.995967656807482)"
      ]
     },
     "execution_count": 229,
     "metadata": {},
     "output_type": "execute_result"
    }
   ],
   "source": [
    "get_model_score(y_test,y_xgb_predit)"
   ]
  },
  {
   "cell_type": "markdown",
   "metadata": {},
   "source": [
    "#### 从Score上看 XGBoost>Decision Tress>Logistic Regression>Naive Bayes"
   ]
  },
  {
   "cell_type": "markdown",
   "metadata": {},
   "source": [
    "## 查找相似性文本"
   ]
  },
  {
   "cell_type": "code",
   "execution_count": 230,
   "metadata": {
    "ExecuteTime": {
     "end_time": "2019-01-25T02:26:05.789044Z",
     "start_time": "2019-01-25T02:26:04.623747Z"
    }
   },
   "outputs": [],
   "source": [
    "all_predict=xgb_model.predict(tfidf)"
   ]
  },
  {
   "cell_type": "code",
   "execution_count": 231,
   "metadata": {
    "ExecuteTime": {
     "end_time": "2019-01-25T02:26:07.110796Z",
     "start_time": "2019-01-25T02:26:07.105283Z"
    }
   },
   "outputs": [
    {
     "data": {
      "text/plain": [
       "array([0, 0, 0, ..., 1, 1, 1])"
      ]
     },
     "execution_count": 231,
     "metadata": {},
     "output_type": "execute_result"
    }
   ],
   "source": [
    "all_predict"
   ]
  },
  {
   "cell_type": "code",
   "execution_count": 232,
   "metadata": {
    "ExecuteTime": {
     "end_time": "2019-01-25T02:26:09.939040Z",
     "start_time": "2019-01-25T02:26:09.935918Z"
    }
   },
   "outputs": [],
   "source": [
    "suspect_xinhua=[]"
   ]
  },
  {
   "cell_type": "code",
   "execution_count": 233,
   "metadata": {
    "ExecuteTime": {
     "end_time": "2019-01-25T02:26:10.988553Z",
     "start_time": "2019-01-25T02:26:10.952770Z"
    }
   },
   "outputs": [],
   "source": [
    "for i in range(len(all_predict)):\n",
    "    if all_predict[i]==1 and label[i]==0:\n",
    "        suspect_xinhua.append(i)"
   ]
  },
  {
   "cell_type": "code",
   "execution_count": 235,
   "metadata": {
    "ExecuteTime": {
     "end_time": "2019-01-25T02:26:26.577171Z",
     "start_time": "2019-01-25T02:26:26.572617Z"
    }
   },
   "outputs": [
    {
     "data": {
      "text/plain": [
       "290"
      ]
     },
     "execution_count": 235,
     "metadata": {},
     "output_type": "execute_result"
    }
   ],
   "source": [
    "len(suspect_xinhua)"
   ]
  },
  {
   "cell_type": "code",
   "execution_count": 237,
   "metadata": {
    "ExecuteTime": {
     "end_time": "2019-01-25T02:27:10.303397Z",
     "start_time": "2019-01-25T02:27:10.294793Z"
    }
   },
   "outputs": [
    {
     "data": {
      "text/plain": [
       "[293,\n",
       " 423,\n",
       " 471,\n",
       " 514,\n",
       " 521,\n",
       " 530,\n",
       " 598,\n",
       " 634,\n",
       " 680,\n",
       " 687,\n",
       " 784,\n",
       " 818,\n",
       " 939,\n",
       " 1030,\n",
       " 1071,\n",
       " 1084,\n",
       " 1101,\n",
       " 1117,\n",
       " 1176,\n",
       " 1183,\n",
       " 1208,\n",
       " 1217,\n",
       " 1349,\n",
       " 1527,\n",
       " 1553,\n",
       " 1607,\n",
       " 1702,\n",
       " 1813,\n",
       " 1856,\n",
       " 1862,\n",
       " 1890,\n",
       " 1954,\n",
       " 1977,\n",
       " 2373,\n",
       " 2626,\n",
       " 2901,\n",
       " 2918,\n",
       " 2921,\n",
       " 2969,\n",
       " 2974,\n",
       " 2976,\n",
       " 2979,\n",
       " 3025,\n",
       " 3029,\n",
       " 3130,\n",
       " 3146,\n",
       " 3222,\n",
       " 3531,\n",
       " 3641,\n",
       " 3710,\n",
       " 3886,\n",
       " 4040,\n",
       " 4099,\n",
       " 4180,\n",
       " 4185,\n",
       " 4203,\n",
       " 4379,\n",
       " 4386,\n",
       " 4569,\n",
       " 4604,\n",
       " 4690,\n",
       " 4691,\n",
       " 4697,\n",
       " 4716,\n",
       " 4815,\n",
       " 4817,\n",
       " 4985,\n",
       " 4990,\n",
       " 5078,\n",
       " 5112,\n",
       " 5164,\n",
       " 5172,\n",
       " 5176,\n",
       " 5179,\n",
       " 5241,\n",
       " 5245,\n",
       " 5249,\n",
       " 5298,\n",
       " 5337,\n",
       " 5354,\n",
       " 5369,\n",
       " 5374,\n",
       " 5406,\n",
       " 5411,\n",
       " 5414,\n",
       " 5423,\n",
       " 5436,\n",
       " 5621,\n",
       " 5633,\n",
       " 5651,\n",
       " 5663,\n",
       " 5665,\n",
       " 5670,\n",
       " 5676,\n",
       " 5685,\n",
       " 5686,\n",
       " 5709,\n",
       " 5727,\n",
       " 5732,\n",
       " 5794,\n",
       " 5809,\n",
       " 5829,\n",
       " 5837,\n",
       " 5859,\n",
       " 5868,\n",
       " 5869,\n",
       " 5876,\n",
       " 5885,\n",
       " 5892,\n",
       " 5901,\n",
       " 5951,\n",
       " 5998,\n",
       " 6041,\n",
       " 6057,\n",
       " 6071,\n",
       " 6132,\n",
       " 6236,\n",
       " 6257,\n",
       " 6264,\n",
       " 6272,\n",
       " 6277,\n",
       " 6279,\n",
       " 6280,\n",
       " 6284,\n",
       " 6285,\n",
       " 6286,\n",
       " 6292,\n",
       " 6293,\n",
       " 6295,\n",
       " 6298,\n",
       " 6301,\n",
       " 6305,\n",
       " 6308,\n",
       " 6312,\n",
       " 6313,\n",
       " 6317,\n",
       " 6320,\n",
       " 6325,\n",
       " 6326,\n",
       " 6331,\n",
       " 6333,\n",
       " 6339,\n",
       " 6388,\n",
       " 6396,\n",
       " 6400,\n",
       " 6409,\n",
       " 6422,\n",
       " 6429,\n",
       " 6437,\n",
       " 6444,\n",
       " 6451,\n",
       " 6458,\n",
       " 6466,\n",
       " 6473,\n",
       " 6478,\n",
       " 6481,\n",
       " 6510,\n",
       " 6515,\n",
       " 6540,\n",
       " 6552,\n",
       " 6556,\n",
       " 6569,\n",
       " 6575,\n",
       " 6587,\n",
       " 6643,\n",
       " 6679,\n",
       " 6684,\n",
       " 6691,\n",
       " 6696,\n",
       " 6726,\n",
       " 6728,\n",
       " 6732,\n",
       " 6741,\n",
       " 6742,\n",
       " 6753,\n",
       " 6854,\n",
       " 6867,\n",
       " 6874,\n",
       " 6879,\n",
       " 6884,\n",
       " 6886,\n",
       " 6896,\n",
       " 6902,\n",
       " 6908,\n",
       " 6966,\n",
       " 6973,\n",
       " 6980,\n",
       " 6995,\n",
       " 7002,\n",
       " 7004,\n",
       " 7010,\n",
       " 7013,\n",
       " 7029,\n",
       " 7193,\n",
       " 7202,\n",
       " 7211,\n",
       " 7383,\n",
       " 7420,\n",
       " 7428,\n",
       " 7434,\n",
       " 7437,\n",
       " 7481,\n",
       " 7490,\n",
       " 7495,\n",
       " 7498,\n",
       " 7553,\n",
       " 7561,\n",
       " 7568,\n",
       " 7576,\n",
       " 7583,\n",
       " 7585,\n",
       " 7589,\n",
       " 7591,\n",
       " 7595,\n",
       " 7597,\n",
       " 7600,\n",
       " 7606,\n",
       " 7607,\n",
       " 7613,\n",
       " 7621,\n",
       " 7628,\n",
       " 7635,\n",
       " 7640,\n",
       " 7645,\n",
       " 7650,\n",
       " 7655,\n",
       " 7660,\n",
       " 7666,\n",
       " 7677,\n",
       " 7722,\n",
       " 7729,\n",
       " 7750,\n",
       " 7754,\n",
       " 7793,\n",
       " 7799,\n",
       " 7811,\n",
       " 7816,\n",
       " 7825,\n",
       " 7832,\n",
       " 7839,\n",
       " 7845,\n",
       " 7850,\n",
       " 7855,\n",
       " 7860,\n",
       " 7871,\n",
       " 7878,\n",
       " 7879,\n",
       " 7882,\n",
       " 7886,\n",
       " 7921,\n",
       " 7926,\n",
       " 7931,\n",
       " 7934,\n",
       " 7936,\n",
       " 7945,\n",
       " 7974,\n",
       " 7981,\n",
       " 7994,\n",
       " 8000,\n",
       " 8145,\n",
       " 8229,\n",
       " 8245,\n",
       " 8249,\n",
       " 8256,\n",
       " 8262,\n",
       " 8268,\n",
       " 8276,\n",
       " 8283,\n",
       " 8291,\n",
       " 8297,\n",
       " 8302,\n",
       " 8309,\n",
       " 8316,\n",
       " 8323,\n",
       " 8329,\n",
       " 8338,\n",
       " 8343,\n",
       " 8348,\n",
       " 8386,\n",
       " 8397,\n",
       " 8444,\n",
       " 8454,\n",
       " 8483,\n",
       " 8491,\n",
       " 8496,\n",
       " 8499,\n",
       " 8532,\n",
       " 8543,\n",
       " 8552,\n",
       " 8555]"
      ]
     },
     "execution_count": 237,
     "metadata": {},
     "output_type": "execute_result"
    }
   ],
   "source": [
    "suspect_xinhua"
   ]
  },
  {
   "cell_type": "code",
   "execution_count": 239,
   "metadata": {
    "ExecuteTime": {
     "end_time": "2019-01-25T02:29:06.661788Z",
     "start_time": "2019-01-25T02:29:06.652312Z"
    }
   },
   "outputs": [
    {
     "data": {
      "text/plain": [
       "id                                                     89322\n",
       "author                                                新华社机器人\n",
       "source                                             中国证券报?中证网\n",
       "content    　　看盘：6月23日上证指数午间收报下跌0.74%\\r\\n　　中证网讯 6月23日, 上证指...\n",
       "feature    {\"type\":\"数据资金\",\"site\":\"中证网\",\"commentNum\":\"0\",\"...\n",
       "title                                  机器人半天收盘播报（2017年6月23日）\n",
       "url        http://www.cs.com.cn/gppd/sjjj/201706/t2017062...\n",
       "Name: 295, dtype: object"
      ]
     },
     "execution_count": 239,
     "metadata": {},
     "output_type": "execute_result"
    }
   ],
   "source": [
    "news.iloc[293]"
   ]
  },
  {
   "cell_type": "code",
   "execution_count": null,
   "metadata": {},
   "outputs": [],
   "source": []
  },
  {
   "cell_type": "markdown",
   "metadata": {},
   "source": [
    "## Advanced : find the copied part from original text"
   ]
  },
  {
   "cell_type": "code",
   "execution_count": null,
   "metadata": {},
   "outputs": [],
   "source": []
  }
 ],
 "metadata": {
  "kernelspec": {
   "display_name": "Python 3",
   "language": "python",
   "name": "python3"
  },
  "language_info": {
   "codemirror_mode": {
    "name": "ipython",
    "version": 3
   },
   "file_extension": ".py",
   "mimetype": "text/x-python",
   "name": "python",
   "nbconvert_exporter": "python",
   "pygments_lexer": "ipython3",
   "version": "3.7.0"
  }
 },
 "nbformat": 4,
 "nbformat_minor": 2
}
