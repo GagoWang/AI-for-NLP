{
 "cells": [
  {
   "cell_type": "code",
   "execution_count": 144,
   "metadata": {
    "ExecuteTime": {
     "end_time": "2019-01-21T07:50:28.915616Z",
     "start_time": "2019-01-21T07:50:28.911399Z"
    }
   },
   "outputs": [],
   "source": [
    "import pandas as pd\n",
    "import sklearn\n",
    "import re\n",
    "import jieba\n",
    "from sklearn.feature_extraction.text import TfidfVectorizer\n",
    "from sklearn.model_selection import train_test_split\n",
    "import numpy as np\n",
    "from sklearn.model_selection import cross_validate\n",
    "from sklearn.metrics import accuracy_score, precision_score, recall_score, f1_score"
   ]
  },
  {
   "cell_type": "code",
   "execution_count": 20,
   "metadata": {
    "ExecuteTime": {
     "end_time": "2019-01-21T02:37:55.467302Z",
     "start_time": "2019-01-21T02:37:52.537449Z"
    }
   },
   "outputs": [],
   "source": [
    "news = pd.read_csv('../train/sqlResult_1558435.csv', encoding='gb18030')"
   ]
  },
  {
   "cell_type": "code",
   "execution_count": 21,
   "metadata": {
    "ExecuteTime": {
     "end_time": "2019-01-21T02:38:42.733400Z",
     "start_time": "2019-01-21T02:38:42.728520Z"
    }
   },
   "outputs": [
    {
     "data": {
      "text/plain": [
       "89611"
      ]
     },
     "execution_count": 21,
     "metadata": {},
     "output_type": "execute_result"
    }
   ],
   "source": [
    "len(news)"
   ]
  },
  {
   "cell_type": "code",
   "execution_count": 22,
   "metadata": {
    "ExecuteTime": {
     "end_time": "2019-01-21T02:38:51.036360Z",
     "start_time": "2019-01-21T02:38:50.992334Z"
    }
   },
   "outputs": [],
   "source": [
    "news = news.dropna(subset=['content'])"
   ]
  },
  {
   "cell_type": "code",
   "execution_count": 23,
   "metadata": {
    "ExecuteTime": {
     "end_time": "2019-01-21T02:38:51.788324Z",
     "start_time": "2019-01-21T02:38:51.782784Z"
    }
   },
   "outputs": [
    {
     "data": {
      "text/plain": [
       "87054"
      ]
     },
     "execution_count": 23,
     "metadata": {},
     "output_type": "execute_result"
    }
   ],
   "source": [
    "len(news)"
   ]
  },
  {
   "cell_type": "code",
   "execution_count": 24,
   "metadata": {
    "ExecuteTime": {
     "end_time": "2019-01-21T02:38:56.670431Z",
     "start_time": "2019-01-21T02:38:56.667239Z"
    }
   },
   "outputs": [],
   "source": [
    "def tokenize(string):\n",
    "    return ''.join(re.findall('[\\w|\\d]+', string))"
   ]
  },
  {
   "cell_type": "code",
   "execution_count": 25,
   "metadata": {
    "ExecuteTime": {
     "end_time": "2019-01-21T02:38:58.234299Z",
     "start_time": "2019-01-21T02:38:58.231017Z"
    }
   },
   "outputs": [],
   "source": [
    "def cutword(string):\n",
    "    return ' '.join(list(jieba.cut(tokenize(string))))"
   ]
  },
  {
   "cell_type": "code",
   "execution_count": 26,
   "metadata": {
    "ExecuteTime": {
     "end_time": "2019-01-21T02:38:59.244753Z",
     "start_time": "2019-01-21T02:38:59.234922Z"
    }
   },
   "outputs": [
    {
     "data": {
      "text/plain": [
       "'这是 6 月 18 日 在 葡萄牙 中部 大 佩德罗 冈 地区 拍摄 的 被 森林 大火 烧毁 的 汽车 新华社 记者 张立 云摄'"
      ]
     },
     "execution_count": 26,
     "metadata": {},
     "output_type": "execute_result"
    }
   ],
   "source": [
    "cutword(tokenize(news.iloc[3].content))"
   ]
  },
  {
   "cell_type": "code",
   "execution_count": 34,
   "metadata": {
    "ExecuteTime": {
     "end_time": "2019-01-21T02:59:31.482174Z",
     "start_time": "2019-01-21T02:57:04.387138Z"
    }
   },
   "outputs": [],
   "source": [
    "news_corpus = list(map(cutword, news.content))"
   ]
  },
  {
   "cell_type": "markdown",
   "metadata": {},
   "source": [
    "## tfidf"
   ]
  },
  {
   "cell_type": "code",
   "execution_count": 40,
   "metadata": {
    "ExecuteTime": {
     "end_time": "2019-01-21T03:24:54.216443Z",
     "start_time": "2019-01-21T03:24:54.175099Z"
    }
   },
   "outputs": [],
   "source": [
    "vectorizer = TfidfVectorizer(min_df=0.015)"
   ]
  },
  {
   "cell_type": "code",
   "execution_count": 41,
   "metadata": {
    "ExecuteTime": {
     "end_time": "2019-01-21T03:25:08.971556Z",
     "start_time": "2019-01-21T03:24:57.758400Z"
    }
   },
   "outputs": [],
   "source": [
    "tfidf = vectorizer.fit_transform(news_corpus)"
   ]
  },
  {
   "cell_type": "code",
   "execution_count": 42,
   "metadata": {
    "ExecuteTime": {
     "end_time": "2019-01-21T03:25:44.286076Z",
     "start_time": "2019-01-21T03:25:44.281148Z"
    }
   },
   "outputs": [
    {
     "data": {
      "text/plain": [
       "(87054, 945)"
      ]
     },
     "execution_count": 42,
     "metadata": {},
     "output_type": "execute_result"
    }
   ],
   "source": [
    "tfidf.shape"
   ]
  },
  {
   "cell_type": "markdown",
   "metadata": {},
   "source": [
    "## split dataset"
   ]
  },
  {
   "cell_type": "code",
   "execution_count": 80,
   "metadata": {
    "ExecuteTime": {
     "end_time": "2019-01-21T06:02:31.368108Z",
     "start_time": "2019-01-21T06:02:31.342577Z"
    }
   },
   "outputs": [],
   "source": [
    "label = list(map(lambda n: 1 if '新华' in str(n) else 0, news.source))"
   ]
  },
  {
   "cell_type": "code",
   "execution_count": 89,
   "metadata": {
    "ExecuteTime": {
     "end_time": "2019-01-21T06:11:16.930354Z",
     "start_time": "2019-01-21T06:11:16.921241Z"
    }
   },
   "outputs": [],
   "source": [
    "label_xinhua = np.where(np.array(label) == 1)"
   ]
  },
  {
   "cell_type": "code",
   "execution_count": 91,
   "metadata": {
    "ExecuteTime": {
     "end_time": "2019-01-21T06:11:31.757740Z",
     "start_time": "2019-01-21T06:11:31.752627Z"
    }
   },
   "outputs": [
    {
     "data": {
      "text/plain": [
       "78855"
      ]
     },
     "execution_count": 91,
     "metadata": {},
     "output_type": "execute_result"
    }
   ],
   "source": [
    "len(label_xinhua[0])"
   ]
  },
  {
   "cell_type": "code",
   "execution_count": 96,
   "metadata": {
    "ExecuteTime": {
     "end_time": "2019-01-21T06:17:47.785523Z",
     "start_time": "2019-01-21T06:17:47.699278Z"
    }
   },
   "outputs": [
    {
     "name": "stderr",
     "output_type": "stream",
     "text": [
      "/Users/Gago/Workplace/Software/Anaconda/anaconda3/lib/python3.7/site-packages/sklearn/model_selection/_split.py:2026: FutureWarning: From version 0.21, test_size will always complement train_size unless both are specified.\n",
      "  FutureWarning)\n"
     ]
    }
   ],
   "source": [
    "X_train, X_test, y_train, y_test = train_test_split(\n",
    "    tfidf, label, train_size=0.7, random_state=42)"
   ]
  },
  {
   "cell_type": "code",
   "execution_count": null,
   "metadata": {},
   "outputs": [],
   "source": [
    "# tfidf data indices"
   ]
  },
  {
   "cell_type": "markdown",
   "metadata": {},
   "source": [
    "### Naive Bayes"
   ]
  },
  {
   "cell_type": "code",
   "execution_count": 133,
   "metadata": {
    "ExecuteTime": {
     "end_time": "2019-01-21T06:54:11.190029Z",
     "start_time": "2019-01-21T06:54:11.184483Z"
    }
   },
   "outputs": [],
   "source": [
    "from sklearn.naive_bayes import MultinomialNB"
   ]
  },
  {
   "cell_type": "code",
   "execution_count": 134,
   "metadata": {
    "ExecuteTime": {
     "end_time": "2019-01-21T06:55:01.639259Z",
     "start_time": "2019-01-21T06:55:01.636046Z"
    }
   },
   "outputs": [],
   "source": [
    "nb_clf = MultinomialNB()"
   ]
  },
  {
   "cell_type": "code",
   "execution_count": 135,
   "metadata": {
    "ExecuteTime": {
     "end_time": "2019-01-21T06:55:33.452876Z",
     "start_time": "2019-01-21T06:55:33.411483Z"
    }
   },
   "outputs": [
    {
     "data": {
      "text/plain": [
       "MultinomialNB(alpha=1.0, class_prior=None, fit_prior=True)"
      ]
     },
     "execution_count": 135,
     "metadata": {},
     "output_type": "execute_result"
    }
   ],
   "source": [
    "nb_clf.fit(X_train, y_train)"
   ]
  },
  {
   "cell_type": "code",
   "execution_count": 139,
   "metadata": {
    "ExecuteTime": {
     "end_time": "2019-01-21T07:13:10.042916Z",
     "start_time": "2019-01-21T07:13:10.037534Z"
    }
   },
   "outputs": [
    {
     "name": "stdout",
     "output_type": "stream",
     "text": [
      "[1 1 1 1 1 0 1 1 0 1 0 1 1 1 1 1 1 1 0 1 1 1 1 0 1 0 1 0 1 1 1 1 1 1 0 1 1\n",
      " 1 0 1 1 1 1 1 0 1 0 0 1 1 1 1 1 0 1 1 1 1 1 1 1 1 1 1 1 1 1 1 1 1 1 1 0 1\n",
      " 1 1 1 1 1 1 1 1 1 1 1 1 0 1 1 1 0 1 1 1 1 1 1 0 1]\n"
     ]
    }
   ],
   "source": [
    "print(nb_clf.predict(X_test[1:100]))"
   ]
  },
  {
   "cell_type": "code",
   "execution_count": 142,
   "metadata": {
    "ExecuteTime": {
     "end_time": "2019-01-21T07:37:43.305705Z",
     "start_time": "2019-01-21T07:37:42.726130Z"
    }
   },
   "outputs": [],
   "source": [
    "score=cross_validate(nb_clf,X=X_train,y=y_train,scoring=('accuracy','precision','recall','f1'),cv=3,return_train_score=True)"
   ]
  },
  {
   "cell_type": "code",
   "execution_count": 143,
   "metadata": {
    "ExecuteTime": {
     "end_time": "2019-01-21T07:37:46.243978Z",
     "start_time": "2019-01-21T07:37:46.234361Z"
    }
   },
   "outputs": [
    {
     "data": {
      "text/plain": [
       "{'fit_time': array([ 0.05307698,  0.05718112,  0.05344677]),\n",
       " 'score_time': array([ 0.04988289,  0.04628587,  0.03872514]),\n",
       " 'test_accuracy': array([ 0.8860828 ,  0.89104963,  0.88514179]),\n",
       " 'train_accuracy': array([ 0.89021268,  0.88812308,  0.88849231]),\n",
       " 'test_precision': array([ 0.96387767,  0.96472683,  0.96362377]),\n",
       " 'train_precision': array([ 0.96506676,  0.96444521,  0.96566759]),\n",
       " 'test_recall': array([ 0.90822097,  0.91306003,  0.90740539]),\n",
       " 'train_recall': array([ 0.91175511,  0.90998804,  0.90917247]),\n",
       " 'test_f1': array([ 0.93522199,  0.93818263,  0.93466999]),\n",
       " 'train_f1': array([ 0.93765377,  0.93642556,  0.93656884])}"
      ]
     },
     "execution_count": 143,
     "metadata": {},
     "output_type": "execute_result"
    }
   ],
   "source": [
    "score"
   ]
  },
  {
   "cell_type": "code",
   "execution_count": 145,
   "metadata": {
    "ExecuteTime": {
     "end_time": "2019-01-21T07:53:27.385102Z",
     "start_time": "2019-01-21T07:53:27.365675Z"
    }
   },
   "outputs": [],
   "source": [
    "y_predit = nb_clf.predict(X_test)"
   ]
  },
  {
   "cell_type": "code",
   "execution_count": 146,
   "metadata": {
    "ExecuteTime": {
     "end_time": "2019-01-21T07:53:48.748671Z",
     "start_time": "2019-01-21T07:53:48.735979Z"
    }
   },
   "outputs": [
    {
     "data": {
      "text/plain": [
       "0.89240724432362062"
      ]
     },
     "execution_count": 146,
     "metadata": {},
     "output_type": "execute_result"
    }
   ],
   "source": [
    "accuracy_score(y_test,y_predit)"
   ]
  },
  {
   "cell_type": "code",
   "execution_count": 150,
   "metadata": {
    "ExecuteTime": {
     "end_time": "2019-01-21T07:54:06.410398Z",
     "start_time": "2019-01-21T07:54:06.394997Z"
    }
   },
   "outputs": [
    {
     "data": {
      "text/plain": [
       "0.96505771716361366"
      ]
     },
     "execution_count": 150,
     "metadata": {},
     "output_type": "execute_result"
    }
   ],
   "source": [
    "precision_score(y_test,y_predit)"
   ]
  },
  {
   "cell_type": "code",
   "execution_count": 151,
   "metadata": {
    "ExecuteTime": {
     "end_time": "2019-01-21T07:54:13.224123Z",
     "start_time": "2019-01-21T07:54:13.208180Z"
    }
   },
   "outputs": [
    {
     "data": {
      "text/plain": [
       "0.91443895434773426"
      ]
     },
     "execution_count": 151,
     "metadata": {},
     "output_type": "execute_result"
    }
   ],
   "source": [
    "recall_score(y_test,y_predit)"
   ]
  },
  {
   "cell_type": "code",
   "execution_count": 152,
   "metadata": {
    "ExecuteTime": {
     "end_time": "2019-01-21T07:54:16.995648Z",
     "start_time": "2019-01-21T07:54:16.980600Z"
    }
   },
   "outputs": [
    {
     "data": {
      "text/plain": [
       "0.93906670136178327"
      ]
     },
     "execution_count": 152,
     "metadata": {},
     "output_type": "execute_result"
    }
   ],
   "source": [
    "f1_score(y_test,y_predit)"
   ]
  },
  {
   "cell_type": "code",
   "execution_count": null,
   "metadata": {},
   "outputs": [],
   "source": []
  },
  {
   "cell_type": "markdown",
   "metadata": {},
   "source": [
    "### Linear Regression"
   ]
  },
  {
   "cell_type": "code",
   "execution_count": 157,
   "metadata": {
    "ExecuteTime": {
     "end_time": "2019-01-21T08:30:01.798111Z",
     "start_time": "2019-01-21T08:30:01.794959Z"
    }
   },
   "outputs": [],
   "source": [
    "from sklearn.linear_model import LinearRegression"
   ]
  },
  {
   "cell_type": "code",
   "execution_count": 159,
   "metadata": {
    "ExecuteTime": {
     "end_time": "2019-01-21T08:33:06.212547Z",
     "start_time": "2019-01-21T08:33:05.352695Z"
    }
   },
   "outputs": [
    {
     "data": {
      "text/plain": [
       "0.5161449775439868"
      ]
     },
     "execution_count": 159,
     "metadata": {},
     "output_type": "execute_result"
    }
   ],
   "source": [
    "reg = LinearRegression().fit(X_train, y_train)\n",
    "reg.score(X_train, y_train)"
   ]
  },
  {
   "cell_type": "code",
   "execution_count": 161,
   "metadata": {
    "ExecuteTime": {
     "end_time": "2019-01-21T08:34:59.248977Z",
     "start_time": "2019-01-21T08:34:59.242650Z"
    }
   },
   "outputs": [],
   "source": [
    "y_reg_predit = reg.predict(X_test)"
   ]
  },
  {
   "cell_type": "code",
   "execution_count": 164,
   "metadata": {
    "ExecuteTime": {
     "end_time": "2019-01-21T08:36:10.080664Z",
     "start_time": "2019-01-21T08:36:10.074701Z"
    }
   },
   "outputs": [
    {
     "data": {
      "text/plain": [
       "array([ 0.98486381,  0.44317965,  1.18662123, ...,  1.03028364,\n",
       "        0.992662  ,  1.22976252])"
      ]
     },
     "execution_count": 164,
     "metadata": {},
     "output_type": "execute_result"
    }
   ],
   "source": [
    "y_reg_predit"
   ]
  },
  {
   "cell_type": "code",
   "execution_count": null,
   "metadata": {},
   "outputs": [],
   "source": []
  },
  {
   "cell_type": "markdown",
   "metadata": {},
   "source": [
    "### Logistic Regression"
   ]
  },
  {
   "cell_type": "code",
   "execution_count": 165,
   "metadata": {
    "ExecuteTime": {
     "end_time": "2019-01-21T08:41:08.230064Z",
     "start_time": "2019-01-21T08:41:08.227045Z"
    }
   },
   "outputs": [],
   "source": [
    "from sklearn.linear_model import LogisticRegression"
   ]
  },
  {
   "cell_type": "code",
   "execution_count": 166,
   "metadata": {
    "ExecuteTime": {
     "end_time": "2019-01-21T09:12:59.783003Z",
     "start_time": "2019-01-21T09:12:56.832903Z"
    }
   },
   "outputs": [],
   "source": [
    "lr_clf = LogisticRegression(random_state=0, solver='lbfgs',\n",
    "                         multi_class='multinomial').fit(X_train, y_train)"
   ]
  },
  {
   "cell_type": "code",
   "execution_count": 170,
   "metadata": {
    "ExecuteTime": {
     "end_time": "2019-01-21T09:15:20.973617Z",
     "start_time": "2019-01-21T09:15:20.968188Z"
    }
   },
   "outputs": [
    {
     "data": {
      "text/plain": [
       "array([1, 1])"
      ]
     },
     "execution_count": 170,
     "metadata": {},
     "output_type": "execute_result"
    }
   ],
   "source": [
    "lr_clf.predict(X_train[:2])"
   ]
  },
  {
   "cell_type": "code",
   "execution_count": 172,
   "metadata": {
    "ExecuteTime": {
     "end_time": "2019-01-21T09:15:48.053667Z",
     "start_time": "2019-01-21T09:15:48.048424Z"
    }
   },
   "outputs": [
    {
     "data": {
      "text/plain": [
       "[1, 1]"
      ]
     },
     "execution_count": 172,
     "metadata": {},
     "output_type": "execute_result"
    }
   ],
   "source": [
    "y_train[:2]"
   ]
  },
  {
   "cell_type": "code",
   "execution_count": 169,
   "metadata": {
    "ExecuteTime": {
     "end_time": "2019-01-21T09:14:29.556315Z",
     "start_time": "2019-01-21T09:14:29.531421Z"
    }
   },
   "outputs": [
    {
     "data": {
      "text/plain": [
       "0.98715066380031835"
      ]
     },
     "execution_count": 169,
     "metadata": {},
     "output_type": "execute_result"
    }
   ],
   "source": [
    "lr_clf.score(X_train, y_train)"
   ]
  },
  {
   "cell_type": "code",
   "execution_count": 176,
   "metadata": {
    "ExecuteTime": {
     "end_time": "2019-01-21T09:26:01.646372Z",
     "start_time": "2019-01-21T09:26:01.639222Z"
    }
   },
   "outputs": [],
   "source": [
    "y_lr_predict = lr_clf.predict(X_test)"
   ]
  },
  {
   "cell_type": "code",
   "execution_count": 179,
   "metadata": {
    "ExecuteTime": {
     "end_time": "2019-01-21T09:27:45.410206Z",
     "start_time": "2019-01-21T09:27:45.398970Z"
    }
   },
   "outputs": [
    {
     "data": {
      "text/plain": [
       "0.98261668644943911"
      ]
     },
     "execution_count": 179,
     "metadata": {},
     "output_type": "execute_result"
    }
   ],
   "source": [
    "accuracy_score(y_test,y_lr_predict)"
   ]
  },
  {
   "cell_type": "code",
   "execution_count": 180,
   "metadata": {
    "ExecuteTime": {
     "end_time": "2019-01-21T09:27:46.132765Z",
     "start_time": "2019-01-21T09:27:46.116321Z"
    }
   },
   "outputs": [
    {
     "data": {
      "text/plain": [
       "0.98671360912024808"
      ]
     },
     "execution_count": 180,
     "metadata": {},
     "output_type": "execute_result"
    }
   ],
   "source": [
    "precision_score(y_test,y_lr_predict)"
   ]
  },
  {
   "cell_type": "code",
   "execution_count": 181,
   "metadata": {
    "ExecuteTime": {
     "end_time": "2019-01-21T09:27:46.817629Z",
     "start_time": "2019-01-21T09:27:46.801144Z"
    }
   },
   "outputs": [
    {
     "data": {
      "text/plain": [
       "0.99421428269774903"
      ]
     },
     "execution_count": 181,
     "metadata": {},
     "output_type": "execute_result"
    }
   ],
   "source": [
    "recall_score(y_test,y_lr_predict)"
   ]
  },
  {
   "cell_type": "code",
   "execution_count": 182,
   "metadata": {
    "ExecuteTime": {
     "end_time": "2019-01-21T09:27:47.611423Z",
     "start_time": "2019-01-21T09:27:47.595833Z"
    }
   },
   "outputs": [
    {
     "data": {
      "text/plain": [
       "0.99044974546678444"
      ]
     },
     "execution_count": 182,
     "metadata": {},
     "output_type": "execute_result"
    }
   ],
   "source": [
    "f1_score(y_test,y_lr_predict)"
   ]
  },
  {
   "cell_type": "code",
   "execution_count": null,
   "metadata": {},
   "outputs": [],
   "source": []
  },
  {
   "cell_type": "markdown",
   "metadata": {},
   "source": [
    "#### 从Score上看 Logistic Regression>Naive Bayes"
   ]
  },
  {
   "cell_type": "markdown",
   "metadata": {},
   "source": [
    "## 查找相似性文本"
   ]
  },
  {
   "cell_type": "code",
   "execution_count": 206,
   "metadata": {
    "ExecuteTime": {
     "end_time": "2019-01-22T02:23:02.440151Z",
     "start_time": "2019-01-22T02:23:02.426546Z"
    }
   },
   "outputs": [],
   "source": [
    "all_predict=lr_clf.predict(tfidf)"
   ]
  },
  {
   "cell_type": "code",
   "execution_count": 207,
   "metadata": {
    "ExecuteTime": {
     "end_time": "2019-01-22T02:23:03.020689Z",
     "start_time": "2019-01-22T02:23:03.015044Z"
    }
   },
   "outputs": [
    {
     "data": {
      "text/plain": [
       "array([0, 0, 0, ..., 1, 1, 1])"
      ]
     },
     "execution_count": 207,
     "metadata": {},
     "output_type": "execute_result"
    }
   ],
   "source": [
    "all_predict"
   ]
  },
  {
   "cell_type": "code",
   "execution_count": 208,
   "metadata": {
    "ExecuteTime": {
     "end_time": "2019-01-22T02:23:03.742190Z",
     "start_time": "2019-01-22T02:23:03.738922Z"
    }
   },
   "outputs": [],
   "source": [
    "suspect_xinhua=[]"
   ]
  },
  {
   "cell_type": "code",
   "execution_count": 209,
   "metadata": {
    "ExecuteTime": {
     "end_time": "2019-01-22T02:23:05.102376Z",
     "start_time": "2019-01-22T02:23:05.066730Z"
    }
   },
   "outputs": [],
   "source": [
    "for i in range(len(all_predict)):\n",
    "    if all_predict[i]==1 and label[i]==0:\n",
    "        suspect_xinhua.append(i)"
   ]
  },
  {
   "cell_type": "code",
   "execution_count": 210,
   "metadata": {
    "ExecuteTime": {
     "end_time": "2019-01-22T02:23:05.897309Z",
     "start_time": "2019-01-22T02:23:05.884302Z"
    }
   },
   "outputs": [
    {
     "data": {
      "text/plain": [
       "[16,\n",
       " 37,\n",
       " 56,\n",
       " 61,\n",
       " 63,\n",
       " 68,\n",
       " 70,\n",
       " 71,\n",
       " 94,\n",
       " 96,\n",
       " 121,\n",
       " 125,\n",
       " 135,\n",
       " 146,\n",
       " 153,\n",
       " 160,\n",
       " 221,\n",
       " 228,\n",
       " 235,\n",
       " 246,\n",
       " 277,\n",
       " 280,\n",
       " 294,\n",
       " 319,\n",
       " 340,\n",
       " 384,\n",
       " 392,\n",
       " 404,\n",
       " 405,\n",
       " 422,\n",
       " 423,\n",
       " 424,\n",
       " 449,\n",
       " 458,\n",
       " 471,\n",
       " 489,\n",
       " 524,\n",
       " 548,\n",
       " 561,\n",
       " 593,\n",
       " 620,\n",
       " 627,\n",
       " 631,\n",
       " 634,\n",
       " 660,\n",
       " 665,\n",
       " 670,\n",
       " 675,\n",
       " 680,\n",
       " 685,\n",
       " 687,\n",
       " 718,\n",
       " 719,\n",
       " 728,\n",
       " 741,\n",
       " 755,\n",
       " 765,\n",
       " 773,\n",
       " 776,\n",
       " 777,\n",
       " 780,\n",
       " 786,\n",
       " 789,\n",
       " 795,\n",
       " 810,\n",
       " 818,\n",
       " 821,\n",
       " 865,\n",
       " 869,\n",
       " 914,\n",
       " 934,\n",
       " 939,\n",
       " 953,\n",
       " 955,\n",
       " 974,\n",
       " 978,\n",
       " 985,\n",
       " 1018,\n",
       " 1025,\n",
       " 1030,\n",
       " 1036,\n",
       " 1055,\n",
       " 1105,\n",
       " 1116,\n",
       " 1127,\n",
       " 1142,\n",
       " 1155,\n",
       " 1176,\n",
       " 1183,\n",
       " 1184,\n",
       " 1226,\n",
       " 1227,\n",
       " 1228,\n",
       " 1275,\n",
       " 1307,\n",
       " 1325,\n",
       " 1327,\n",
       " 1328,\n",
       " 1346,\n",
       " 1347,\n",
       " 1367,\n",
       " 1376,\n",
       " 1377,\n",
       " 1381,\n",
       " 1389,\n",
       " 1390,\n",
       " 1402,\n",
       " 1407,\n",
       " 1414,\n",
       " 1417,\n",
       " 1439,\n",
       " 1441,\n",
       " 1447,\n",
       " 1457,\n",
       " 1472,\n",
       " 1473,\n",
       " 1476,\n",
       " 1477,\n",
       " 1479,\n",
       " 1482,\n",
       " 1484,\n",
       " 1487,\n",
       " 1499,\n",
       " 1518,\n",
       " 1551,\n",
       " 1552,\n",
       " 1553,\n",
       " 1566,\n",
       " 1570,\n",
       " 1579,\n",
       " 1618,\n",
       " 1630,\n",
       " 1657,\n",
       " 1667,\n",
       " 1684,\n",
       " 1687,\n",
       " 1689,\n",
       " 1711,\n",
       " 1720,\n",
       " 1739,\n",
       " 1747,\n",
       " 1768,\n",
       " 1777,\n",
       " 1794,\n",
       " 1797,\n",
       " 1798,\n",
       " 1799,\n",
       " 1807,\n",
       " 1813,\n",
       " 1815,\n",
       " 1818,\n",
       " 1828,\n",
       " 1862,\n",
       " 1867,\n",
       " 1885,\n",
       " 1898,\n",
       " 1910,\n",
       " 1916,\n",
       " 1939,\n",
       " 1977,\n",
       " 1989,\n",
       " 1995,\n",
       " 2064,\n",
       " 2078,\n",
       " 2144,\n",
       " 2182,\n",
       " 2194,\n",
       " 2209,\n",
       " 2212,\n",
       " 2242,\n",
       " 2255,\n",
       " 2268,\n",
       " 2270,\n",
       " 2279,\n",
       " 2297,\n",
       " 2330,\n",
       " 2341,\n",
       " 2352,\n",
       " 2372,\n",
       " 2373,\n",
       " 2395,\n",
       " 2443,\n",
       " 2487,\n",
       " 2523,\n",
       " 2540,\n",
       " 2555,\n",
       " 2576,\n",
       " 2617,\n",
       " 2626,\n",
       " 2660,\n",
       " 2662,\n",
       " 2684,\n",
       " 2777,\n",
       " 2832,\n",
       " 2833,\n",
       " 2839,\n",
       " 2848,\n",
       " 2888,\n",
       " 2899,\n",
       " 2901,\n",
       " 2913,\n",
       " 2918,\n",
       " 2948,\n",
       " 2974,\n",
       " 2979,\n",
       " 3017,\n",
       " 3020,\n",
       " 3025,\n",
       " 3039,\n",
       " 3052,\n",
       " 3100,\n",
       " 3128,\n",
       " 3130,\n",
       " 3143,\n",
       " 3156,\n",
       " 3170,\n",
       " 3179,\n",
       " 3217,\n",
       " 3227,\n",
       " 3236,\n",
       " 3246,\n",
       " 3253,\n",
       " 3259,\n",
       " 3271,\n",
       " 3292,\n",
       " 3304,\n",
       " 3314,\n",
       " 3319,\n",
       " 3340,\n",
       " 3342,\n",
       " 3350,\n",
       " 3374,\n",
       " 3385,\n",
       " 3388,\n",
       " 3392,\n",
       " 3395,\n",
       " 3398,\n",
       " 3399,\n",
       " 3402,\n",
       " 3403,\n",
       " 3405,\n",
       " 3415,\n",
       " 3429,\n",
       " 3482,\n",
       " 3483,\n",
       " 3488,\n",
       " 3516,\n",
       " 3529,\n",
       " 3531,\n",
       " 3540,\n",
       " 3552,\n",
       " 3564,\n",
       " 3573,\n",
       " 3575,\n",
       " 3580,\n",
       " 3596,\n",
       " 3611,\n",
       " 3616,\n",
       " 3622,\n",
       " 3624,\n",
       " 3631,\n",
       " 3632,\n",
       " 3646,\n",
       " 3648,\n",
       " 3656,\n",
       " 3668,\n",
       " 3674,\n",
       " 3678,\n",
       " 3687,\n",
       " 3699,\n",
       " 3708,\n",
       " 3720,\n",
       " 3742,\n",
       " 3766,\n",
       " 3820,\n",
       " 3821,\n",
       " 3831,\n",
       " 3861,\n",
       " 3882,\n",
       " 3884,\n",
       " 3886,\n",
       " 3910,\n",
       " 3913,\n",
       " 3935,\n",
       " 3961,\n",
       " 3978,\n",
       " 3987,\n",
       " 3988,\n",
       " 4013,\n",
       " 4017,\n",
       " 4023,\n",
       " 4040,\n",
       " 4046,\n",
       " 4053,\n",
       " 4068,\n",
       " 4071,\n",
       " 4092,\n",
       " 4098,\n",
       " 4103,\n",
       " 4107,\n",
       " 4119,\n",
       " 4124,\n",
       " 4131,\n",
       " 4154,\n",
       " 4182,\n",
       " 4186,\n",
       " 4217,\n",
       " 4294,\n",
       " 4296,\n",
       " 4363,\n",
       " 4375,\n",
       " 4376,\n",
       " 4378,\n",
       " 4379,\n",
       " 4385,\n",
       " 4392,\n",
       " 4395,\n",
       " 4411,\n",
       " 4414,\n",
       " 4436,\n",
       " 4448,\n",
       " 4500,\n",
       " 4518,\n",
       " 4536,\n",
       " 4539,\n",
       " 4552,\n",
       " 4569,\n",
       " 4576,\n",
       " 4592,\n",
       " 4604,\n",
       " 4641,\n",
       " 4647,\n",
       " 4651,\n",
       " 4665,\n",
       " 4671,\n",
       " 4684,\n",
       " 4685,\n",
       " 4692,\n",
       " 4693,\n",
       " 4696,\n",
       " 4703,\n",
       " 4728,\n",
       " 4729,\n",
       " 4755,\n",
       " 4772,\n",
       " 4785,\n",
       " 4817,\n",
       " 4846,\n",
       " 4874,\n",
       " 4892,\n",
       " 4906,\n",
       " 4929,\n",
       " 4931,\n",
       " 4967,\n",
       " 4969,\n",
       " 4970,\n",
       " 4973,\n",
       " 4996,\n",
       " 5010,\n",
       " 5046,\n",
       " 5048,\n",
       " 5093,\n",
       " 5103,\n",
       " 5112,\n",
       " 5122,\n",
       " 5151,\n",
       " 5156,\n",
       " 5162,\n",
       " 5166,\n",
       " 5189,\n",
       " 5201,\n",
       " 5206,\n",
       " 5267,\n",
       " 5270,\n",
       " 5282,\n",
       " 5295,\n",
       " 5297,\n",
       " 5298,\n",
       " 5345,\n",
       " 5356,\n",
       " 5359,\n",
       " 5361,\n",
       " 5362,\n",
       " 5373,\n",
       " 5374,\n",
       " 5384,\n",
       " 5423,\n",
       " 5427,\n",
       " 5437,\n",
       " 5443,\n",
       " 5448,\n",
       " 5462,\n",
       " 5512,\n",
       " 5516,\n",
       " 5519,\n",
       " 5539,\n",
       " 5540,\n",
       " 5546,\n",
       " 5551,\n",
       " 5554,\n",
       " 5586,\n",
       " 5621,\n",
       " 5622,\n",
       " 5651,\n",
       " 5657,\n",
       " 5665,\n",
       " 5667,\n",
       " 5670,\n",
       " 5671,\n",
       " 5672,\n",
       " 5681,\n",
       " 5699,\n",
       " 5703,\n",
       " 5705,\n",
       " 5707,\n",
       " 5709,\n",
       " 5722,\n",
       " 5724,\n",
       " 5727,\n",
       " 5729,\n",
       " 5732,\n",
       " 5741,\n",
       " 5773,\n",
       " 5809,\n",
       " 5819,\n",
       " 5829,\n",
       " 5833,\n",
       " 5837,\n",
       " 5840,\n",
       " 5851,\n",
       " 5858,\n",
       " 5859,\n",
       " 5868,\n",
       " 5869,\n",
       " 5871,\n",
       " 5876,\n",
       " 5885,\n",
       " 5887,\n",
       " 5892,\n",
       " 5901,\n",
       " 5924,\n",
       " 5947,\n",
       " 5956,\n",
       " 5958,\n",
       " 5961,\n",
       " 5963,\n",
       " 5964,\n",
       " 5975,\n",
       " 5978,\n",
       " 5984,\n",
       " 5989,\n",
       " 5993,\n",
       " 5996,\n",
       " 5998,\n",
       " 6006,\n",
       " 6023,\n",
       " 6025,\n",
       " 6029,\n",
       " 6036,\n",
       " 6037,\n",
       " 6041,\n",
       " 6057,\n",
       " 6064,\n",
       " 6066,\n",
       " 6068,\n",
       " 6071,\n",
       " 6080,\n",
       " 6081,\n",
       " 6086,\n",
       " 6088,\n",
       " 6100,\n",
       " 6101,\n",
       " 6109,\n",
       " 6113,\n",
       " 6114,\n",
       " 6116,\n",
       " 6132,\n",
       " 6144,\n",
       " 6145,\n",
       " 6164,\n",
       " 6166,\n",
       " 6177,\n",
       " 6183,\n",
       " 6189,\n",
       " 6191,\n",
       " 6193,\n",
       " 6219,\n",
       " 6227,\n",
       " 6228,\n",
       " 6232,\n",
       " 6236,\n",
       " 6238,\n",
       " 6247,\n",
       " 6257,\n",
       " 6264,\n",
       " 6267,\n",
       " 6270,\n",
       " 6272,\n",
       " 6277,\n",
       " 6279,\n",
       " 6280,\n",
       " 6284,\n",
       " 6285,\n",
       " 6286,\n",
       " 6292,\n",
       " 6293,\n",
       " 6295,\n",
       " 6296,\n",
       " 6298,\n",
       " 6301,\n",
       " 6304,\n",
       " 6305,\n",
       " 6308,\n",
       " 6312,\n",
       " 6313,\n",
       " 6317,\n",
       " 6320,\n",
       " 6325,\n",
       " 6326,\n",
       " 6331,\n",
       " 6333,\n",
       " 6339,\n",
       " 6340,\n",
       " 6351,\n",
       " 6359,\n",
       " 6373,\n",
       " 6388,\n",
       " 6389,\n",
       " 6396,\n",
       " 6397,\n",
       " 6400,\n",
       " 6405,\n",
       " 6409,\n",
       " 6413,\n",
       " 6415,\n",
       " 6419,\n",
       " 6422,\n",
       " 6423,\n",
       " 6429,\n",
       " 6437,\n",
       " 6444,\n",
       " 6451,\n",
       " 6458,\n",
       " 6466,\n",
       " 6473,\n",
       " 6478,\n",
       " 6480,\n",
       " 6495,\n",
       " 6498,\n",
       " 6503,\n",
       " 6506,\n",
       " 6510,\n",
       " 6515,\n",
       " 6525,\n",
       " 6533,\n",
       " 6540,\n",
       " 6543,\n",
       " 6545,\n",
       " 6552,\n",
       " 6556,\n",
       " 6569,\n",
       " 6584,\n",
       " 6587,\n",
       " 6601,\n",
       " 6629,\n",
       " 6643,\n",
       " 6650,\n",
       " 6666,\n",
       " 6679,\n",
       " 6695,\n",
       " 6710,\n",
       " 6732,\n",
       " 6757,\n",
       " 6765,\n",
       " 6775,\n",
       " 6776,\n",
       " 6810,\n",
       " 6839,\n",
       " 6847,\n",
       " 6853,\n",
       " 6854,\n",
       " 6867,\n",
       " 6879,\n",
       " 6886,\n",
       " 6895,\n",
       " 6902,\n",
       " 6908,\n",
       " 6915,\n",
       " 6920,\n",
       " 6927,\n",
       " 6930,\n",
       " 6939,\n",
       " 6948,\n",
       " 6966,\n",
       " 6970,\n",
       " 6973,\n",
       " 6980,\n",
       " 6988,\n",
       " 6995,\n",
       " 6998,\n",
       " 6999,\n",
       " 7003,\n",
       " 7004,\n",
       " 7010,\n",
       " 7013,\n",
       " 7015,\n",
       " 7041,\n",
       " 7049,\n",
       " 7050,\n",
       " 7053,\n",
       " 7054,\n",
       " 7064,\n",
       " 7092,\n",
       " 7105,\n",
       " 7114,\n",
       " 7120,\n",
       " 7124,\n",
       " 7127,\n",
       " 7128,\n",
       " 7153,\n",
       " 7158,\n",
       " 7162,\n",
       " 7164,\n",
       " 7166,\n",
       " 7169,\n",
       " 7175,\n",
       " 7177,\n",
       " 7191,\n",
       " 7200,\n",
       " 7211,\n",
       " 7213,\n",
       " 7214,\n",
       " 7215,\n",
       " 7224,\n",
       " 7239,\n",
       " 7240,\n",
       " 7247,\n",
       " 7251,\n",
       " 7253,\n",
       " 7260,\n",
       " 7262,\n",
       " 7275,\n",
       " 7281,\n",
       " 7284,\n",
       " 7300,\n",
       " 7304,\n",
       " 7309,\n",
       " 7311,\n",
       " 7316,\n",
       " 7318,\n",
       " 7329,\n",
       " 7341,\n",
       " 7353,\n",
       " 7357,\n",
       " 7366,\n",
       " 7371,\n",
       " 7374,\n",
       " 7377,\n",
       " 7383,\n",
       " 7396,\n",
       " 7400,\n",
       " 7401,\n",
       " 7414,\n",
       " 7416,\n",
       " 7420,\n",
       " 7421,\n",
       " 7428,\n",
       " 7437,\n",
       " 7451,\n",
       " 7458,\n",
       " 7460,\n",
       " 7467,\n",
       " 7475,\n",
       " 7476,\n",
       " 7478,\n",
       " 7484,\n",
       " 7490,\n",
       " 7493,\n",
       " 7494,\n",
       " 7498,\n",
       " 7501,\n",
       " 7504,\n",
       " 7510,\n",
       " 7518,\n",
       " 7536,\n",
       " 7541,\n",
       " 7553,\n",
       " 7571,\n",
       " 7576,\n",
       " 7585,\n",
       " 7597,\n",
       " 7598,\n",
       " 7600,\n",
       " 7605,\n",
       " 7606,\n",
       " 7607,\n",
       " 7613,\n",
       " 7621,\n",
       " 7628,\n",
       " 7629,\n",
       " 7635,\n",
       " 7636,\n",
       " 7640,\n",
       " 7645,\n",
       " 7650,\n",
       " 7654,\n",
       " 7656,\n",
       " 7659,\n",
       " 7660,\n",
       " 7661,\n",
       " 7666,\n",
       " 7671,\n",
       " 7676,\n",
       " 7678,\n",
       " 7682,\n",
       " 7687,\n",
       " 7690,\n",
       " 7708,\n",
       " 7719,\n",
       " 7729,\n",
       " 7733,\n",
       " 7738,\n",
       " 7750,\n",
       " 7754,\n",
       " 7759,\n",
       " 7781,\n",
       " 7793,\n",
       " 7800,\n",
       " 7811,\n",
       " 7813,\n",
       " 7817,\n",
       " 7825,\n",
       " 7828,\n",
       " 7832,\n",
       " 7839,\n",
       " 7845,\n",
       " 7847,\n",
       " 7850,\n",
       " 7855,\n",
       " 7860,\n",
       " 7862,\n",
       " 7871,\n",
       " 7878,\n",
       " 7882,\n",
       " 7890,\n",
       " 7896,\n",
       " 7900,\n",
       " 7914,\n",
       " 7921,\n",
       " 7931,\n",
       " 7934,\n",
       " 7936,\n",
       " 7950,\n",
       " 7971,\n",
       " 7972,\n",
       " 7977,\n",
       " 7978,\n",
       " 7981,\n",
       " 7984,\n",
       " 7988,\n",
       " 7992,\n",
       " 7994,\n",
       " 8022,\n",
       " 8034,\n",
       " 8035,\n",
       " 8043,\n",
       " 8076,\n",
       " 8078,\n",
       " 8087,\n",
       " 8110,\n",
       " 8120,\n",
       " 8126,\n",
       " 8127,\n",
       " 8128,\n",
       " 8136,\n",
       " 8145,\n",
       " 8211,\n",
       " 8213,\n",
       " 8227,\n",
       " 8229,\n",
       " 8242,\n",
       " 8245,\n",
       " 8248,\n",
       " 8249,\n",
       " 8256,\n",
       " 8262,\n",
       " 8268,\n",
       " 8280,\n",
       " 8281,\n",
       " 8282,\n",
       " 8283,\n",
       " 8290,\n",
       " 8291,\n",
       " 8295,\n",
       " 8296,\n",
       " 8297,\n",
       " 8303,\n",
       " 8309,\n",
       " 8311,\n",
       " 8316,\n",
       " 8323,\n",
       " 8329,\n",
       " 8334,\n",
       " 8338,\n",
       " 8343,\n",
       " 8348,\n",
       " 8359,\n",
       " 8361,\n",
       " 8368,\n",
       " 8380,\n",
       " 8382,\n",
       " 8387,\n",
       " 8389,\n",
       " 8390,\n",
       " 8397,\n",
       " 8398,\n",
       " 8405,\n",
       " 8436,\n",
       " 8444,\n",
       " 8446,\n",
       " 8449,\n",
       " 8452,\n",
       " 8454,\n",
       " 8457,\n",
       " 8458,\n",
       " 8464,\n",
       " 8465,\n",
       " 8471,\n",
       " 8472,\n",
       " 8483,\n",
       " 8489,\n",
       " 8491,\n",
       " 8494,\n",
       " 8496,\n",
       " 8499,\n",
       " 8501,\n",
       " 8503,\n",
       " 8506,\n",
       " 8509,\n",
       " 8518,\n",
       " 8525,\n",
       " 8530,\n",
       " 8532,\n",
       " 8533,\n",
       " 8536,\n",
       " 8543,\n",
       " 8546,\n",
       " 8548,\n",
       " 8551,\n",
       " 8552,\n",
       " 8555]"
      ]
     },
     "execution_count": 210,
     "metadata": {},
     "output_type": "execute_result"
    }
   ],
   "source": [
    "suspect_xinhua"
   ]
  },
  {
   "cell_type": "code",
   "execution_count": 198,
   "metadata": {
    "ExecuteTime": {
     "end_time": "2019-01-22T02:15:32.056096Z",
     "start_time": "2019-01-22T02:15:32.041760Z"
    }
   },
   "outputs": [
    {
     "data": {
      "text/plain": [
       "id                                                     89601\n",
       "author                                                   NaN\n",
       "source                                              solidot@\n",
       "content    九成以上的源包用逐位对应的方式构建，未来版本的 Debian 还将提供验证包的工具和元数据；...\n",
       "feature    {\"type\":\"软件\",\"site\":\"cnbeta\",\"commentNum\":\"12\"...\n",
       "title                                    Debian 9 Stretch 发布\n",
       "url           http://www.cnbeta.com/articles/soft/623605.htm\n",
       "Name: 16, dtype: object"
      ]
     },
     "execution_count": 198,
     "metadata": {},
     "output_type": "execute_result"
    }
   ],
   "source": [
    "news.iloc[16]"
   ]
  },
  {
   "cell_type": "code",
   "execution_count": null,
   "metadata": {},
   "outputs": [],
   "source": []
  },
  {
   "cell_type": "markdown",
   "metadata": {},
   "source": [
    "## Advanced : find the copied part from original text"
   ]
  },
  {
   "cell_type": "code",
   "execution_count": null,
   "metadata": {},
   "outputs": [],
   "source": []
  }
 ],
 "metadata": {
  "kernelspec": {
   "display_name": "Python 3",
   "language": "python",
   "name": "python3"
  },
  "language_info": {
   "codemirror_mode": {
    "name": "ipython",
    "version": 3
   },
   "file_extension": ".py",
   "mimetype": "text/x-python",
   "name": "python",
   "nbconvert_exporter": "python",
   "pygments_lexer": "ipython3",
   "version": "3.7.0"
  }
 },
 "nbformat": 4,
 "nbformat_minor": 2
}
